{
  "nbformat": 4,
  "nbformat_minor": 0,
  "metadata": {
    "colab": {
      "provenance": [],
      "authorship_tag": "ABX9TyMv+QexCtL+7YIImIA1cRCC",
      "include_colab_link": true
    },
    "kernelspec": {
      "name": "python3",
      "display_name": "Python 3"
    },
    "language_info": {
      "name": "python"
    }
  },
  "cells": [
    {
      "cell_type": "markdown",
      "metadata": {
        "id": "view-in-github",
        "colab_type": "text"
      },
      "source": [
        "<a href=\"https://colab.research.google.com/github/vibeshvidya/AWS-Demos/blob/master/Assignment_3.ipynb\" target=\"_parent\"><img src=\"https://colab.research.google.com/assets/colab-badge.svg\" alt=\"Open In Colab\"/></a>"
      ]
    },
    {
      "cell_type": "code",
      "source": [
        "def middle_value(a, b, c):\n",
        "    if (a > b and a < c) or (a > c and a < b):\n",
        "        return a\n",
        "    elif (b > a and b < c) or (b > c and b < a):\n",
        "        return b\n",
        "    else:\n",
        "        return c\n",
        "\n",
        "# ---- Test the function with different inputs ----\n",
        "print(middle_value(24, 18, 29))\n",
        "print(middle_value(500, 680, 890))\n",
        "print(middle_value(1020, 1022, 12033))\n",
        "print(middle_value(282, 2828, 22))\n",
        "print(middle_value(9292, 229, 2020))"
      ],
      "metadata": {
        "colab": {
          "base_uri": "https://localhost:8080/"
        },
        "id": "Ygjt5aeZpH-w",
        "outputId": "a53c7d2d-17ba-42bf-b942-6da444a60155"
      },
      "execution_count": 3,
      "outputs": [
        {
          "output_type": "stream",
          "name": "stdout",
          "text": [
            "24\n",
            "680\n",
            "1022\n",
            "282\n",
            "2020\n"
          ]
        }
      ]
    },
    {
      "cell_type": "code",
      "source": [
        "#Build a calculator in Python using functions\n",
        "\n",
        "def add(a, b):\n",
        "    return a + b\n",
        "def subtract(a, b):\n",
        "    return a - b\n",
        "def multiply(a, b):\n",
        "    return a * b\n",
        "def divide(a, b):\n",
        "    return a / b\n",
        "\n",
        "#calculator build logic\n",
        "\n",
        "def calculator():\n",
        "  print(\"Welcome to the calculator!\")\n",
        "  print(\"--------------------------\")\n",
        "  print(\"Select an operation\")\n",
        "  print(\"1. Addition\")\n",
        "  print(\"2. Subtraction\")\n",
        "  print(\"3. Multiplication\")\n",
        "  print(\"4. Division\")\n",
        "\n",
        "  choice = input(\"Enter your choice (1,2,3,4)\")\n",
        "\n",
        "  num1=float(input(\"Enter first number\"))\n",
        "  num2=float(input(\"Enter second number\"))\n",
        "\n",
        "  if choice=='1':\n",
        "    print(f\"Result: {add(num1,num2)}\")\n",
        "  elif choice=='2':\n",
        "    print(f\"Result: {subtract(num1,num2)}\")\n",
        "  elif choice=='3':\n",
        "    print(f\"Result: {multiply(num1,num2)}\")\n",
        "  elif choice=='4':\n",
        "    print(f\"Result: {divide(num1,num2)}\")\n",
        "  else:\n",
        "    print(\"Invalid input. Please choose between 1-4\")\n",
        "\n",
        "calculator()\n",
        "\n",
        "\n"
      ],
      "metadata": {
        "colab": {
          "base_uri": "https://localhost:8080/"
        },
        "id": "m_FK9JU9qHZT",
        "outputId": "b390dddd-36d3-4973-a318-3d58713f87cf"
      },
      "execution_count": 11,
      "outputs": [
        {
          "output_type": "stream",
          "name": "stdout",
          "text": [
            "Welcome to the calculator!\n",
            "--------------------------\n",
            "Select an operation\n",
            "1. Addition\n",
            "2. Subtraction\n",
            "3. Multiplication\n",
            "4. Division\n",
            "Enter your choice (1,2,3,4)2\n",
            "Enter first number2\n",
            "Enter second number44\n",
            "Result: -42.0\n"
          ]
        }
      ]
    },
    {
      "cell_type": "code",
      "source": [
        "#Pythagorean theorem\n",
        "\n",
        "import math\n",
        "\n",
        "def hypotenuse(a,b):\n",
        "  return math.sqrt(a**2 + b**2)\n",
        "\n",
        "print(hypotenuse(3,4))\n"
      ],
      "metadata": {
        "colab": {
          "base_uri": "https://localhost:8080/"
        },
        "id": "FCt_69ZauLkV",
        "outputId": "14b25d52-b9c7-4ed0-9aa2-52e160d3afe0"
      },
      "execution_count": 12,
      "outputs": [
        {
          "output_type": "stream",
          "name": "stdout",
          "text": [
            "5.0\n"
          ]
        }
      ]
    }
  ]
}