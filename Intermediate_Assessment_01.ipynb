{
  "nbformat": 4,
  "nbformat_minor": 0,
  "metadata": {
    "colab": {
      "provenance": [],
      "authorship_tag": "ABX9TyNj3/fwJ6dUWDEe7rb2z4Mp",
      "include_colab_link": true
    },
    "kernelspec": {
      "name": "python3",
      "display_name": "Python 3"
    },
    "language_info": {
      "name": "python"
    }
  },
  "cells": [
    {
      "cell_type": "markdown",
      "metadata": {
        "id": "view-in-github",
        "colab_type": "text"
      },
      "source": [
        "<a href=\"https://colab.research.google.com/github/vibeshvidya/AWS-Demos/blob/master/Intermediate_Assessment_01.ipynb\" target=\"_parent\"><img src=\"https://colab.research.google.com/assets/colab-badge.svg\" alt=\"Open In Colab\"/></a>"
      ]
    },
    {
      "cell_type": "code",
      "execution_count": 3,
      "metadata": {
        "colab": {
          "base_uri": "https://localhost:8080/"
        },
        "id": "1eJ9te4znPCc",
        "outputId": "87b1b0e2-68fe-429a-84dd-ca57c6a587cb"
      },
      "outputs": [
        {
          "output_type": "stream",
          "name": "stdout",
          "text": [
            "enter a string: computer\n",
            "not palindrome\n"
          ]
        }
      ],
      "source": [
        "#Write a python program to check if the entered string is palindrome or not. Get the input string from user (A palindrome is a word, phrase,\n",
        "#number, or sequence of characters that reads the same backward as forward)\n",
        "#Sample input : malayalam\n",
        "#Sample output : palindrome\n",
        "#Sample input : computer\n",
        "#Sample output : not palindrome\n",
        "\n",
        "string=input(\"enter a string: \")\n",
        "if(string==string[::-1]):\n",
        "    print(\"palindrome\")\n",
        "else:\n",
        "    print(\"not palindrome\")\n",
        "\n",
        "\n",
        "\n"
      ]
    },
    {
      "cell_type": "code",
      "source": [
        "#Write a python program to check if the given number is divisible by 9\n",
        "\n",
        "number=int(input(\"enter a number: \"))\n",
        "if(number%9==0):\n",
        "    print(\"divisible by 9\")\n",
        "else:\n",
        "    print(\"not divisible by 9\")"
      ],
      "metadata": {
        "colab": {
          "base_uri": "https://localhost:8080/"
        },
        "id": "t8zpZ2pkvT0t",
        "outputId": "28781501-30bc-4ec7-f4f6-cd65cc6810e5"
      },
      "execution_count": 4,
      "outputs": [
        {
          "output_type": "stream",
          "name": "stdout",
          "text": [
            "enter a number: 10\n",
            "not divisible by 9\n"
          ]
        }
      ]
    },
    {
      "cell_type": "code",
      "source": [
        "#3. Write a python program to print odd numbers between 300 and 500\n",
        "\n",
        "#for i in range(300,500):\n",
        "\n",
        "for i in range(301,500,2):\n",
        "    print(i)"
      ],
      "metadata": {
        "colab": {
          "base_uri": "https://localhost:8080/"
        },
        "id": "GRngoCwCvqCK",
        "outputId": "cbcb2c6b-6351-435d-a2fe-13dbe4c1ad7e"
      },
      "execution_count": 7,
      "outputs": [
        {
          "output_type": "stream",
          "name": "stdout",
          "text": [
            "301\n",
            "303\n",
            "305\n",
            "307\n",
            "309\n",
            "311\n",
            "313\n",
            "315\n",
            "317\n",
            "319\n",
            "321\n",
            "323\n",
            "325\n",
            "327\n",
            "329\n",
            "331\n",
            "333\n",
            "335\n",
            "337\n",
            "339\n",
            "341\n",
            "343\n",
            "345\n",
            "347\n",
            "349\n",
            "351\n",
            "353\n",
            "355\n",
            "357\n",
            "359\n",
            "361\n",
            "363\n",
            "365\n",
            "367\n",
            "369\n",
            "371\n",
            "373\n",
            "375\n",
            "377\n",
            "379\n",
            "381\n",
            "383\n",
            "385\n",
            "387\n",
            "389\n",
            "391\n",
            "393\n",
            "395\n",
            "397\n",
            "399\n",
            "401\n",
            "403\n",
            "405\n",
            "407\n",
            "409\n",
            "411\n",
            "413\n",
            "415\n",
            "417\n",
            "419\n",
            "421\n",
            "423\n",
            "425\n",
            "427\n",
            "429\n",
            "431\n",
            "433\n",
            "435\n",
            "437\n",
            "439\n",
            "441\n",
            "443\n",
            "445\n",
            "447\n",
            "449\n",
            "451\n",
            "453\n",
            "455\n",
            "457\n",
            "459\n",
            "461\n",
            "463\n",
            "465\n",
            "467\n",
            "469\n",
            "471\n",
            "473\n",
            "475\n",
            "477\n",
            "479\n",
            "481\n",
            "483\n",
            "485\n",
            "487\n",
            "489\n",
            "491\n",
            "493\n",
            "495\n",
            "497\n",
            "499\n"
          ]
        }
      ]
    },
    {
      "cell_type": "code",
      "source": [
        "#4. Get two numbers from user and print their sum, difference, product and quotient after division\n",
        "\n",
        "a=int(input(\"enter first number: \"))\n",
        "b=int(input(\"enter second number: \"))\n",
        "print(\"sum: \",a+b)\n",
        "print(\"difference: \",a-b)\n",
        "print(\"product: \",a*b)"
      ],
      "metadata": {
        "colab": {
          "base_uri": "https://localhost:8080/"
        },
        "id": "UE_c7sp5wNwU",
        "outputId": "d393dd86-5754-40b0-94ad-cad76c0376fb"
      },
      "execution_count": 8,
      "outputs": [
        {
          "output_type": "stream",
          "name": "stdout",
          "text": [
            "enter first number: 10\n",
            "enter second number: 21\n",
            "sum:  31\n",
            "difference:  -11\n",
            "product:  210\n"
          ]
        }
      ]
    },
    {
      "cell_type": "code",
      "source": [
        "#5. Write a python function to find the product of 2 numbers\n",
        "\n",
        "def product(a,b):\n",
        "    return a*b\n",
        "while True:\n",
        "    try:\n",
        "        a=int(input(\"enter first number: \"))\n",
        "        b=int(input(\"enter second number: \"))\n",
        "        print(\"product: \",product(a,b))\n",
        "        break\n",
        "    except ValueError:\n",
        "        print(\"Invalid input. Please enter integers only.\")"
      ],
      "metadata": {
        "colab": {
          "base_uri": "https://localhost:8080/"
        },
        "id": "lPaBUyWXwric",
        "outputId": "a74447d4-25b2-40b7-ebaa-d652884096b2"
      },
      "execution_count": 12,
      "outputs": [
        {
          "output_type": "stream",
          "name": "stdout",
          "text": [
            "enter first number: 12.11\n",
            "Invalid input. Please enter integers only.\n",
            "enter first number: 11\n",
            "enter second number: 22\n",
            "product:  242\n"
          ]
        }
      ]
    },
    {
      "cell_type": "code",
      "source": [],
      "metadata": {
        "id": "yg9kWk6Nw10D"
      },
      "execution_count": null,
      "outputs": []
    }
  ]
}