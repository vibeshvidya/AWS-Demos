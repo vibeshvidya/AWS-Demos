{
  "nbformat": 4,
  "nbformat_minor": 0,
  "metadata": {
    "colab": {
      "provenance": [],
      "authorship_tag": "ABX9TyPa7K0eAwq/yIwAOBx+0Cim",
      "include_colab_link": true
    },
    "kernelspec": {
      "name": "python3",
      "display_name": "Python 3"
    },
    "language_info": {
      "name": "python"
    }
  },
  "cells": [
    {
      "cell_type": "markdown",
      "metadata": {
        "id": "view-in-github",
        "colab_type": "text"
      },
      "source": [
        "<a href=\"https://colab.research.google.com/github/vibeshvidya/AWS-Demos/blob/master/MST_Python_Day_3_Practice_Problems.ipynb\" target=\"_parent\"><img src=\"https://colab.research.google.com/assets/colab-badge.svg\" alt=\"Open In Colab\"/></a>"
      ]
    },
    {
      "cell_type": "code",
      "execution_count": 2,
      "metadata": {
        "colab": {
          "base_uri": "https://localhost:8080/"
        },
        "id": "3PMME1o7U4-M",
        "outputId": "95429f35-70b9-41b1-c824-3eead7848302"
      },
      "outputs": [
        {
          "output_type": "stream",
          "name": "stdout",
          "text": [
            "77\n"
          ]
        }
      ],
      "source": [
        "#1. Given the participants' score sheet for your University Sports Day, you are required to\n",
        "#find the runner-up score. You are given scores. Store them in a list and find the score of\n",
        "#the runner-up. (Create an array of scores and print the runner up score)\n",
        "\n",
        "scores =[19, 32, 10, 55, 31, 32, 94, 29, 10, 65, 77, 40, 40]\n",
        "scores=list(set(scores))\n",
        "scores.sort()\n",
        "print(scores[-2])\n",
        "\n",
        "#2. A dictionary is given D={‘John’ [25,32,43],’Peter’:[87,55,96],’Ram’:[58,55,43],’Meena’:[63,79,85]}\n",
        "#Get a name from user if the name in the dictionary change the values corresponding to\n",
        "#that user to [88,77,99] and print the dictionary. Else print ‘Name not found’"
      ]
    },
    {
      "cell_type": "code",
      "source": [
        "#A dictionary is given D={‘John’ [25,32,43],’Peter’:[87,55,96],’Ram’:[58,55,43],’Meena’:[63,79,85]}\n",
        "#Get a name from user if the name in the dictionary change the values corresponding to\n",
        "#that user to [88,77,99] and print the dictionary. Else print ‘Name not found’\n",
        "\n",
        "d = {\n",
        "    'vibesh':[25,32,43],\n",
        "    'silpa':[87,55,96],\n",
        "    'sree':[58,55,43],\n",
        "    'tejas':[63,79,85]\n",
        "    }\n",
        "name=input(\"enter a name\")\n",
        "if name in d:\n",
        "  d[name]=[88,77,99]\n",
        "  print(\"Updated values:\",d)\n",
        "else:\n",
        "  print(\"Name not found\")"
      ],
      "metadata": {
        "colab": {
          "base_uri": "https://localhost:8080/"
        },
        "id": "1wWuqRlHWVzA",
        "outputId": "df9d23b5-30a3-4dd2-d040-056450073caf"
      },
      "execution_count": 5,
      "outputs": [
        {
          "output_type": "stream",
          "name": "stdout",
          "text": [
            "enter a namevibesh\n",
            "Updated values: {'vibesh': [88, 77, 99], 'silpa': [87, 55, 96], 'sree': [58, 55, 43], 'tejas': [63, 79, 85]}\n"
          ]
        }
      ]
    },
    {
      "cell_type": "code",
      "source": [],
      "metadata": {
        "id": "x8bmhopakwNz"
      },
      "execution_count": null,
      "outputs": []
    }
  ]
}