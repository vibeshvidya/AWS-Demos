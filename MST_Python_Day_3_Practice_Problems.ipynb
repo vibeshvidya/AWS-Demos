{
  "nbformat": 4,
  "nbformat_minor": 0,
  "metadata": {
    "colab": {
      "provenance": [],
      "authorship_tag": "ABX9TyNL9XKrcC52SKyeC0g+8qWx",
      "include_colab_link": true
    },
    "kernelspec": {
      "name": "python3",
      "display_name": "Python 3"
    },
    "language_info": {
      "name": "python"
    }
  },
  "cells": [
    {
      "cell_type": "markdown",
      "metadata": {
        "id": "view-in-github",
        "colab_type": "text"
      },
      "source": [
        "<a href=\"https://colab.research.google.com/github/vibeshvidya/AWS-Demos/blob/master/MST_Python_Day_3_Practice_Problems.ipynb\" target=\"_parent\"><img src=\"https://colab.research.google.com/assets/colab-badge.svg\" alt=\"Open In Colab\"/></a>"
      ]
    },
    {
      "cell_type": "code",
      "execution_count": 14,
      "metadata": {
        "id": "3PMME1o7U4-M"
      },
      "outputs": [],
      "source": [
        "#1. Given the participants' score sheet for your University Sports Day, you are required to\n",
        "#find the runner-up score. You are given scores. Store them in a list and find the score of\n",
        "#the runner-up. (Create an array of scores and print the runner up score)\n",
        "\n",
        "#scores=(10,14,23,52,32,39,30,40,42,42)\n",
        "#max_score=max(scores)\n",
        "#max_score=remove.max_score\n",
        "#print(max_score)\n",
        "#min_score=min(scores)\n",
        "#print(min_score)\n",
        "\n"
      ]
    },
    {
      "cell_type": "code",
      "source": [],
      "metadata": {
        "id": "1wWuqRlHWVzA"
      },
      "execution_count": null,
      "outputs": []
    }
  ]
}