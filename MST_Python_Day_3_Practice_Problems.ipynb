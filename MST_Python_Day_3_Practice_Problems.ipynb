{
  "nbformat": 4,
  "nbformat_minor": 0,
  "metadata": {
    "colab": {
      "provenance": [],
      "authorship_tag": "ABX9TyN/9LnpOf+LbCcekELMIlmA",
      "include_colab_link": true
    },
    "kernelspec": {
      "name": "python3",
      "display_name": "Python 3"
    },
    "language_info": {
      "name": "python"
    }
  },
  "cells": [
    {
      "cell_type": "markdown",
      "metadata": {
        "id": "view-in-github",
        "colab_type": "text"
      },
      "source": [
        "<a href=\"https://colab.research.google.com/github/vibeshvidya/AWS-Demos/blob/master/MST_Python_Day_3_Practice_Problems.ipynb\" target=\"_parent\"><img src=\"https://colab.research.google.com/assets/colab-badge.svg\" alt=\"Open In Colab\"/></a>"
      ]
    },
    {
      "cell_type": "code",
      "execution_count": 2,
      "metadata": {
        "colab": {
          "base_uri": "https://localhost:8080/"
        },
        "id": "3PMME1o7U4-M",
        "outputId": "95429f35-70b9-41b1-c824-3eead7848302"
      },
      "outputs": [
        {
          "output_type": "stream",
          "name": "stdout",
          "text": [
            "77\n"
          ]
        }
      ],
      "source": [
        "#1. Given the participants' score sheet for your University Sports Day, you are required to\n",
        "#find the runner-up score. You are given scores. Store them in a list and find the score of\n",
        "#the runner-up. (Create an array of scores and print the runner up score)\n",
        "\n",
        "scores =[19, 32, 10, 55, 31, 32, 94, 29, 10, 65, 77, 40, 40]\n",
        "scores=list(set(scores))\n",
        "scores.sort()\n",
        "print(scores[-2])\n",
        "\n"
      ]
    },
    {
      "cell_type": "code",
      "source": [],
      "metadata": {
        "id": "1wWuqRlHWVzA"
      },
      "execution_count": null,
      "outputs": []
    }
  ]
}