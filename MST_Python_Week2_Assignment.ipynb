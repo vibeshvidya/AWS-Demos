{
  "nbformat": 4,
  "nbformat_minor": 0,
  "metadata": {
    "colab": {
      "provenance": [],
      "authorship_tag": "ABX9TyNYE2ve+f4Vn57CG4KOL1I4",
      "include_colab_link": true
    },
    "kernelspec": {
      "name": "python3",
      "display_name": "Python 3"
    },
    "language_info": {
      "name": "python"
    }
  },
  "cells": [
    {
      "cell_type": "markdown",
      "metadata": {
        "id": "view-in-github",
        "colab_type": "text"
      },
      "source": [
        "<a href=\"https://colab.research.google.com/github/vibeshvidya/AWS-Demos/blob/master/MST_Python_Week2_Assignment.ipynb\" target=\"_parent\"><img src=\"https://colab.research.google.com/assets/colab-badge.svg\" alt=\"Open In Colab\"/></a>"
      ]
    },
    {
      "cell_type": "code",
      "execution_count": 5,
      "metadata": {
        "colab": {
          "base_uri": "https://localhost:8080/"
        },
        "id": "0SjUmmhrkqrs",
        "outputId": "863cc81d-c7b5-45f0-e1fa-36528289ffed"
      },
      "outputs": [
        {
          "output_type": "stream",
          "name": "stdout",
          "text": [
            "Welcoem to guess game\n",
            "Think of a number between 1 to 10\n",
            "Enter a number between 1-10: 3\n",
            "Too low, please try again.\n",
            "Enter a number between 1-10: 9\n",
            "Too high, please try again.\n",
            "Enter a number between 1-10: 8\n",
            "Congratulations, you have entered the correct number\n"
          ]
        }
      ],
      "source": [
        "#game\n",
        "secretnumber=8\n",
        "print(\"Welcoem to guess game\")\n",
        "print(\"Think of a number between 1 to 10\")\n",
        "while True:\n",
        "  guess=int(input(\"Enter a number between 1-10: \"))\n",
        "  if guess==secretnumber:\n",
        "    print(\"Congratulations, you have entered the correct number\")\n",
        "    break\n",
        "  elif guess>secretnumber:\n",
        "    print(\"Too high, please try again.\")\n",
        "  else:\n",
        "    print(\"Too low, please try again.\")\n",
        "\n",
        "\n",
        "\n",
        "\n"
      ]
    },
    {
      "cell_type": "code",
      "source": [
        "#To find and print the Factorial of a number\n",
        "\n",
        "number=int(input(\"Enter a number: \"))\n",
        "factorial=1\n",
        "if number<0:\n",
        "  print(\"Factorial does not exist for negative numbers\")\n",
        "elif number==0:\n",
        "  print(\"Factorial of 0 is 1\")\n",
        "else:\n",
        " for i in range(1, number + 1):\n",
        "        factorial *= i\n",
        "print(f\"The factorial of {number} is {factorial}.\")\n",
        "\n"
      ],
      "metadata": {
        "colab": {
          "base_uri": "https://localhost:8080/"
        },
        "id": "uPpIFiCzn_wt",
        "outputId": "44a7af88-60be-4ef1-a668-0cabb1125fdd"
      },
      "execution_count": 11,
      "outputs": [
        {
          "output_type": "stream",
          "name": "stdout",
          "text": [
            "Enter a number: 3\n",
            "The factorial of 3 is 6.\n"
          ]
        }
      ]
    }
  ]
}