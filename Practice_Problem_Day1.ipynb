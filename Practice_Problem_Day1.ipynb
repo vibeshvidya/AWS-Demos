{
  "nbformat": 4,
  "nbformat_minor": 0,
  "metadata": {
    "colab": {
      "provenance": [],
      "authorship_tag": "ABX9TyOUa5cmowh42L/Y/yzkJlM5",
      "include_colab_link": true
    },
    "kernelspec": {
      "name": "python3",
      "display_name": "Python 3"
    },
    "language_info": {
      "name": "python"
    }
  },
  "cells": [
    {
      "cell_type": "markdown",
      "metadata": {
        "id": "view-in-github",
        "colab_type": "text"
      },
      "source": [
        "<a href=\"https://colab.research.google.com/github/vibeshvidya/AWS-Demos/blob/master/Practice_Problem_Day1.ipynb\" target=\"_parent\"><img src=\"https://colab.research.google.com/assets/colab-badge.svg\" alt=\"Open In Colab\"/></a>"
      ]
    },
    {
      "cell_type": "code",
      "execution_count": 3,
      "metadata": {
        "colab": {
          "base_uri": "https://localhost:8080/"
        },
        "id": "whCf1San--zA",
        "outputId": "3fc9ed79-c3ff-44c7-e261-837f90fb6186"
      },
      "outputs": [
        {
          "output_type": "stream",
          "name": "stdout",
          "text": [
            "Hello\n"
          ]
        }
      ],
      "source": [
        "#1. Given the string \"Hello, World!\", extract and print the substring \"Hello\".\n",
        "\n",
        "string=\"Hello, World\"\n",
        "substring=string[0:5]\n",
        "print(substring)"
      ]
    },
    {
      "cell_type": "code",
      "source": [
        "#2. Given the string \"Python is fun\", extract and print the substring \"is\".\n",
        "\n",
        "string=\"Python is fun\"\n",
        "substring=string[7:9]\n",
        "print(substring)"
      ],
      "metadata": {
        "colab": {
          "base_uri": "https://localhost:8080/"
        },
        "id": "z0QML99sABpR",
        "outputId": "c44b781c-9ca8-48f4-cc31-0164121b2d59"
      },
      "execution_count": 4,
      "outputs": [
        {
          "output_type": "stream",
          "name": "stdout",
          "text": [
            "is\n"
          ]
        }
      ]
    },
    {
      "cell_type": "code",
      "source": [
        " #3. Given the string \"Programming\", extract and print the substring \"gram\" using slicing indices.\n",
        "\n",
        " string=\"Programming\"\n",
        " substring=string[3:7]\n",
        " print(substring)"
      ],
      "metadata": {
        "colab": {
          "base_uri": "https://localhost:8080/"
        },
        "id": "s-DxfqpkAjx6",
        "outputId": "fb511b6c-a454-4ab4-a4b6-669fb1e22755"
      },
      "execution_count": 5,
      "outputs": [
        {
          "output_type": "stream",
          "name": "stdout",
          "text": [
            "gram\n"
          ]
        }
      ]
    },
    {
      "cell_type": "code",
      "source": [
        "#4. Given the string \"abcdefgh\", use slicing to print only the characters at even indices.\n",
        "\n",
        "string=\"abcdefgh\"\n",
        "even_indices=string[::2]\n",
        "print(even_indices)"
      ],
      "metadata": {
        "colab": {
          "base_uri": "https://localhost:8080/"
        },
        "id": "1rgcfwKWA0yb",
        "outputId": "4b63c546-a149-415d-df48-edb0906be108"
      },
      "execution_count": 11,
      "outputs": [
        {
          "output_type": "stream",
          "name": "stdout",
          "text": [
            "aceg\n"
          ]
        }
      ]
    },
    {
      "cell_type": "code",
      "source": [
        "#5. Given the string \"abcdefg\", use negative indices to extract and print the substring \"efg\"\n",
        "\n",
        "string=\"abcdefg\"\n",
        "substring=string[-3:]\n",
        "print(substring)"
      ],
      "metadata": {
        "colab": {
          "base_uri": "https://localhost:8080/"
        },
        "id": "EDlWKk0sBI0R",
        "outputId": "8c9b02e9-1c28-4cea-de3e-276f098000ef"
      },
      "execution_count": 22,
      "outputs": [
        {
          "output_type": "stream",
          "name": "stdout",
          "text": [
            "efg\n"
          ]
        }
      ]
    },
    {
      "cell_type": "code",
      "source": [
        "#6. Given the string \"Data Science\", use negative indices to extract and print the last three characters\n",
        "string=\"Data Science\"\n",
        "substring=string[-3:]\n",
        "print(substring)"
      ],
      "metadata": {
        "colab": {
          "base_uri": "https://localhost:8080/"
        },
        "id": "gyfWZ1vKHXCm",
        "outputId": "6e3dd8cd-afa2-479c-99d9-4dd28c33e9da"
      },
      "execution_count": 23,
      "outputs": [
        {
          "output_type": "stream",
          "name": "stdout",
          "text": [
            "nce\n"
          ]
        }
      ]
    },
    {
      "cell_type": "code",
      "source": [
        "#7. Given the string \"abcdefghij\", use slicing with a step to print every second character\n",
        "\n",
        "string=\"abcdefghij\"\n",
        "second_character=string[1::2]\n",
        "print(second_character)"
      ],
      "metadata": {
        "colab": {
          "base_uri": "https://localhost:8080/"
        },
        "id": "5-EU0dB4IEC8",
        "outputId": "f823bfb2-df7a-499a-e009-6f2772f78dec"
      },
      "execution_count": 25,
      "outputs": [
        {
          "output_type": "stream",
          "name": "stdout",
          "text": [
            "bdfhj\n"
          ]
        }
      ]
    },
    {
      "cell_type": "code",
      "source": [
        "#8. Given the string \"1234567890\", use slicing with a step to print the odd digits\n",
        "\n",
        "string=\"1234567890\"\n",
        "odd_digits=string[::2]\n",
        "print(odd_digits)"
      ],
      "metadata": {
        "colab": {
          "base_uri": "https://localhost:8080/"
        },
        "id": "xwMArWkFIYD5",
        "outputId": "f0c91f64-57af-4708-e64e-8875f1643a70"
      },
      "execution_count": 31,
      "outputs": [
        {
          "output_type": "stream",
          "name": "stdout",
          "text": [
            "13579\n"
          ]
        }
      ]
    },
    {
      "cell_type": "code",
      "source": [
        "#9. Given the string \"Hello\", use slicing to print the string in reverse order.\n",
        "\n",
        "string=\"Hello\"\n",
        "reverse_string=string[::-1]\n",
        "print(reverse_string)"
      ],
      "metadata": {
        "colab": {
          "base_uri": "https://localhost:8080/"
        },
        "id": "uOYYUKScIqkA",
        "outputId": "f8ceb1de-d0c0-495d-8e61-f6e12335e303"
      },
      "execution_count": 32,
      "outputs": [
        {
          "output_type": "stream",
          "name": "stdout",
          "text": [
            "olleH\n"
          ]
        }
      ]
    },
    {
      "cell_type": "code",
      "source": [
        "#10. Given the string \"abcdefghijk\", extract and print the substring \"acegik\" using slicing\n",
        "\n",
        "string=\"abcdefghijk\"\n",
        "substring=string[::2]\n",
        "print(substring)"
      ],
      "metadata": {
        "colab": {
          "base_uri": "https://localhost:8080/"
        },
        "id": "ywhDzq6uJFYh",
        "outputId": "b21d58d1-c17c-44f5-ecab-419b80d518fd"
      },
      "execution_count": 36,
      "outputs": [
        {
          "output_type": "stream",
          "name": "stdout",
          "text": [
            "acegik\n"
          ]
        }
      ]
    },
    {
      "cell_type": "code",
      "source": [],
      "metadata": {
        "id": "qknZWba7JZge"
      },
      "execution_count": null,
      "outputs": []
    }
  ]
}