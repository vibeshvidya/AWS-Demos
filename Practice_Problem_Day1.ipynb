{
  "nbformat": 4,
  "nbformat_minor": 0,
  "metadata": {
    "colab": {
      "provenance": [],
      "authorship_tag": "ABX9TyOCBWrahMwzrkQ2eWV1EN+h",
      "include_colab_link": true
    },
    "kernelspec": {
      "name": "python3",
      "display_name": "Python 3"
    },
    "language_info": {
      "name": "python"
    }
  },
  "cells": [
    {
      "cell_type": "markdown",
      "metadata": {
        "id": "view-in-github",
        "colab_type": "text"
      },
      "source": [
        "<a href=\"https://colab.research.google.com/github/vibeshvidya/AWS-Demos/blob/master/Practice_Problem_Day1.ipynb\" target=\"_parent\"><img src=\"https://colab.research.google.com/assets/colab-badge.svg\" alt=\"Open In Colab\"/></a>"
      ]
    },
    {
      "cell_type": "code",
      "execution_count": 3,
      "metadata": {
        "colab": {
          "base_uri": "https://localhost:8080/"
        },
        "id": "whCf1San--zA",
        "outputId": "3fc9ed79-c3ff-44c7-e261-837f90fb6186"
      },
      "outputs": [
        {
          "output_type": "stream",
          "name": "stdout",
          "text": [
            "Hello\n"
          ]
        }
      ],
      "source": [
        "#. Given the string \"Hello, World!\", extract and print the substring \"Hello\".\n",
        "\n",
        "string=\"Hello, World\"\n",
        "substring=string[0:5]\n",
        "print(substring)"
      ]
    },
    {
      "cell_type": "code",
      "source": [
        "#2. Given the string \"Python is fun\", extract and print the substring \"is\".\n",
        "\n",
        "string=\"Python is fun\"\n",
        "substring=string[7:9]\n",
        "print(substring)"
      ],
      "metadata": {
        "colab": {
          "base_uri": "https://localhost:8080/"
        },
        "id": "z0QML99sABpR",
        "outputId": "c44b781c-9ca8-48f4-cc31-0164121b2d59"
      },
      "execution_count": 4,
      "outputs": [
        {
          "output_type": "stream",
          "name": "stdout",
          "text": [
            "is\n"
          ]
        }
      ]
    },
    {
      "cell_type": "code",
      "source": [],
      "metadata": {
        "id": "s-DxfqpkAjx6"
      },
      "execution_count": null,
      "outputs": []
    }
  ]
}