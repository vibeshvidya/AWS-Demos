{
  "nbformat": 4,
  "nbformat_minor": 0,
  "metadata": {
    "colab": {
      "provenance": [],
      "authorship_tag": "ABX9TyMKp0TLGptd5E8hqYRLHpGE",
      "include_colab_link": true
    },
    "kernelspec": {
      "name": "python3",
      "display_name": "Python 3"
    },
    "language_info": {
      "name": "python"
    }
  },
  "cells": [
    {
      "cell_type": "markdown",
      "metadata": {
        "id": "view-in-github",
        "colab_type": "text"
      },
      "source": [
        "<a href=\"https://colab.research.google.com/github/vibeshvidya/AWS-Demos/blob/master/Practice_Problems_Day_02.ipynb\" target=\"_parent\"><img src=\"https://colab.research.google.com/assets/colab-badge.svg\" alt=\"Open In Colab\"/></a>"
      ]
    },
    {
      "cell_type": "code",
      "execution_count": 3,
      "metadata": {
        "colab": {
          "base_uri": "https://localhost:8080/"
        },
        "id": "UBfSQcT4KP6x",
        "outputId": "89bbae65-4025-491f-cd01-fa5068f2600d"
      },
      "outputs": [
        {
          "output_type": "stream",
          "name": "stdout",
          "text": [
            "The sum of all elements in the list is: 15\n"
          ]
        }
      ],
      "source": [
        "#1. Write a program to find sum of all elements in a list of integers.\n",
        "# Sample list of integers\n",
        "integers = [1, 2, 3, 4, 5]\n",
        "total = sum(integers)\n",
        "print(\"The sum of all elements in the list is:\", total)\n"
      ]
    },
    {
      "cell_type": "code",
      "source": [
        "#Input a sentence as a string.\n",
        "#a) Print its length\n",
        "#b) Print the first half of string\n",
        "\n",
        "string=\"vibesh vidya\"\n",
        "print(len(string))\n",
        "print(string[:len(string)//2])\n",
        "\n"
      ],
      "metadata": {
        "colab": {
          "base_uri": "https://localhost:8080/"
        },
        "id": "0gFID-sqK8gs",
        "outputId": "88fda4ad-2146-4c9c-9720-c09680613976"
      },
      "execution_count": 16,
      "outputs": [
        {
          "output_type": "stream",
          "name": "stdout",
          "text": [
            "12\n",
            "vibesh\n"
          ]
        }
      ]
    },
    {
      "cell_type": "code",
      "source": [
        "#3. Write a program to enter a tuple of integers as (78,45,32,19,82,77,40,39). Change the third value in the tuple to 100\n",
        "t=(78,45,32,19,82,77,40,39)\n",
        "t=t[:2] +(100,) +t[:3]\n",
        "print(t)"
      ],
      "metadata": {
        "colab": {
          "base_uri": "https://localhost:8080/"
        },
        "id": "539PNa4yLjxd",
        "outputId": "1bd7dc88-d6d4-4f2c-c492-7575f3c18d26"
      },
      "execution_count": 37,
      "outputs": [
        {
          "output_type": "stream",
          "name": "stdout",
          "text": [
            "(78, 45, 100, 78, 45, 32)\n"
          ]
        }
      ]
    },
    {
      "cell_type": "code",
      "source": [
        "#4. Consider a list listA=[19,32,10,55,31,32,94,29,10,65,77,40,40]\n",
        "#(a) Delete the first occurrence of 32\n",
        "listA=[19,32,10,55,31,32,94,29,10,65,77,40,40]\n",
        "listA.remove(32)\n",
        "print(listA)\n",
        "#(b) Delete all occurrences of 40\n",
        "listA=[19,32,10,55,31,32,94,29,10,65,77,40,40]\n",
        "while 40 in listA:\n",
        "    listA.remove(40)\n",
        "print(listA)\n",
        "#(c) Delete the value at index=5\n",
        "listA=[19,32,10,55,31,32,94,29,10,65,77,40,40]\n",
        "del listA[5]\n",
        "print(listA)\n",
        "#(d) Modify the value at index=9 as 300\n",
        "listA=[19,32,10,55,31,32,94,29,10,65,77,40,40]\n",
        "listA[9]=300\n",
        "print(listA)\n",
        "#(e) Add 200 at index=2\n",
        "listA=[19,32,10,55,31,32,94,29,10,65,77,40,40]\n",
        "listA.insert(2,200)\n",
        "print(listA)\n",
        "#(f) Print the final list with its length, maximum value and sum of all elements\n",
        "print(len(listA))\n",
        "print(max(listA))\n",
        "print(sum(listA))\n",
        "\n",
        "\n"
      ],
      "metadata": {
        "colab": {
          "base_uri": "https://localhost:8080/"
        },
        "id": "OyFPPV5yNmRV",
        "outputId": "a1c2cfd4-dfc4-482e-ba9c-0af101ba7861"
      },
      "execution_count": 60,
      "outputs": [
        {
          "output_type": "stream",
          "name": "stdout",
          "text": [
            "[19, 10, 55, 31, 32, 94, 29, 10, 65, 77, 40, 40]\n",
            "[19, 32, 10, 55, 31, 32, 94, 29, 10, 65, 77]\n",
            "[19, 32, 10, 55, 31, 94, 29, 10, 65, 77, 40, 40]\n",
            "[19, 32, 10, 55, 31, 32, 94, 29, 10, 300, 77, 40, 40]\n",
            "[19, 32, 200, 10, 55, 31, 32, 94, 29, 10, 65, 77, 40, 40]\n",
            "14\n",
            "200\n",
            "734\n"
          ]
        }
      ]
    },
    {
      "cell_type": "code",
      "source": [
        "#5. Consider a string ”The day has been long”.\n",
        "#(a) Delete the value at index =4\n",
        "string=\"The day has been long\"\n",
        "string=string[:4]+string[5:]\n",
        "print(string)\n",
        "#(b) Print the string 4 times in a single line with space between each repetition\n",
        "string=\"The day has been long\"\n",
        "print(string*4)\n",
        "#(c) Print the string 3 times in a new line each time\n",
        "string=\"The day has been long\"\n",
        "print((string+\"\\n\")*3)\n",
        "#(d) Modify the string at index 7 as ’A’\n",
        "string=\"The day has been long\"\n",
        "string=string[:6]+\"A\"+string[7:]\n",
        "print(string)\n",
        "#(e) Print the string from index 4 to 15\n",
        "string=\"The day has been long\"\n",
        "print(string[4:15])\n",
        "#(f) Print the final string with its lengt#\n",
        "string=\"The day has been long\"\n",
        "print(len(string))"
      ],
      "metadata": {
        "colab": {
          "base_uri": "https://localhost:8080/"
        },
        "id": "_Hi1DIarPaeF",
        "outputId": "ac7dce61-2dbc-4eec-bf47-826ffa95434b"
      },
      "execution_count": 80,
      "outputs": [
        {
          "output_type": "stream",
          "name": "stdout",
          "text": [
            "The ay has been long\n",
            "The day has been longThe day has been longThe day has been longThe day has been long\n",
            "The day has been long\n",
            "The day has been long\n",
            "The day has been long\n",
            "\n",
            "The daA has been long\n",
            "day has bee\n",
            "21\n"
          ]
        }
      ]
    },
    {
      "cell_type": "code",
      "source": [],
      "metadata": {
        "id": "cDHiC9nNTIFf"
      },
      "execution_count": null,
      "outputs": []
    }
  ]
}