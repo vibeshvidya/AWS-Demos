{
  "nbformat": 4,
  "nbformat_minor": 0,
  "metadata": {
    "colab": {
      "provenance": [],
      "authorship_tag": "ABX9TyOYcNibkMQUKk7DPt2+WOuv",
      "include_colab_link": true
    },
    "kernelspec": {
      "name": "python3",
      "display_name": "Python 3"
    },
    "language_info": {
      "name": "python"
    }
  },
  "cells": [
    {
      "cell_type": "markdown",
      "metadata": {
        "id": "view-in-github",
        "colab_type": "text"
      },
      "source": [
        "<a href=\"https://colab.research.google.com/github/vibeshvidya/AWS-Demos/blob/master/PythonDay6.ipynb\" target=\"_parent\"><img src=\"https://colab.research.google.com/assets/colab-badge.svg\" alt=\"Open In Colab\"/></a>"
      ]
    },
    {
      "cell_type": "code",
      "execution_count": 4,
      "metadata": {
        "colab": {
          "base_uri": "https://localhost:8080/"
        },
        "id": "t1KWMlMHlCgF",
        "outputId": "0d60beac-e785-4569-ba77-76097993486a"
      },
      "outputs": [
        {
          "output_type": "stream",
          "name": "stdout",
          "text": [
            "125\n"
          ]
        }
      ],
      "source": [
        "#functions in python\n",
        "#lambda function\n",
        "#recursive function\n",
        "def cube(n):\n",
        "  return(n**3)\n",
        "N=5\n",
        "c=cube(N)\n",
        "print(c)"
      ]
    },
    {
      "cell_type": "code",
      "source": [],
      "metadata": {
        "id": "YMSGZC_Pm9XR"
      },
      "execution_count": 9,
      "outputs": []
    },
    {
      "cell_type": "code",
      "source": [
        "visitor_name=input(\"Enter your name:\")\n",
        "greet(visitor_name,\"good morning\")"
      ],
      "metadata": {
        "colab": {
          "base_uri": "https://localhost:8080/",
          "height": 176
        },
        "id": "g7JK7aCxp-P1",
        "outputId": "fbbcbf7d-1d3b-47fd-c8c6-edaff27d7261"
      },
      "execution_count": 18,
      "outputs": [
        {
          "name": "stdout",
          "output_type": "stream",
          "text": [
            "Enter your name:vibesh\n"
          ]
        },
        {
          "output_type": "error",
          "ename": "TypeError",
          "evalue": "greet() takes 1 positional argument but 2 were given",
          "traceback": [
            "\u001b[0;31m---------------------------------------------------------------------------\u001b[0m",
            "\u001b[0;31mTypeError\u001b[0m                                 Traceback (most recent call last)",
            "\u001b[0;32m/tmp/ipython-input-3767395829.py\u001b[0m in \u001b[0;36m<cell line: 0>\u001b[0;34m()\u001b[0m\n\u001b[1;32m      1\u001b[0m \u001b[0mvisitor_name\u001b[0m\u001b[0;34m=\u001b[0m\u001b[0minput\u001b[0m\u001b[0;34m(\u001b[0m\u001b[0;34m\"Enter your name:\"\u001b[0m\u001b[0;34m)\u001b[0m\u001b[0;34m\u001b[0m\u001b[0;34m\u001b[0m\u001b[0m\n\u001b[0;32m----> 2\u001b[0;31m \u001b[0mgreet\u001b[0m\u001b[0;34m(\u001b[0m\u001b[0mvisitor_name\u001b[0m\u001b[0;34m,\u001b[0m\u001b[0;34m\"good morning\"\u001b[0m\u001b[0;34m)\u001b[0m\u001b[0;34m\u001b[0m\u001b[0;34m\u001b[0m\u001b[0m\n\u001b[0m",
            "\u001b[0;31mTypeError\u001b[0m: greet() takes 1 positional argument but 2 were given"
          ]
        }
      ]
    },
    {
      "cell_type": "code",
      "source": [],
      "metadata": {
        "id": "ViWrh0RRr-KM"
      },
      "execution_count": null,
      "outputs": []
    },
    {
      "cell_type": "code",
      "source": [
        "def greet(name,timeofday):\n",
        "  print(f\"Hello {name} {timeofday}, Welcome to India\")\n",
        "  print(\"How May I help you\")\n",
        "\n",
        "visitor_name=input(\"Enter your name:\")\n",
        "greet(visitor_name,\"good morning\")"
      ],
      "metadata": {
        "colab": {
          "base_uri": "https://localhost:8080/"
        },
        "id": "mIgsNWOztftD",
        "outputId": "4ac78c4e-5d6f-4e15-99fc-cc630622dcd8"
      },
      "execution_count": 26,
      "outputs": [
        {
          "output_type": "stream",
          "name": "stdout",
          "text": [
            "Enter your name:vibesh\n",
            "Hello vibesh good morning, Welcome to India\n",
            "How May I help you\n"
          ]
        }
      ]
    },
    {
      "cell_type": "code",
      "source": [],
      "metadata": {
        "id": "8MDxdiQ6t_YV"
      },
      "execution_count": 22,
      "outputs": []
    },
    {
      "cell_type": "code",
      "source": [
        "from datetime import datetime\n",
        "def greetwithTime(name):\n",
        "  cur_time=datetime.now().hour\n",
        "  if cur_time>=0 and cur_time<12:\n",
        "    timeofday=\"Good Morning\"\n",
        "  elif cur_time>=12 and cur_time<16:\n",
        "    timeofday=\"Good Afternoon\"\n",
        "  else:\n",
        "    timeofday=\"Good Evening\"\n",
        "  print(f\"Hello {name} {timeofday}, Welcome to India\")\n",
        "  print(\"How May I help you\")\n",
        "\n",
        "\n",
        "visitor_name=input(\"Enter your name:\")\n",
        "greetwithTime(visitor_name)"
      ],
      "metadata": {
        "colab": {
          "base_uri": "https://localhost:8080/"
        },
        "id": "9QovqolouzqY",
        "outputId": "6b4505e0-98ce-4279-cca0-b41d7b257c60"
      },
      "execution_count": 38,
      "outputs": [
        {
          "output_type": "stream",
          "name": "stdout",
          "text": [
            "Enter your name:deepthi\n",
            "Hello deepthi Good Morning, Welcome to India\n",
            "How May I help you\n"
          ]
        }
      ]
    },
    {
      "cell_type": "code",
      "source": [
        "def intro(name,age,place):\n",
        "  print(f\"Hello {name} you are {age} years old and you are from {place}\")\n",
        "intro(\"anju\",20,\"cochin \")\n",
        "intro(name=\"pooja\",age=20,place=\"cochin\")\n",
        "greet(visitor_name,\"hello\")"
      ],
      "metadata": {
        "colab": {
          "base_uri": "https://localhost:8080/"
        },
        "id": "aoQ2_nq_u_Vk",
        "outputId": "d0b3f786-d702-4711-c76f-151a98366029"
      },
      "execution_count": 47,
      "outputs": [
        {
          "output_type": "stream",
          "name": "stdout",
          "text": [
            "Hello anju you are 20 years old and you are from cochin \n",
            "Hello pooja you are 20 years old and you are from cochin\n",
            "Hello deepthi hello, Welcome to India\n",
            "How May I help you\n"
          ]
        }
      ]
    },
    {
      "cell_type": "code",
      "source": [
        "import statistics as stat\n",
        "def createstatsummary(data):\n",
        "  mean_value=stat.mean(data)\n",
        "  median_value=stat.median(data)\n",
        "  mode_value=stat.mode(data)\n",
        "  #return mean_value,median_value,mode_value\n",
        "  return mean_value\n",
        "  #print(f\"The mean value is {mean_value}\")\n",
        "  #print(f\"The median value is {median_value}\")\n",
        "  #print(f\"The mode value is {mode_value}\")\n",
        "\n",
        "\n",
        "numbers=[3,120,11,22,123,221,232,12,224,532]\n",
        "#create a statistical summary like mean value, median and mode\n",
        "#createstatsummary(numbers)\n",
        "mean_value=createstatsummary(numbers)\n",
        "if mean_value>160:\n",
        " print(\"The mean value is greater than 160\")\n",
        "else:\n",
        "  print(f\"The mean value is {mean_value}\")"
      ],
      "metadata": {
        "colab": {
          "base_uri": "https://localhost:8080/"
        },
        "id": "oH6azfDdyW0Z",
        "outputId": "5c55e5fe-04a5-4923-adb5-b702c85ff18c"
      },
      "execution_count": 77,
      "outputs": [
        {
          "output_type": "stream",
          "name": "stdout",
          "text": [
            "The mean value is 150\n"
          ]
        }
      ]
    },
    {
      "cell_type": "code",
      "source": [
        "def total_bill(itemprice,itemqty,itemdiscount=0.15,taxpercent=0.18):\n",
        "  bill_amt=itemprice*itemqty*(1-itemdiscount)\n",
        "  total_bill_amt=bill_amt+bill_amt*taxpercent\n",
        "  #return total_bill_amt\n",
        "  print(f\"The total bill amount is {total_bill_amt} after discount. Thank you and please shop again\")\n",
        "\n",
        "#total_bill(1000,2,.15)\n",
        "total_bill(1000,1)"
      ],
      "metadata": {
        "colab": {
          "base_uri": "https://localhost:8080/"
        },
        "id": "IKqrJ9Kd2Zf4",
        "outputId": "110ac8ef-0bef-4aaf-d3a6-c1e5177ee8e5"
      },
      "execution_count": 100,
      "outputs": [
        {
          "output_type": "stream",
          "name": "stdout",
          "text": [
            "The total bill amount is 1003.0 after discount. Thank you and please shop again\n"
          ]
        }
      ]
    },
    {
      "cell_type": "code",
      "source": [
        "#arbitrary arguments"
      ],
      "metadata": {
        "id": "1JMJbibn_Q-f"
      },
      "execution_count": null,
      "outputs": []
    },
    {
      "cell_type": "code",
      "source": [
        "def make_pizza(*toppings):\n",
        "  print(f\"The toppings for the pizza are {toppings}\")\n",
        "  for top in toppings:\n",
        "    print(\"-\",top)\n",
        "  #print(\"total toppings \",(toppings))\n",
        "  print(type(toppings))\n",
        "\n",
        "\n",
        "make_pizza(\"cheese\",)\n",
        "make_pizza(\"cheese\",\"onions\",\"capsicum\")\n",
        "make_pizza(\"cheese\",\"onions\",\"capsicum\",\"olives\")\n"
      ],
      "metadata": {
        "colab": {
          "base_uri": "https://localhost:8080/"
        },
        "id": "vG9Xcb8jCqRt",
        "outputId": "c76f0505-92a8-46ba-b5eb-0cf398f08d5c"
      },
      "execution_count": 136,
      "outputs": [
        {
          "output_type": "stream",
          "name": "stdout",
          "text": [
            "The toppings for the pizza are ('cheese',)\n",
            "- cheese\n",
            "<class 'tuple'>\n",
            "The toppings for the pizza are ('cheese', 'onions', 'capsicum')\n",
            "- cheese\n",
            "- onions\n",
            "- capsicum\n",
            "<class 'tuple'>\n",
            "The toppings for the pizza are ('cheese', 'onions', 'capsicum', 'olives')\n",
            "- cheese\n",
            "- onions\n",
            "- capsicum\n",
            "- olives\n",
            "<class 'tuple'>\n"
          ]
        }
      ]
    },
    {
      "cell_type": "code",
      "source": [],
      "metadata": {
        "id": "POQXoMwBDKvu"
      },
      "execution_count": null,
      "outputs": []
    },
    {
      "cell_type": "code",
      "source": [
        "def create_profile(**details):\n",
        "  print(\"Profile Details\")\n",
        "  for k,v in details.items():\n",
        "    print(f\"{k} = {v}\")\n",
        "  print(type(details))\n",
        "  print(\"*******************\")\n",
        "create_profile(name=\"Anju\",age=20,place=\"cochin\")\n",
        "create_profile(name=\"Pooja\",age=20,place=\"cochin\",graduation=\"MCA\",grade=\"A\")\n",
        "create_profile(name=\"deepa\",age=21,place=\"kozhikode\")\n",
        "\n"
      ],
      "metadata": {
        "colab": {
          "base_uri": "https://localhost:8080/"
        },
        "id": "Ao-s2Z5FGVuR",
        "outputId": "b0a41771-6663-45b1-e93a-0d8d88700c61"
      },
      "execution_count": 162,
      "outputs": [
        {
          "output_type": "stream",
          "name": "stdout",
          "text": [
            "Profile Details\n",
            "name = Anju\n",
            "age = 20\n",
            "place = cochin\n",
            "<class 'dict'>\n",
            "*******************\n",
            "Profile Details\n",
            "name = Pooja\n",
            "age = 20\n",
            "place = cochin\n",
            "graduation = MCA\n",
            "grade = A\n",
            "<class 'dict'>\n",
            "*******************\n",
            "Profile Details\n",
            "name = deepa\n",
            "age = 21\n",
            "place = kozhikode\n",
            "<class 'dict'>\n",
            "*******************\n"
          ]
        }
      ]
    },
    {
      "cell_type": "code",
      "source": [
        "#lambda function\n",
        "add= lambda x,y:x+y\n",
        "(add(2,3))"
      ],
      "metadata": {
        "colab": {
          "base_uri": "https://localhost:8080/"
        },
        "id": "U9VTjMcrJ3wP",
        "outputId": "79f3e93e-e8c4-4253-e184-cd5702514c64"
      },
      "execution_count": 164,
      "outputs": [
        {
          "output_type": "execute_result",
          "data": {
            "text/plain": [
              "5"
            ]
          },
          "metadata": {},
          "execution_count": 164
        }
      ]
    },
    {
      "cell_type": "code",
      "source": [
        "price=[100,200,212,240,211]\n",
        "disc_prices=list(map(lambda x:x*0.9,price))\n",
        "#disc_prices\n",
        "print(list(disc_prices))\n"
      ],
      "metadata": {
        "colab": {
          "base_uri": "https://localhost:8080/"
        },
        "id": "HsdhcaiRKpGW",
        "outputId": "dda85e84-22b9-4df1-aeb4-97630e5d19c8"
      },
      "execution_count": 176,
      "outputs": [
        {
          "output_type": "stream",
          "name": "stdout",
          "text": [
            "[90.0, 180.0, 190.8, 216.0, 189.9]\n"
          ]
        }
      ]
    },
    {
      "cell_type": "code",
      "source": [
        "low_vals=list(filter(lambda x:x<200,price))\n",
        "low_vals"
      ],
      "metadata": {
        "colab": {
          "base_uri": "https://localhost:8080/"
        },
        "id": "8Jrld-GcLjoD",
        "outputId": "61df3b14-613d-4553-a639-7e00641c51b5"
      },
      "execution_count": 178,
      "outputs": [
        {
          "output_type": "execute_result",
          "data": {
            "text/plain": [
              "[100]"
            ]
          },
          "metadata": {},
          "execution_count": 178
        }
      ]
    },
    {
      "cell_type": "markdown",
      "source": [
        "Key value pair"
      ],
      "metadata": {
        "id": "cMXkhAOoGQxa"
      }
    },
    {
      "cell_type": "code",
      "source": [
        "def square(num):\n",
        "  return num ** 2\n",
        "numbers=[1,2,3,4,5]\n",
        "sqaured_nums= list(map(square,numbers))\n",
        "sqaured_nums"
      ],
      "metadata": {
        "colab": {
          "base_uri": "https://localhost:8080/"
        },
        "id": "xJ_X7cErN90u",
        "outputId": "05f30c55-4ac1-420a-d237-9b55f6bccb0d"
      },
      "execution_count": 181,
      "outputs": [
        {
          "output_type": "execute_result",
          "data": {
            "text/plain": [
              "list"
            ]
          },
          "metadata": {},
          "execution_count": 181
        }
      ]
    },
    {
      "cell_type": "code",
      "source": [],
      "metadata": {
        "id": "zwtLxcMfOOTd"
      },
      "execution_count": null,
      "outputs": []
    }
  ]
}