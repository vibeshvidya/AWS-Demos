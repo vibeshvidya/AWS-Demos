{
  "nbformat": 4,
  "nbformat_minor": 0,
  "metadata": {
    "colab": {
      "provenance": [],
      "authorship_tag": "ABX9TyOSDMbfOHFIEfJjmTiPs2cT",
      "include_colab_link": true
    },
    "kernelspec": {
      "name": "python3",
      "display_name": "Python 3"
    },
    "language_info": {
      "name": "python"
    }
  },
  "cells": [
    {
      "cell_type": "markdown",
      "metadata": {
        "id": "view-in-github",
        "colab_type": "text"
      },
      "source": [
        "<a href=\"https://colab.research.google.com/github/vibeshvidya/AWS-Demos/blob/master/Python_Day3.ipynb\" target=\"_parent\"><img src=\"https://colab.research.google.com/assets/colab-badge.svg\" alt=\"Open In Colab\"/></a>"
      ]
    },
    {
      "cell_type": "code",
      "execution_count": 1,
      "metadata": {
        "colab": {
          "base_uri": "https://localhost:8080/"
        },
        "id": "1rHC04ifhm8X",
        "outputId": "4bec89d1-be45-42e9-aa5a-4f16f1f3bb02"
      },
      "outputs": [
        {
          "output_type": "stream",
          "name": "stdout",
          "text": [
            "5\n"
          ]
        }
      ],
      "source": [
        "# Multiplication\n",
        "x=25\n",
        "y=10\n",
        "print(x%y)\n",
        "\n"
      ]
    },
    {
      "cell_type": "code",
      "source": [
        "print(x/y)"
      ],
      "metadata": {
        "colab": {
          "base_uri": "https://localhost:8080/"
        },
        "id": "1oq3e2xCiIya",
        "outputId": "a147457b-9edb-4680-e4c7-ccce9f02a62e"
      },
      "execution_count": 2,
      "outputs": [
        {
          "output_type": "stream",
          "name": "stdout",
          "text": [
            "2.5\n"
          ]
        }
      ]
    },
    {
      "cell_type": "code",
      "source": [
        "a=10\n",
        "b=3\n",
        "print(a**b)"
      ],
      "metadata": {
        "colab": {
          "base_uri": "https://localhost:8080/"
        },
        "id": "9ML3AuGciQVM",
        "outputId": "02d3165b-0309-4676-b295-2206e1e51a96"
      },
      "execution_count": 4,
      "outputs": [
        {
          "output_type": "stream",
          "name": "stdout",
          "text": [
            "1000\n"
          ]
        }
      ]
    },
    {
      "cell_type": "code",
      "source": [
        "age=18\n",
        "print(age>25)"
      ],
      "metadata": {
        "colab": {
          "base_uri": "https://localhost:8080/"
        },
        "id": "cqovEVkpiZ0N",
        "outputId": "5d66f5d4-91b3-4309-d277-a58f35a77c21"
      },
      "execution_count": 6,
      "outputs": [
        {
          "output_type": "stream",
          "name": "stdout",
          "text": [
            "False\n"
          ]
        }
      ]
    },
    {
      "cell_type": "code",
      "source": [
        "print(age==30)"
      ],
      "metadata": {
        "colab": {
          "base_uri": "https://localhost:8080/"
        },
        "id": "5QqcdeNFjBTL",
        "outputId": "3fbe4c1f-6641-4c80-bee8-f16153ea8dc2"
      },
      "execution_count": 7,
      "outputs": [
        {
          "output_type": "stream",
          "name": "stdout",
          "text": [
            "False\n"
          ]
        }
      ]
    },
    {
      "cell_type": "code",
      "source": [
        "order_qty=120\n",
        "max_order=200\n",
        "print(order_qty>max_order)"
      ],
      "metadata": {
        "colab": {
          "base_uri": "https://localhost:8080/"
        },
        "id": "eGPLrboCjSx3",
        "outputId": "445ed671-e4f6-40f2-b902-0281126dd952"
      },
      "execution_count": 8,
      "outputs": [
        {
          "output_type": "stream",
          "name": "stdout",
          "text": [
            "False\n"
          ]
        }
      ]
    },
    {
      "cell_type": "code",
      "source": [
        "user=\"admin\"\n",
        "pw=\"1232\"\n",
        "print(user==\"admin\" and pw==\"1234\")"
      ],
      "metadata": {
        "colab": {
          "base_uri": "https://localhost:8080/"
        },
        "id": "FoEaeS8mj_rG",
        "outputId": "5ab3e51b-eccf-4cdd-e819-7ed965ae76e1"
      },
      "execution_count": 13,
      "outputs": [
        {
          "output_type": "stream",
          "name": "stdout",
          "text": [
            "False\n"
          ]
        }
      ]
    },
    {
      "cell_type": "code",
      "source": [
        "income=50000\n",
        "credit_score=650\n",
        "print(income>=50000 and credit_score==650)"
      ],
      "metadata": {
        "colab": {
          "base_uri": "https://localhost:8080/"
        },
        "id": "sJLYFxf5kppV",
        "outputId": "fdc5e33b-ef21-412b-b3a6-9d5711aff419"
      },
      "execution_count": 14,
      "outputs": [
        {
          "output_type": "stream",
          "name": "stdout",
          "text": [
            "True\n"
          ]
        }
      ]
    },
    {
      "cell_type": "code",
      "source": [
        "income=40000\n",
        "credit_score=650\n",
        "print(income>=50000 and credit_score==650)"
      ],
      "metadata": {
        "colab": {
          "base_uri": "https://localhost:8080/"
        },
        "id": "F6E7rfvElQs9",
        "outputId": "a6d4f963-7bdc-4990-b770-5896182b0546"
      },
      "execution_count": 60,
      "outputs": [
        {
          "output_type": "stream",
          "name": "stdout",
          "text": [
            "False\n"
          ]
        }
      ]
    },
    {
      "cell_type": "code",
      "source": [
        "income = 40000\n",
        "credit_score = 650\n",
        "customer_sal = int(input(\"Enter customer monthly salary: \"))\n",
        "customer_credit = int(input(\"Enter existing credit amount: \"))\n",
        "if credit_score >= 700 and customer_sal >= 25000 and customer_credit <= 500000:\n",
        "    print(True)\n",
        "else:\n",
        "    print(False)"
      ],
      "metadata": {
        "colab": {
          "base_uri": "https://localhost:8080/"
        },
        "id": "u2JRqAtFnDqR",
        "outputId": "7fc40194-1b4a-4ff1-d3da-3f9162d15f97"
      },
      "execution_count": 24,
      "outputs": [
        {
          "output_type": "stream",
          "name": "stdout",
          "text": [
            "Enter customer monthly salary: 60000\n",
            "Enter existing credit amount: 70000\n",
            "False\n"
          ]
        }
      ]
    },
    {
      "cell_type": "code",
      "source": [
        "min_salary=50000\n",
        "credit_score=658\n",
        "cus_salary=int(input(\"Enter your salary\"))\n",
        "cus_credit=int(input(\"Enter your credit_score\"))\n",
        "print(cus_salary>=min_salary and cus_credit>=credit_score)"
      ],
      "metadata": {
        "colab": {
          "base_uri": "https://localhost:8080/"
        },
        "id": "p0T2CW_JoPUs",
        "outputId": "4aa63776-2a03-4652-948d-ffbfc783087d"
      },
      "execution_count": 25,
      "outputs": [
        {
          "output_type": "stream",
          "name": "stdout",
          "text": [
            "Enter your salary4000\n",
            "Enter your credit_score300\n",
            "False\n"
          ]
        }
      ]
    },
    {
      "cell_type": "code",
      "source": [
        "salary=40000\n",
        "credit_score=650\n",
        "customer_sal=int(input(\"enter your income\"))\n",
        "customer_credit=int(input(\"enter your credit score\"))\n",
        "print((customer_sal>=salary) and (customer_credit>=credit_score))"
      ],
      "metadata": {
        "colab": {
          "base_uri": "https://localhost:8080/"
        },
        "id": "iv1oaxqcpBPl",
        "outputId": "775ed3f9-0029-4e92-d1c5-e69b0fdcf2f7"
      },
      "execution_count": 59,
      "outputs": [
        {
          "output_type": "stream",
          "name": "stdout",
          "text": [
            "enter your income3000\n",
            "enter your credit score22\n",
            "False\n"
          ]
        }
      ]
    },
    {
      "cell_type": "code",
      "source": [
        "stock=50\n",
        "print(stock)\n",
        "stock+=10\n",
        "print(stock)"
      ],
      "metadata": {
        "colab": {
          "base_uri": "https://localhost:8080/"
        },
        "id": "j2XFe31HppW_",
        "outputId": "39370960-85c6-4fa2-8844-c7a9341cc575"
      },
      "execution_count": 33,
      "outputs": [
        {
          "output_type": "stream",
          "name": "stdout",
          "text": [
            "50\n",
            "60\n"
          ]
        }
      ]
    },
    {
      "cell_type": "code",
      "source": [
        "stock=50\n",
        "print(stock)\n",
        "stock+=10\n",
        "stock=stock+10\n",
        "print(stock)"
      ],
      "metadata": {
        "colab": {
          "base_uri": "https://localhost:8080/"
        },
        "id": "aiKX7LjlqcKk",
        "outputId": "be735111-c805-46c5-eed1-f66cfa3d1e42"
      },
      "execution_count": 34,
      "outputs": [
        {
          "output_type": "stream",
          "name": "stdout",
          "text": [
            "50\n",
            "70\n"
          ]
        }
      ]
    },
    {
      "cell_type": "code",
      "source": [
        "#assignment operators\n",
        "\n",
        "stock=50\n",
        "print(stock)\n",
        "stock-=10\n",
        "stock=stock+10\n",
        "print(stock)"
      ],
      "metadata": {
        "colab": {
          "base_uri": "https://localhost:8080/"
        },
        "id": "DsUhbO5dqjHU",
        "outputId": "232180ff-c1fe-4f0c-bc19-cc39b844dba4"
      },
      "execution_count": 37,
      "outputs": [
        {
          "output_type": "stream",
          "name": "stdout",
          "text": [
            "50\n",
            "50\n"
          ]
        }
      ]
    },
    {
      "cell_type": "code",
      "source": [
        "stock*=2\n",
        "print(stock)"
      ],
      "metadata": {
        "colab": {
          "base_uri": "https://localhost:8080/"
        },
        "id": "ozRuCnVnqrf7",
        "outputId": "afba09b8-64ad-48b5-9f11-1ffbe3430ff7"
      },
      "execution_count": 38,
      "outputs": [
        {
          "output_type": "stream",
          "name": "stdout",
          "text": [
            "100\n"
          ]
        }
      ]
    },
    {
      "cell_type": "code",
      "source": [
        "a=25\n",
        "b=10\n",
        "c=a\n",
        "print(a is b)\n"
      ],
      "metadata": {
        "colab": {
          "base_uri": "https://localhost:8080/"
        },
        "id": "HucJ8iKkq0yZ",
        "outputId": "9dda6b33-8551-48b6-f78d-2b2d3e1897ac"
      },
      "execution_count": 39,
      "outputs": [
        {
          "output_type": "stream",
          "name": "stdout",
          "text": [
            "False\n"
          ]
        }
      ]
    },
    {
      "cell_type": "code",
      "source": [
        "a=25\n",
        "b=10\n",
        "c=a\n",
        "print(a is b)\n",
        "print(c is b)"
      ],
      "metadata": {
        "colab": {
          "base_uri": "https://localhost:8080/"
        },
        "id": "wOnhp5dZrbla",
        "outputId": "4b197fef-529c-4b11-dc2c-76ab4e473c13"
      },
      "execution_count": 40,
      "outputs": [
        {
          "output_type": "stream",
          "name": "stdout",
          "text": [
            "False\n",
            "False\n"
          ]
        }
      ]
    },
    {
      "cell_type": "code",
      "source": [
        "a=25\n",
        "b=10\n",
        "c=a\n",
        "print(a is b)\n",
        "print(c is a)"
      ],
      "metadata": {
        "colab": {
          "base_uri": "https://localhost:8080/"
        },
        "id": "7ASJiuUbruFP",
        "outputId": "2c1a3966-b64e-409f-cf88-70c56af9c81a"
      },
      "execution_count": 41,
      "outputs": [
        {
          "output_type": "stream",
          "name": "stdout",
          "text": [
            "False\n",
            "True\n"
          ]
        }
      ]
    },
    {
      "cell_type": "code",
      "source": [
        "print(\"pi\" in \"python\")"
      ],
      "metadata": {
        "colab": {
          "base_uri": "https://localhost:8080/"
        },
        "id": "Fs07SvRDrx0d",
        "outputId": "14f4fa45-d3fb-44af-e7e6-a26ff3db2629"
      },
      "execution_count": 55,
      "outputs": [
        {
          "output_type": "stream",
          "name": "stdout",
          "text": [
            "False\n"
          ]
        }
      ]
    },
    {
      "cell_type": "code",
      "source": [
        "names=(\"vibesh\", \"ravi\", \"thejas\")\n",
        "print(\"vibesh\" in names)"
      ],
      "metadata": {
        "colab": {
          "base_uri": "https://localhost:8080/"
        },
        "id": "DKNrcgqMsByx",
        "outputId": "e2cb2439-5db9-4d17-b1de-33d12e35887a"
      },
      "execution_count": 44,
      "outputs": [
        {
          "output_type": "stream",
          "name": "stdout",
          "text": [
            "True\n"
          ]
        }
      ]
    },
    {
      "cell_type": "code",
      "source": [
        "text=\"I love programming in python\"\n",
        "print(\"python\" in text)"
      ],
      "metadata": {
        "colab": {
          "base_uri": "https://localhost:8080/"
        },
        "id": "C_2HGbHpskrW",
        "outputId": "d9babf67-03ca-4cc5-bf3f-9072ce39a9a7"
      },
      "execution_count": 45,
      "outputs": [
        {
          "output_type": "stream",
          "name": "stdout",
          "text": [
            "True\n"
          ]
        }
      ]
    },
    {
      "cell_type": "code",
      "source": [
        "print(\"Python\" in text)"
      ],
      "metadata": {
        "colab": {
          "base_uri": "https://localhost:8080/"
        },
        "id": "0BALj5D3tDI_",
        "outputId": "d7cee914-357d-4a56-930e-b592d1f707ca"
      },
      "execution_count": 47,
      "outputs": [
        {
          "output_type": "stream",
          "name": "stdout",
          "text": [
            "False\n"
          ]
        }
      ]
    },
    {
      "cell_type": "code",
      "source": [
        "print (\"Py\" in \"Python\")"
      ],
      "metadata": {
        "colab": {
          "base_uri": "https://localhost:8080/"
        },
        "id": "EbVy2LCbtX94",
        "outputId": "fd66054c-c323-445c-eb04-a6fd8f9731f8"
      },
      "execution_count": 49,
      "outputs": [
        {
          "output_type": "stream",
          "name": "stdout",
          "text": [
            "True\n"
          ]
        }
      ]
    },
    {
      "cell_type": "code",
      "source": [
        "numbers=(1,2,3,4,5)\n",
        "print(1 in numbers)"
      ],
      "metadata": {
        "colab": {
          "base_uri": "https://localhost:8080/"
        },
        "id": "jKfPuL1wtyOH",
        "outputId": "e14ff7de-b655-47c9-cba6-65e37f71103b"
      },
      "execution_count": 50,
      "outputs": [
        {
          "output_type": "stream",
          "name": "stdout",
          "text": [
            "True\n"
          ]
        }
      ]
    },
    {
      "cell_type": "code",
      "source": [
        "print(1 in (1,1,2,4,3))"
      ],
      "metadata": {
        "colab": {
          "base_uri": "https://localhost:8080/"
        },
        "id": "NU2F6qz4uGfn",
        "outputId": "cdac85f9-7283-41a3-9f72-ba0af03c8c0d"
      },
      "execution_count": 54,
      "outputs": [
        {
          "output_type": "stream",
          "name": "stdout",
          "text": [
            "True\n"
          ]
        }
      ]
    },
    {
      "cell_type": "code",
      "source": [
        "print(1 in (1,1,2,4,3))"
      ],
      "metadata": {
        "colab": {
          "base_uri": "https://localhost:8080/"
        },
        "id": "8IX2xC1euMSr",
        "outputId": "238ee42d-2ff1-4bda-c140-4a5210227c07"
      },
      "execution_count": 52,
      "outputs": [
        {
          "output_type": "stream",
          "name": "stdout",
          "text": [
            "True\n"
          ]
        }
      ]
    },
    {
      "cell_type": "code",
      "source": [
        "print(5 in (3,2,3,2,44))"
      ],
      "metadata": {
        "colab": {
          "base_uri": "https://localhost:8080/"
        },
        "id": "dKweZ8mOuVgg",
        "outputId": "d37d4e4c-d964-4824-fa0a-1e53bb2aaa07"
      },
      "execution_count": 53,
      "outputs": [
        {
          "output_type": "stream",
          "name": "stdout",
          "text": [
            "False\n"
          ]
        }
      ]
    },
    {
      "cell_type": "code",
      "source": [
        "groceries =[\"milk\",\"eggs\",\"bread\"]\n",
        "type(groceries)\n",
        "print(\"Grocery list are as follows:\",groceries)"
      ],
      "metadata": {
        "colab": {
          "base_uri": "https://localhost:8080/"
        },
        "id": "ludxYzMoufDq",
        "outputId": "ee34e733-278a-4ae8-c181-4dc9c2c01f2e"
      },
      "execution_count": 61,
      "outputs": [
        {
          "output_type": "stream",
          "name": "stdout",
          "text": [
            "Grocery list are as follows: ['milk', 'eggs', 'bread']\n"
          ]
        }
      ]
    },
    {
      "cell_type": "code",
      "source": [
        "groceries =[\"milk\",\"eggs\",\"bread\"]\n",
        "type(groceries)\n",
        "print(\"Grocery list are as follows:\",groceries)\n",
        "len(groceries)"
      ],
      "metadata": {
        "colab": {
          "base_uri": "https://localhost:8080/"
        },
        "id": "0HllBno1x-bM",
        "outputId": "8b928939-61ed-4480-ed87-883d714ef529"
      },
      "execution_count": 62,
      "outputs": [
        {
          "output_type": "stream",
          "name": "stdout",
          "text": [
            "Grocery list are as follows: ['milk', 'eggs', 'bread']\n"
          ]
        },
        {
          "output_type": "execute_result",
          "data": {
            "text/plain": [
              "3"
            ]
          },
          "metadata": {},
          "execution_count": 62
        }
      ]
    },
    {
      "cell_type": "code",
      "source": [
        "groceries =[\"milk\",\"eggs\",\"bread\"]\n",
        "type(groceries)\n",
        "print(\"Grocery list are as follows:\",groceries)\n",
        "len(groceries)\n",
        "groceries[0]"
      ],
      "metadata": {
        "colab": {
          "base_uri": "https://localhost:8080/",
          "height": 52
        },
        "id": "_dGzbO8OyGas",
        "outputId": "aa53e08c-9349-44cf-a1ba-e63d1ed3cfcf"
      },
      "execution_count": 63,
      "outputs": [
        {
          "output_type": "stream",
          "name": "stdout",
          "text": [
            "Grocery list are as follows: ['milk', 'eggs', 'bread']\n"
          ]
        },
        {
          "output_type": "execute_result",
          "data": {
            "text/plain": [
              "'milk'"
            ],
            "application/vnd.google.colaboratory.intrinsic+json": {
              "type": "string"
            }
          },
          "metadata": {},
          "execution_count": 63
        }
      ]
    },
    {
      "cell_type": "code",
      "source": [
        "groceries =[\"milk\",\"eggs\",\"bread\"]\n",
        "type(groceries)\n",
        "print(\"Grocery list are as follows:\",groceries)\n",
        "print(len(groceries))\n",
        "print(groceries[0])"
      ],
      "metadata": {
        "colab": {
          "base_uri": "https://localhost:8080/"
        },
        "id": "vLdTzpJYyXCe",
        "outputId": "7dda5240-03de-4e7a-b0b6-0a9905a0fa62"
      },
      "execution_count": 66,
      "outputs": [
        {
          "output_type": "stream",
          "name": "stdout",
          "text": [
            "Grocery list are as follows: ['milk', 'eggs', 'bread']\n",
            "3\n",
            "milk\n"
          ]
        }
      ]
    },
    {
      "cell_type": "code",
      "source": [
        "groceries =[\"milk\",\"eggs\",\"bread\"]\n",
        "type(groceries)\n",
        "print(\"Grocery list are as follows:\",groceries)\n",
        "print(len(groceries))\n",
        "print(groceries[0])\n",
        "print(groceries[-3:-1])\n",
        "print(groceries.reverse)"
      ],
      "metadata": {
        "colab": {
          "base_uri": "https://localhost:8080/"
        },
        "id": "3OmI7Fcnyap9",
        "outputId": "55febc7d-6beb-4c1f-c96e-5ed5ea2ca22d"
      },
      "execution_count": 76,
      "outputs": [
        {
          "output_type": "stream",
          "name": "stdout",
          "text": [
            "Grocery list are as follows: ['milk', 'eggs', 'bread']\n",
            "3\n",
            "milk\n",
            "['milk', 'eggs']\n",
            "<built-in method reverse of list object at 0x79283eb97480>\n"
          ]
        }
      ]
    },
    {
      "cell_type": "code",
      "source": [
        "groceries =[\"milk\",\"eggs\",\"bread\"]\n",
        "type(groceries)\n",
        "print(groceries.reverse)"
      ],
      "metadata": {
        "colab": {
          "base_uri": "https://localhost:8080/"
        },
        "id": "wX26eQXRysfn",
        "outputId": "32d9f2bf-0f90-4981-a2c8-1b31d69943b1"
      },
      "execution_count": 77,
      "outputs": [
        {
          "output_type": "stream",
          "name": "stdout",
          "text": [
            "<built-in method reverse of list object at 0x79283ee46d40>\n"
          ]
        }
      ]
    },
    {
      "cell_type": "code",
      "source": [],
      "metadata": {
        "colab": {
          "base_uri": "https://localhost:8080/",
          "height": 211
        },
        "id": "-2m1WC3azqIg",
        "outputId": "38d8fd50-56ce-41fa-cf3f-a2b5b4379fe9"
      },
      "execution_count": 79,
      "outputs": [
        {
          "output_type": "error",
          "ename": "NameError",
          "evalue": "name 'new_list' is not defined",
          "traceback": [
            "\u001b[0;31m---------------------------------------------------------------------------\u001b[0m",
            "\u001b[0;31mNameError\u001b[0m                                 Traceback (most recent call last)",
            "\u001b[0;32m/tmp/ipython-input-3912654114.py\u001b[0m in \u001b[0;36m<cell line: 0>\u001b[0;34m()\u001b[0m\n\u001b[0;32m----> 1\u001b[0;31m \u001b[0mgro_list\u001b[0m\u001b[0;34m=\u001b[0m\u001b[0mgroceries\u001b[0m\u001b[0;34m+\u001b[0m \u001b[0mnew_list\u001b[0m\u001b[0;34m\u001b[0m\u001b[0;34m\u001b[0m\u001b[0m\n\u001b[0m\u001b[1;32m      2\u001b[0m \u001b[0mnew_list\u001b[0m\u001b[0;34m=\u001b[0m\u001b[0;34m(\u001b[0m\u001b[0;34m\"apples\"\u001b[0m\u001b[0;34m,\u001b[0m\u001b[0;34m\"sweets\"\u001b[0m\u001b[0;34m)\u001b[0m\u001b[0;34m\u001b[0m\u001b[0;34m\u001b[0m\u001b[0m\n\u001b[1;32m      3\u001b[0m \u001b[0mprint\u001b[0m\u001b[0;34m(\u001b[0m\u001b[0mgro_list\u001b[0m\u001b[0;34m)\u001b[0m\u001b[0;34m\u001b[0m\u001b[0;34m\u001b[0m\u001b[0m\n\u001b[1;32m      4\u001b[0m \u001b[0;31m#append()\u001b[0m\u001b[0;34m\u001b[0m\u001b[0;34m\u001b[0m\u001b[0m\n\u001b[1;32m      5\u001b[0m \u001b[0;34m\u001b[0m\u001b[0m\n",
            "\u001b[0;31mNameError\u001b[0m: name 'new_list' is not defined"
          ]
        }
      ]
    },
    {
      "cell_type": "code",
      "source": [
        "gro_list=groceries+ new_list\n",
        "new_list=(\"apples\",\"sweets\")\n",
        "print(gro_list)"
      ],
      "metadata": {
        "colab": {
          "base_uri": "https://localhost:8080/",
          "height": 176
        },
        "id": "-W5Bl4e-0TL6",
        "outputId": "da44b0e2-34c1-4bc8-d7de-92ed13ea8103"
      },
      "execution_count": 80,
      "outputs": [
        {
          "output_type": "error",
          "ename": "NameError",
          "evalue": "name 'new_list' is not defined",
          "traceback": [
            "\u001b[0;31m---------------------------------------------------------------------------\u001b[0m",
            "\u001b[0;31mNameError\u001b[0m                                 Traceback (most recent call last)",
            "\u001b[0;32m/tmp/ipython-input-3582301771.py\u001b[0m in \u001b[0;36m<cell line: 0>\u001b[0;34m()\u001b[0m\n\u001b[0;32m----> 1\u001b[0;31m \u001b[0mgro_list\u001b[0m\u001b[0;34m=\u001b[0m\u001b[0mgroceries\u001b[0m\u001b[0;34m+\u001b[0m \u001b[0mnew_list\u001b[0m\u001b[0;34m\u001b[0m\u001b[0;34m\u001b[0m\u001b[0m\n\u001b[0m\u001b[1;32m      2\u001b[0m \u001b[0mnew_list\u001b[0m\u001b[0;34m=\u001b[0m\u001b[0;34m(\u001b[0m\u001b[0;34m\"apples\"\u001b[0m\u001b[0;34m,\u001b[0m\u001b[0;34m\"sweets\"\u001b[0m\u001b[0;34m)\u001b[0m\u001b[0;34m\u001b[0m\u001b[0;34m\u001b[0m\u001b[0m\n\u001b[1;32m      3\u001b[0m \u001b[0mprint\u001b[0m\u001b[0;34m(\u001b[0m\u001b[0mgro_list\u001b[0m\u001b[0;34m)\u001b[0m\u001b[0;34m\u001b[0m\u001b[0;34m\u001b[0m\u001b[0m\n",
            "\u001b[0;31mNameError\u001b[0m: name 'new_list' is not defined"
          ]
        }
      ]
    },
    {
      "cell_type": "code",
      "source": [
        "groceries =[\"milk\",\"eggs\",\"bread\"]\n",
        "new_list=[\"apples\",\"sweets\"]\n",
        "gro_list=groceries+ new_list\n",
        "print(gro_list)"
      ],
      "metadata": {
        "colab": {
          "base_uri": "https://localhost:8080/"
        },
        "id": "v_6rV2kU0kit",
        "outputId": "97900661-9581-4d39-ae72-dc0a89448b07"
      },
      "execution_count": 83,
      "outputs": [
        {
          "output_type": "stream",
          "name": "stdout",
          "text": [
            "['milk', 'eggs', 'bread', 'apples', 'sweets']\n"
          ]
        }
      ]
    },
    {
      "cell_type": "code",
      "source": [
        "gro_list.insert(1,\"curd\")\n",
        "print(gro_list)"
      ],
      "metadata": {
        "colab": {
          "base_uri": "https://localhost:8080/"
        },
        "id": "YZcaE8KV02Nq",
        "outputId": "7186ec8c-1c52-48f3-d280-a91c150b6030"
      },
      "execution_count": 98,
      "outputs": [
        {
          "output_type": "stream",
          "name": "stdout",
          "text": [
            "['curd', 'curd', 'curd', 'curd', 'curd', 'curd', 'curd', 'milk', 'curd', 'eggs', 'curd', 'curd', 'curd', 'bread', 'apples', 'sweets']\n"
          ]
        }
      ]
    },
    {
      "cell_type": "code",
      "source": [
        "new_list2=[\"potatoes\",\"onions\",\"bread\"]\n",
        "gro_list.extend(new_list2)\n",
        "gro_list"
      ],
      "metadata": {
        "colab": {
          "base_uri": "https://localhost:8080/"
        },
        "id": "WxCN-1JQ1Old",
        "outputId": "048012a1-d52f-485f-c069-4da068df8219"
      },
      "execution_count": 99,
      "outputs": [
        {
          "output_type": "execute_result",
          "data": {
            "text/plain": [
              "['curd',\n",
              " 'curd',\n",
              " 'curd',\n",
              " 'curd',\n",
              " 'curd',\n",
              " 'curd',\n",
              " 'curd',\n",
              " 'milk',\n",
              " 'curd',\n",
              " 'eggs',\n",
              " 'curd',\n",
              " 'curd',\n",
              " 'curd',\n",
              " 'bread',\n",
              " 'apples',\n",
              " 'sweets',\n",
              " 'potatoes',\n",
              " 'onions',\n",
              " 'bread']"
            ]
          },
          "metadata": {},
          "execution_count": 99
        }
      ]
    },
    {
      "cell_type": "code",
      "source": [
        "gro_list.count(\"curd\")"
      ],
      "metadata": {
        "colab": {
          "base_uri": "https://localhost:8080/"
        },
        "id": "kX0t69E_2Lrj",
        "outputId": "ec8eefeb-fad0-4605-c1e8-7fbfdce2aa6f"
      },
      "execution_count": 100,
      "outputs": [
        {
          "output_type": "execute_result",
          "data": {
            "text/plain": [
              "11"
            ]
          },
          "metadata": {},
          "execution_count": 100
        }
      ]
    },
    {
      "cell_type": "code",
      "source": [
        "gro_list.remove(\"curd\")"
      ],
      "metadata": {
        "id": "orLoGp7G2X_z"
      },
      "execution_count": 101,
      "outputs": []
    },
    {
      "cell_type": "code",
      "source": [
        "gro_list.append(\"curd\")\n",
        "print(gro_list)"
      ],
      "metadata": {
        "colab": {
          "base_uri": "https://localhost:8080/"
        },
        "id": "67nD7fNc2nNd",
        "outputId": "66f408f0-5609-4583-be54-ed8cf725d868"
      },
      "execution_count": 117,
      "outputs": [
        {
          "output_type": "stream",
          "name": "stdout",
          "text": [
            "['milk', 'eggs', 'bread', 'apples', 'sweets', 'potatoes', 'onions', 'bread', 'curd', 'curd']\n"
          ]
        }
      ]
    },
    {
      "cell_type": "code",
      "source": [],
      "metadata": {
        "id": "GVPRjH8Q2pof"
      },
      "execution_count": 113,
      "outputs": []
    }
  ]
}