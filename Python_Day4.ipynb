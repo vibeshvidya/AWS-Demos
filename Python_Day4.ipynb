{
  "nbformat": 4,
  "nbformat_minor": 0,
  "metadata": {
    "colab": {
      "provenance": [],
      "authorship_tag": "ABX9TyN7VusbiQCVKoOmvGJbXnCC",
      "include_colab_link": true
    },
    "kernelspec": {
      "name": "python3",
      "display_name": "Python 3"
    },
    "language_info": {
      "name": "python"
    }
  },
  "cells": [
    {
      "cell_type": "markdown",
      "metadata": {
        "id": "view-in-github",
        "colab_type": "text"
      },
      "source": [
        "<a href=\"https://colab.research.google.com/github/vibeshvidya/AWS-Demos/blob/master/Python_Day4.ipynb\" target=\"_parent\"><img src=\"https://colab.research.google.com/assets/colab-badge.svg\" alt=\"Open In Colab\"/></a>"
      ]
    },
    {
      "cell_type": "code",
      "execution_count": 5,
      "metadata": {
        "colab": {
          "base_uri": "https://localhost:8080/"
        },
        "id": "4_dlcHoPmYk4",
        "outputId": "714e6e38-e0db-4e16-a877-698d7367136a"
      },
      "outputs": [
        {
          "output_type": "execute_result",
          "data": {
            "text/plain": [
              "{'brand': 'Maruti', 'model': 'Sedan', 'Year': '1990', 'Automatic': 'Yes'}"
            ]
          },
          "metadata": {},
          "execution_count": 5
        }
      ],
      "source": [
        "car={\n",
        "    \"brand\":\"Maruti\",\n",
        "    \"model\":\"Sedan\",\n",
        "    \"Year\":\"1990\",\n",
        "    \"Automatic\":\"Yes\"\n",
        "}\n",
        "car\n"
      ]
    },
    {
      "cell_type": "code",
      "source": [
        "print(car)"
      ],
      "metadata": {
        "colab": {
          "base_uri": "https://localhost:8080/"
        },
        "id": "eAc3KEOToxtp",
        "outputId": "a79752aa-f974-402c-bdc9-76d8ecb34bf2"
      },
      "execution_count": 6,
      "outputs": [
        {
          "output_type": "stream",
          "name": "stdout",
          "text": [
            "{'brand': 'Maruti', 'model': 'Sedan', 'Year': '1990', 'Automatic': 'Yes'}\n"
          ]
        }
      ]
    },
    {
      "cell_type": "code",
      "source": [
        "print(len(car))"
      ],
      "metadata": {
        "colab": {
          "base_uri": "https://localhost:8080/"
        },
        "id": "Eoor5_repQLF",
        "outputId": "d5ebbe4b-d687-4653-ae09-2abd8317eb2b"
      },
      "execution_count": 7,
      "outputs": [
        {
          "output_type": "stream",
          "name": "stdout",
          "text": [
            "4\n"
          ]
        }
      ]
    },
    {
      "cell_type": "code",
      "source": [
        "type(car)"
      ],
      "metadata": {
        "colab": {
          "base_uri": "https://localhost:8080/"
        },
        "id": "ZXJQGL-HpSKC",
        "outputId": "4f3efe66-cc36-4bd8-db71-2c63b50ce768"
      },
      "execution_count": 8,
      "outputs": [
        {
          "output_type": "execute_result",
          "data": {
            "text/plain": [
              "dict"
            ]
          },
          "metadata": {},
          "execution_count": 8
        }
      ]
    },
    {
      "cell_type": "code",
      "source": [
        "car =dict(brand=\"Maruti\", price=\"5L\",model=2024)\n",
        "car"
      ],
      "metadata": {
        "colab": {
          "base_uri": "https://localhost:8080/"
        },
        "id": "I4aJWVPTpU_l",
        "outputId": "e604349b-221c-4075-a45d-daeabe201835"
      },
      "execution_count": 14,
      "outputs": [
        {
          "output_type": "execute_result",
          "data": {
            "text/plain": [
              "{'brand': 'Maruti', 'price': '5L', 'model': 2024}"
            ]
          },
          "metadata": {},
          "execution_count": 14
        }
      ]
    },
    {
      "cell_type": "code",
      "source": [
        "car['brand']"
      ],
      "metadata": {
        "colab": {
          "base_uri": "https://localhost:8080/",
          "height": 35
        },
        "id": "B2wvoSaOp2gZ",
        "outputId": "80d461a0-4497-490a-b547-bb589ab48eb7"
      },
      "execution_count": 16,
      "outputs": [
        {
          "output_type": "execute_result",
          "data": {
            "text/plain": [
              "'Maruti'"
            ],
            "application/vnd.google.colaboratory.intrinsic+json": {
              "type": "string"
            }
          },
          "metadata": {},
          "execution_count": 16
        }
      ]
    },
    {
      "cell_type": "code",
      "source": [
        "car.get('model')"
      ],
      "metadata": {
        "colab": {
          "base_uri": "https://localhost:8080/"
        },
        "id": "5KbImqwLqgKu",
        "outputId": "e2229e77-94cc-4d48-83d6-95c7aca54b6f"
      },
      "execution_count": 18,
      "outputs": [
        {
          "output_type": "execute_result",
          "data": {
            "text/plain": [
              "2024"
            ]
          },
          "metadata": {},
          "execution_count": 18
        }
      ]
    },
    {
      "cell_type": "code",
      "source": [
        "car.get(\"price\")"
      ],
      "metadata": {
        "colab": {
          "base_uri": "https://localhost:8080/",
          "height": 35
        },
        "id": "BwAhpX8qqkQs",
        "outputId": "72f9866f-2825-4596-94a6-5ede58ee7539"
      },
      "execution_count": 19,
      "outputs": [
        {
          "output_type": "execute_result",
          "data": {
            "text/plain": [
              "'5L'"
            ],
            "application/vnd.google.colaboratory.intrinsic+json": {
              "type": "string"
            }
          },
          "metadata": {},
          "execution_count": 19
        }
      ]
    },
    {
      "cell_type": "code",
      "source": [
        "y=car.keys()\n",
        "y"
      ],
      "metadata": {
        "colab": {
          "base_uri": "https://localhost:8080/"
        },
        "id": "ItXXI3vKqqpw",
        "outputId": "e5602966-13aa-43c1-cf10-bb2785f28fda"
      },
      "execution_count": 20,
      "outputs": [
        {
          "output_type": "execute_result",
          "data": {
            "text/plain": [
              "dict_keys(['brand', 'price', 'model'])"
            ]
          },
          "metadata": {},
          "execution_count": 20
        }
      ]
    },
    {
      "cell_type": "code",
      "source": [
        "z=car.values()\n",
        "z\n",
        "type(z)"
      ],
      "metadata": {
        "colab": {
          "base_uri": "https://localhost:8080/"
        },
        "id": "8SuBts6sq9OQ",
        "outputId": "f3316a99-b911-4665-9ada-e284daeb6663"
      },
      "execution_count": 28,
      "outputs": [
        {
          "output_type": "execute_result",
          "data": {
            "text/plain": [
              "dict_values"
            ]
          },
          "metadata": {},
          "execution_count": 28
        }
      ]
    },
    {
      "cell_type": "code",
      "source": [
        "car['brand']=\"Ford\"\n",
        "car.values()\n",
        "type(car)"
      ],
      "metadata": {
        "colab": {
          "base_uri": "https://localhost:8080/"
        },
        "id": "VI0r9kIurBPz",
        "outputId": "ad9a35a3-a4d5-45d5-8268-b865d767e6b0"
      },
      "execution_count": 27,
      "outputs": [
        {
          "output_type": "execute_result",
          "data": {
            "text/plain": [
              "dict"
            ]
          },
          "metadata": {},
          "execution_count": 27
        }
      ]
    },
    {
      "cell_type": "code",
      "source": [
        "a=car.items()\n",
        "a\n",
        "type(a)"
      ],
      "metadata": {
        "colab": {
          "base_uri": "https://localhost:8080/"
        },
        "id": "JE_g_P1brY8k",
        "outputId": "8ed2c557-93dd-49c3-f246-83e699c84174"
      },
      "execution_count": 26,
      "outputs": [
        {
          "output_type": "execute_result",
          "data": {
            "text/plain": [
              "dict_items"
            ]
          },
          "metadata": {},
          "execution_count": 26
        }
      ]
    },
    {
      "cell_type": "code",
      "source": [
        "type(a)"
      ],
      "metadata": {
        "colab": {
          "base_uri": "https://localhost:8080/"
        },
        "id": "-H2IRZ3ZrxP8",
        "outputId": "fae33fe0-d6a8-4fd0-8bdf-2b9a23ce23b7"
      },
      "execution_count": 25,
      "outputs": [
        {
          "output_type": "execute_result",
          "data": {
            "text/plain": [
              "dict_items"
            ]
          },
          "metadata": {},
          "execution_count": 25
        }
      ]
    },
    {
      "cell_type": "code",
      "source": [
        "print(a)"
      ],
      "metadata": {
        "colab": {
          "base_uri": "https://localhost:8080/"
        },
        "id": "cfM7xUVLr3aA",
        "outputId": "e0113e7b-2140-4148-b8aa-25e5152b8df0"
      },
      "execution_count": 29,
      "outputs": [
        {
          "output_type": "stream",
          "name": "stdout",
          "text": [
            "dict_items([('brand', 'Ford'), ('price', '5L'), ('model', 2024)])\n"
          ]
        }
      ]
    },
    {
      "cell_type": "code",
      "source": [
        "car.get(\"price\")"
      ],
      "metadata": {
        "colab": {
          "base_uri": "https://localhost:8080/",
          "height": 35
        },
        "id": "OZ-05JYssFYe",
        "outputId": "f98c59c5-6e57-499f-a74b-1028164daa5f"
      },
      "execution_count": 33,
      "outputs": [
        {
          "output_type": "execute_result",
          "data": {
            "text/plain": [
              "'5L'"
            ],
            "application/vnd.google.colaboratory.intrinsic+json": {
              "type": "string"
            }
          },
          "metadata": {},
          "execution_count": 33
        }
      ]
    },
    {
      "cell_type": "code",
      "source": [
        "car.update({\"price\":\"6L\"})\n",
        "car"
      ],
      "metadata": {
        "colab": {
          "base_uri": "https://localhost:8080/"
        },
        "id": "pxxNb4JcsPMm",
        "outputId": "be414593-a69e-4977-eb44-5865fa8adbd0"
      },
      "execution_count": 38,
      "outputs": [
        {
          "output_type": "execute_result",
          "data": {
            "text/plain": [
              "{'brand': 'Ford', 'price': '6L', 'model': 2024}"
            ]
          },
          "metadata": {},
          "execution_count": 38
        }
      ]
    },
    {
      "cell_type": "code",
      "source": [
        "car[\"dummy\"]=\"\"\n",
        "car"
      ],
      "metadata": {
        "colab": {
          "base_uri": "https://localhost:8080/"
        },
        "id": "hmTA__nwtRBR",
        "outputId": "93426205-0490-4eed-9733-7a719d6ff877"
      },
      "execution_count": 39,
      "outputs": [
        {
          "output_type": "execute_result",
          "data": {
            "text/plain": [
              "{'brand': 'Ford', 'price': '6L', 'model': 2024, 'dummy': ''}"
            ]
          },
          "metadata": {},
          "execution_count": 39
        }
      ]
    },
    {
      "cell_type": "code",
      "source": [
        "car.popitem()\n",
        "car"
      ],
      "metadata": {
        "colab": {
          "base_uri": "https://localhost:8080/"
        },
        "id": "WmIWhWFAt7CU",
        "outputId": "a40e0ffa-d1c1-4c5e-d038-e288f60412d2"
      },
      "execution_count": 40,
      "outputs": [
        {
          "output_type": "execute_result",
          "data": {
            "text/plain": [
              "{'brand': 'Ford', 'price': '6L', 'model': 2024}"
            ]
          },
          "metadata": {},
          "execution_count": 40
        }
      ]
    },
    {
      "cell_type": "code",
      "source": [
        "car.pop(\"price\")\n",
        "car"
      ],
      "metadata": {
        "colab": {
          "base_uri": "https://localhost:8080/"
        },
        "id": "BuXRxeB4uHxe",
        "outputId": "de10ad6f-5179-450e-cdce-4bf0aab10602"
      },
      "execution_count": 44,
      "outputs": [
        {
          "output_type": "execute_result",
          "data": {
            "text/plain": [
              "{'model': 2024}"
            ]
          },
          "metadata": {},
          "execution_count": 44
        }
      ]
    },
    {
      "cell_type": "code",
      "source": [
        "print(car)"
      ],
      "metadata": {
        "colab": {
          "base_uri": "https://localhost:8080/"
        },
        "id": "emlGzRbyuZAn",
        "outputId": "e4950a28-f276-427c-de19-e1817efa72da"
      },
      "execution_count": 45,
      "outputs": [
        {
          "output_type": "stream",
          "name": "stdout",
          "text": [
            "{'model': 2024}\n"
          ]
        }
      ]
    },
    {
      "cell_type": "code",
      "source": [
        "car={\n",
        "    \"brand\":\"Maruti\",\n",
        "    \"model\":\"Sedan\",\n",
        "    \"Year\":\"1990\",\n",
        "    \"Automatic\":\"Yes\"\n",
        "}\n",
        "car"
      ],
      "metadata": {
        "colab": {
          "base_uri": "https://localhost:8080/"
        },
        "id": "pvyzUu7Fu1uC",
        "outputId": "d69ecc82-b3fa-4370-e86c-ef91c3c3a216"
      },
      "execution_count": 49,
      "outputs": [
        {
          "output_type": "execute_result",
          "data": {
            "text/plain": [
              "{'brand': 'Maruti', 'model': 'Sedan', 'Year': '1990', 'Automatic': 'Yes'}"
            ]
          },
          "metadata": {},
          "execution_count": 49
        }
      ]
    },
    {
      "cell_type": "code",
      "source": [
        "car"
      ],
      "metadata": {
        "colab": {
          "base_uri": "https://localhost:8080/",
          "height": 141
        },
        "id": "l17zK10pvhqp",
        "outputId": "be077684-2497-48d3-901a-dd7488b9e697"
      },
      "execution_count": 54,
      "outputs": [
        {
          "output_type": "error",
          "ename": "NameError",
          "evalue": "name 'car' is not defined",
          "traceback": [
            "\u001b[0;31m---------------------------------------------------------------------------\u001b[0m",
            "\u001b[0;31mNameError\u001b[0m                                 Traceback (most recent call last)",
            "\u001b[0;32m/tmp/ipython-input-1416661310.py\u001b[0m in \u001b[0;36m<cell line: 0>\u001b[0;34m()\u001b[0m\n\u001b[0;32m----> 1\u001b[0;31m \u001b[0mcar\u001b[0m\u001b[0;34m\u001b[0m\u001b[0;34m\u001b[0m\u001b[0m\n\u001b[0m",
            "\u001b[0;31mNameError\u001b[0m: name 'car' is not defined"
          ]
        }
      ]
    },
    {
      "cell_type": "code",
      "source": [
        "print(car)"
      ],
      "metadata": {
        "colab": {
          "base_uri": "https://localhost:8080/",
          "height": 141
        },
        "id": "BG8RpRNgvjSE",
        "outputId": "66e3d9a2-99f3-47f1-f920-bbded95ae125"
      },
      "execution_count": 55,
      "outputs": [
        {
          "output_type": "error",
          "ename": "NameError",
          "evalue": "name 'car' is not defined",
          "traceback": [
            "\u001b[0;31m---------------------------------------------------------------------------\u001b[0m",
            "\u001b[0;31mNameError\u001b[0m                                 Traceback (most recent call last)",
            "\u001b[0;32m/tmp/ipython-input-3110280119.py\u001b[0m in \u001b[0;36m<cell line: 0>\u001b[0;34m()\u001b[0m\n\u001b[0;32m----> 1\u001b[0;31m \u001b[0mprint\u001b[0m\u001b[0;34m(\u001b[0m\u001b[0mcar\u001b[0m\u001b[0;34m)\u001b[0m\u001b[0;34m\u001b[0m\u001b[0;34m\u001b[0m\u001b[0m\n\u001b[0m",
            "\u001b[0;31mNameError\u001b[0m: name 'car' is not defined"
          ]
        }
      ]
    },
    {
      "cell_type": "code",
      "source": [
        "car={\n",
        "    \"brand\":\"Maruti\",\n",
        "    \"model\":\"Sedan\",\n",
        "    \"Year\":\"1990\",\n",
        "    \"Automatic\":\"Yes\"\n",
        "}\n",
        "car"
      ],
      "metadata": {
        "colab": {
          "base_uri": "https://localhost:8080/"
        },
        "id": "_Xj7bdQlvkoL",
        "outputId": "15237740-8bdc-4805-f72e-86ffaa94f0ca"
      },
      "execution_count": 56,
      "outputs": [
        {
          "output_type": "execute_result",
          "data": {
            "text/plain": [
              "{'brand': 'Maruti', 'model': 'Sedan', 'Year': '1990', 'Automatic': 'Yes'}"
            ]
          },
          "metadata": {},
          "execution_count": 56
        }
      ]
    },
    {
      "cell_type": "code",
      "source": [
        "del car[\"Automatic\"]\n",
        "car"
      ],
      "metadata": {
        "colab": {
          "base_uri": "https://localhost:8080/"
        },
        "id": "A48wfQ5LwB8X",
        "outputId": "936cefbb-13f2-4f0d-d0a0-7b7170243504"
      },
      "execution_count": 57,
      "outputs": [
        {
          "output_type": "execute_result",
          "data": {
            "text/plain": [
              "{'brand': 'Maruti', 'model': 'Sedan', 'Year': '1990'}"
            ]
          },
          "metadata": {},
          "execution_count": 57
        }
      ]
    },
    {
      "cell_type": "code",
      "source": [
        "del car"
      ],
      "metadata": {
        "id": "uvaMGVszwFvY"
      },
      "execution_count": 58,
      "outputs": []
    },
    {
      "cell_type": "code",
      "source": [
        "car"
      ],
      "metadata": {
        "colab": {
          "base_uri": "https://localhost:8080/",
          "height": 141
        },
        "id": "hf4v2C6lxagz",
        "outputId": "242a67e2-b4f5-4d51-c057-cbb8440b57f5"
      },
      "execution_count": 59,
      "outputs": [
        {
          "output_type": "error",
          "ename": "NameError",
          "evalue": "name 'car' is not defined",
          "traceback": [
            "\u001b[0;31m---------------------------------------------------------------------------\u001b[0m",
            "\u001b[0;31mNameError\u001b[0m                                 Traceback (most recent call last)",
            "\u001b[0;32m/tmp/ipython-input-1416661310.py\u001b[0m in \u001b[0;36m<cell line: 0>\u001b[0;34m()\u001b[0m\n\u001b[0;32m----> 1\u001b[0;31m \u001b[0mcar\u001b[0m\u001b[0;34m\u001b[0m\u001b[0;34m\u001b[0m\u001b[0m\n\u001b[0m",
            "\u001b[0;31mNameError\u001b[0m: name 'car' is not defined"
          ]
        }
      ]
    },
    {
      "cell_type": "code",
      "source": [
        "car.clear()"
      ],
      "metadata": {
        "colab": {
          "base_uri": "https://localhost:8080/",
          "height": 141
        },
        "id": "O0SFWpoIxbSB",
        "outputId": "71ade179-fc73-4e17-a449-d04f729f32b0"
      },
      "execution_count": 60,
      "outputs": [
        {
          "output_type": "error",
          "ename": "NameError",
          "evalue": "name 'car' is not defined",
          "traceback": [
            "\u001b[0;31m---------------------------------------------------------------------------\u001b[0m",
            "\u001b[0;31mNameError\u001b[0m                                 Traceback (most recent call last)",
            "\u001b[0;32m/tmp/ipython-input-2467664783.py\u001b[0m in \u001b[0;36m<cell line: 0>\u001b[0;34m()\u001b[0m\n\u001b[0;32m----> 1\u001b[0;31m \u001b[0mcar\u001b[0m\u001b[0;34m.\u001b[0m\u001b[0mclear\u001b[0m\u001b[0;34m(\u001b[0m\u001b[0;34m)\u001b[0m\u001b[0;34m\u001b[0m\u001b[0;34m\u001b[0m\u001b[0m\n\u001b[0m",
            "\u001b[0;31mNameError\u001b[0m: name 'car' is not defined"
          ]
        }
      ]
    },
    {
      "cell_type": "code",
      "source": [
        "car={\n",
        "    \"brand\":\"Maruti\",\n",
        "    \"model\":\"Sedan\",\n",
        "    \"Year\":\"1990\",\n",
        "    \"Automatic\":\"Yes\"\n",
        "}\n",
        "car"
      ],
      "metadata": {
        "colab": {
          "base_uri": "https://localhost:8080/"
        },
        "id": "WLo1wvpbxjO6",
        "outputId": "96f37297-f221-4a84-a622-27e3be568459"
      },
      "execution_count": 61,
      "outputs": [
        {
          "output_type": "execute_result",
          "data": {
            "text/plain": [
              "{'brand': 'Maruti', 'model': 'Sedan', 'Year': '1990', 'Automatic': 'Yes'}"
            ]
          },
          "metadata": {},
          "execution_count": 61
        }
      ]
    },
    {
      "cell_type": "code",
      "source": [
        "car.clear()"
      ],
      "metadata": {
        "id": "da5SGHdYxnMo"
      },
      "execution_count": 62,
      "outputs": []
    },
    {
      "cell_type": "code",
      "source": [
        "car"
      ],
      "metadata": {
        "colab": {
          "base_uri": "https://localhost:8080/"
        },
        "id": "mrQDLqpQxoqw",
        "outputId": "d5113544-989e-4949-c4e7-a0d5e9d08700"
      },
      "execution_count": 63,
      "outputs": [
        {
          "output_type": "execute_result",
          "data": {
            "text/plain": [
              "{}"
            ]
          },
          "metadata": {},
          "execution_count": 63
        }
      ]
    },
    {
      "cell_type": "code",
      "source": [
        "car={\n",
        "    \"brand\":\"Ford\",\n",
        "    \"model\":\"Sedan\",\n",
        "    \"Year\":\"1990\",\n",
        "    \"Automatic\":\"Yes\"\n",
        "}\n",
        "car"
      ],
      "metadata": {
        "colab": {
          "base_uri": "https://localhost:8080/"
        },
        "id": "WLgo2dORxpMw",
        "outputId": "92befd8f-0b9b-4078-b7ec-cbe055c6186c"
      },
      "execution_count": 64,
      "outputs": [
        {
          "output_type": "execute_result",
          "data": {
            "text/plain": [
              "{'brand': 'Ford', 'model': 'Sedan', 'Year': '1990', 'Automatic': 'Yes'}"
            ]
          },
          "metadata": {},
          "execution_count": 64
        }
      ]
    },
    {
      "cell_type": "code",
      "source": [
        "car ={\n",
        "    \"car1\":{\n",
        "    \"brand\":\"Ford\",\n",
        "    \"model\":\"Sedan\",\n",
        "    \"Year\":\"1990\",\n",
        "    \"Automatic\":\"Yes\"\n",
        "    },\n",
        "    \"car2\":{\n",
        "    \"brand\":\"Maruti\",\n",
        "    \"model\":\"Sedan\",\n",
        "    \"Year\":\"1993\",\n",
        "    \"Automatic\":\"No\"},\n",
        "    \"car3\":{\n",
        "    \"brand\":\"Tata\",\n",
        "    \"model\":\"SUV\",\n",
        "    \"Year\":\"1990\",\n",
        "    \"Automatic\":\"Yes\"}\n",
        "}\n",
        "car\n",
        "\n"
      ],
      "metadata": {
        "colab": {
          "base_uri": "https://localhost:8080/"
        },
        "id": "9x1wsSMfxsHF",
        "outputId": "c15bc0d8-ad9d-4ed0-c823-8b1ae34cc98e"
      },
      "execution_count": 67,
      "outputs": [
        {
          "output_type": "execute_result",
          "data": {
            "text/plain": [
              "{'car1': {'brand': 'Ford',\n",
              "  'model': 'Sedan',\n",
              "  'Year': '1990',\n",
              "  'Automatic': 'Yes'},\n",
              " 'car2': {'brand': 'Maruti',\n",
              "  'model': 'Sedan',\n",
              "  'Year': '1993',\n",
              "  'Automatic': 'No'},\n",
              " 'car3': {'brand': 'Tata', 'model': 'SUV', 'Year': '1990', 'Automatic': 'Yes'}}"
            ]
          },
          "metadata": {},
          "execution_count": 67
        }
      ]
    },
    {
      "cell_type": "code",
      "source": [
        "car.get(\"car1\")"
      ],
      "metadata": {
        "colab": {
          "base_uri": "https://localhost:8080/"
        },
        "id": "aua2I_AGylAm",
        "outputId": "1264a3ac-9c9d-4e5b-cd2b-fe11308ae86e"
      },
      "execution_count": 68,
      "outputs": [
        {
          "output_type": "execute_result",
          "data": {
            "text/plain": [
              "{'brand': 'Ford', 'model': 'Sedan', 'Year': '1990', 'Automatic': 'Yes'}"
            ]
          },
          "metadata": {},
          "execution_count": 68
        }
      ]
    },
    {
      "cell_type": "code",
      "source": [
        "car['car3']['Year']"
      ],
      "metadata": {
        "colab": {
          "base_uri": "https://localhost:8080/",
          "height": 35
        },
        "id": "1HsaA0G3zKYw",
        "outputId": "c5535572-6851-4aff-fca4-7407432ffb4f"
      },
      "execution_count": 73,
      "outputs": [
        {
          "output_type": "execute_result",
          "data": {
            "text/plain": [
              "'1990'"
            ],
            "application/vnd.google.colaboratory.intrinsic+json": {
              "type": "string"
            }
          },
          "metadata": {},
          "execution_count": 73
        }
      ]
    },
    {
      "cell_type": "code",
      "source": [
        "print(car1)"
      ],
      "metadata": {
        "colab": {
          "base_uri": "https://localhost:8080/",
          "height": 141
        },
        "id": "iWQzLFlczt8N",
        "outputId": "98cb9d2d-f4c1-4096-f41f-93d13ee843da"
      },
      "execution_count": 79,
      "outputs": [
        {
          "output_type": "error",
          "ename": "NameError",
          "evalue": "name 'car1' is not defined",
          "traceback": [
            "\u001b[0;31m---------------------------------------------------------------------------\u001b[0m",
            "\u001b[0;31mNameError\u001b[0m                                 Traceback (most recent call last)",
            "\u001b[0;32m/tmp/ipython-input-3612912585.py\u001b[0m in \u001b[0;36m<cell line: 0>\u001b[0;34m()\u001b[0m\n\u001b[0;32m----> 1\u001b[0;31m \u001b[0mprint\u001b[0m\u001b[0;34m(\u001b[0m\u001b[0mcar1\u001b[0m\u001b[0;34m)\u001b[0m\u001b[0;34m\u001b[0m\u001b[0;34m\u001b[0m\u001b[0m\n\u001b[0m",
            "\u001b[0;31mNameError\u001b[0m: name 'car1' is not defined"
          ]
        }
      ]
    },
    {
      "cell_type": "code",
      "source": [
        "car ={\n",
        "    \"car1\":{\n",
        "    \"brand\":\"Ford\",\n",
        "    \"model\":\"Sedan\",\n",
        "    \"Year\":\"1990\",\n",
        "    \"Automatic\":\"Yes\"\n",
        "    },\n",
        "    \"car2\":{\n",
        "    \"brand\":\"Maruti\",\n",
        "    \"model\":\"Sedan\",\n",
        "    \"Year\":\"1993\",\n",
        "    \"Automatic\":\"No\"\n",
        "    },\n",
        "    \"car3\":{\n",
        "    \"brand\":\"Tata\",\n",
        "    \"model\":\"SUV\",\n",
        "    \"Year\":\"1990\",\n",
        "    \"Automatic\":\"Yes\"}\n",
        "}\n",
        "car"
      ],
      "metadata": {
        "colab": {
          "base_uri": "https://localhost:8080/"
        },
        "id": "QAvq7WZk0AG2",
        "outputId": "26beaff9-0613-4443-eee8-4121a1df0308"
      },
      "execution_count": 82,
      "outputs": [
        {
          "output_type": "execute_result",
          "data": {
            "text/plain": [
              "{'car1': {'brand': 'Ford',\n",
              "  'model': 'Sedan',\n",
              "  'Year': '1990',\n",
              "  'Automatic': 'Yes'},\n",
              " 'car2': {'brand': 'Maruti',\n",
              "  'model': 'Sedan',\n",
              "  'Year': '1993',\n",
              "  'Automatic': 'No'},\n",
              " 'car3': {'brand': 'Tata', 'model': 'SUV', 'Year': '1990', 'Automatic': 'Yes'}}"
            ]
          },
          "metadata": {},
          "execution_count": 82
        }
      ]
    },
    {
      "cell_type": "code",
      "source": [
        "print(car2)"
      ],
      "metadata": {
        "colab": {
          "base_uri": "https://localhost:8080/"
        },
        "id": "bxduq1ed0XUV",
        "outputId": "cff7d13d-01c2-474d-8dd0-f3306e72742a"
      },
      "execution_count": 84,
      "outputs": [
        {
          "output_type": "stream",
          "name": "stdout",
          "text": [
            "{'car1': {'brand': 'Ford', 'model': 'Sedan', 'Year': '1990', 'Automatic': 'Yes'}, 'car2': {'brand': 'Maruti', 'model': 'Sedan', 'Year': '1993', 'Automatic': 'No'}, 'car3': {'brand': 'Tata', 'model': 'SUV', 'Year': '1990', 'Automatic': 'Yes'}}\n"
          ]
        }
      ]
    },
    {
      "cell_type": "code",
      "source": [
        "car ={\n",
        "    \"car1\":{\n",
        "    \"brand\":\"Ford\",\n",
        "    \"model\":\"Sedan\",\n",
        "    \"Year\":\"1990\",\n",
        "    \"Automatic\":\"Yes\"\n",
        "    },\n",
        "    \"car2\":{\n",
        "    \"brand\":\"Maruti\",\n",
        "    \"model\":\"Sedan\",\n",
        "    \"Year\":\"1993\",\n",
        "    \"Automatic\":\"No\"\n",
        "    },\n",
        "    \"car3\":{\n",
        "    \"brand\":\"Tata\",\n",
        "    \"model\":\"SUV\",\n",
        "    \"Year\":\"1990\",\n",
        "    \"Automatic\":\"Yes\"}\n",
        "}\n",
        "car\n",
        "car.get(\"car2\")\n",
        "car['car2']"
      ],
      "metadata": {
        "colab": {
          "base_uri": "https://localhost:8080/"
        },
        "id": "9NRTvmbu0YyZ",
        "outputId": "50e79461-3007-4e95-eeaa-0c82529f97d1"
      },
      "execution_count": 92,
      "outputs": [
        {
          "output_type": "execute_result",
          "data": {
            "text/plain": [
              "{'brand': 'Maruti', 'model': 'Sedan', 'Year': '1993', 'Automatic': 'No'}"
            ]
          },
          "metadata": {},
          "execution_count": 92
        }
      ]
    },
    {
      "cell_type": "code",
      "source": [
        "new_car={\n",
        "    \"new_car1\":car1,\n",
        "    \"new_car2\":car2,\n",
        "    \"new_car3\":car3\n",
        "}\n",
        "\n"
      ],
      "metadata": {
        "colab": {
          "base_uri": "https://localhost:8080/",
          "height": 211
        },
        "id": "Na-UoD-K1Lpt",
        "outputId": "538a741d-5179-4025-cdd9-f55133c20db2"
      },
      "execution_count": 99,
      "outputs": [
        {
          "output_type": "error",
          "ename": "NameError",
          "evalue": "name 'car1' is not defined",
          "traceback": [
            "\u001b[0;31m---------------------------------------------------------------------------\u001b[0m",
            "\u001b[0;31mNameError\u001b[0m                                 Traceback (most recent call last)",
            "\u001b[0;32m/tmp/ipython-input-3431127875.py\u001b[0m in \u001b[0;36m<cell line: 0>\u001b[0;34m()\u001b[0m\n\u001b[1;32m      1\u001b[0m new_car={\n\u001b[0;32m----> 2\u001b[0;31m     \u001b[0;34m\"new_car1\"\u001b[0m\u001b[0;34m:\u001b[0m\u001b[0mcar1\u001b[0m\u001b[0;34m,\u001b[0m\u001b[0;34m\u001b[0m\u001b[0;34m\u001b[0m\u001b[0m\n\u001b[0m\u001b[1;32m      3\u001b[0m     \u001b[0;34m\"new_car2\"\u001b[0m\u001b[0;34m:\u001b[0m\u001b[0mcar2\u001b[0m\u001b[0;34m,\u001b[0m\u001b[0;34m\u001b[0m\u001b[0;34m\u001b[0m\u001b[0m\n\u001b[1;32m      4\u001b[0m     \u001b[0;34m\"new_car3\"\u001b[0m\u001b[0;34m:\u001b[0m\u001b[0mcar3\u001b[0m\u001b[0;34m\u001b[0m\u001b[0;34m\u001b[0m\u001b[0m\n\u001b[1;32m      5\u001b[0m }\n",
            "\u001b[0;31mNameError\u001b[0m: name 'car1' is not defined"
          ]
        }
      ]
    },
    {
      "cell_type": "code",
      "source": [
        "car ={\n",
        "    \"car1\":{\n",
        "    \"brand\":\"Ford\",\n",
        "    \"model\":\"Sedan\",\n",
        "    \"Year\":\"1990\",\n",
        "    \"Automatic\":\"Yes\"\n",
        "    },\n",
        "    \"car2\":{\n",
        "    \"brand\":\"Maruti\",\n",
        "    \"model\":\"Sedan\",\n",
        "    \"Year\":\"1993\",\n",
        "    \"Automatic\":\"No\"\n",
        "    },\n",
        "    \"car3\":{\n",
        "    \"brand\":\"Tata\",\n",
        "    \"model\":\"SUV\",\n",
        "    \"Year\":\"1990\",\n",
        "    \"Automatic\":\"Yes\"}\n",
        "}\n",
        "car\n",
        "new_car={\n",
        "    \"new_car1\":car1,\n",
        "    \"new_car2\":car2,\n",
        "    \"new_car3\":car3\n",
        "}"
      ],
      "metadata": {
        "colab": {
          "base_uri": "https://localhost:8080/",
          "height": 211
        },
        "id": "JBJrpnuR2jh0",
        "outputId": "b7c6d8ac-a538-4677-9da9-97e25e38218d"
      },
      "execution_count": 100,
      "outputs": [
        {
          "output_type": "error",
          "ename": "NameError",
          "evalue": "name 'car1' is not defined",
          "traceback": [
            "\u001b[0;31m---------------------------------------------------------------------------\u001b[0m",
            "\u001b[0;31mNameError\u001b[0m                                 Traceback (most recent call last)",
            "\u001b[0;32m/tmp/ipython-input-3147750427.py\u001b[0m in \u001b[0;36m<cell line: 0>\u001b[0;34m()\u001b[0m\n\u001b[1;32m     20\u001b[0m \u001b[0mcar\u001b[0m\u001b[0;34m\u001b[0m\u001b[0;34m\u001b[0m\u001b[0m\n\u001b[1;32m     21\u001b[0m new_car={\n\u001b[0;32m---> 22\u001b[0;31m     \u001b[0;34m\"new_car1\"\u001b[0m\u001b[0;34m:\u001b[0m\u001b[0mcar1\u001b[0m\u001b[0;34m,\u001b[0m\u001b[0;34m\u001b[0m\u001b[0;34m\u001b[0m\u001b[0m\n\u001b[0m\u001b[1;32m     23\u001b[0m     \u001b[0;34m\"new_car2\"\u001b[0m\u001b[0;34m:\u001b[0m\u001b[0mcar2\u001b[0m\u001b[0;34m,\u001b[0m\u001b[0;34m\u001b[0m\u001b[0;34m\u001b[0m\u001b[0m\n\u001b[1;32m     24\u001b[0m     \u001b[0;34m\"new_car3\"\u001b[0m\u001b[0;34m:\u001b[0m\u001b[0mcar3\u001b[0m\u001b[0;34m\u001b[0m\u001b[0;34m\u001b[0m\u001b[0m\n",
            "\u001b[0;31mNameError\u001b[0m: name 'car1' is not defined"
          ]
        }
      ]
    },
    {
      "cell_type": "code",
      "source": [
        "car ={\n",
        "    \"car1\"={\n",
        "    \"brand\":\"Ford\",\n",
        "    \"model\":\"Sedan\",\n",
        "    \"Year\":\"1990\",\n",
        "    \"Automatic\":\"Yes\"\n",
        "    },\n",
        "    \"car2\"={\n",
        "    \"brand\":\"Maruti\",\n",
        "    \"model\":\"Sedan\",\n",
        "    \"Year\":\"1993\",\n",
        "    \"Automatic\":\"No\"\n",
        "    },\n",
        "    \"car3\"={\n",
        "    \"brand\":\"Tata\",\n",
        "    \"model\":\"SUV\",\n",
        "    \"Year\":\"1990\",\n",
        "    \"Automatic\":\"Yes\"}\n",
        "}\n",
        "car"
      ],
      "metadata": {
        "colab": {
          "base_uri": "https://localhost:8080/",
          "height": 106
        },
        "id": "WQsPbdlM3KYB",
        "outputId": "fe5204fa-d72b-4ba2-e95f-891679a00f19"
      },
      "execution_count": 101,
      "outputs": [
        {
          "output_type": "error",
          "ename": "SyntaxError",
          "evalue": "cannot assign to literal here. Maybe you meant '==' instead of '='? (ipython-input-731183810.py, line 2)",
          "traceback": [
            "\u001b[0;36m  File \u001b[0;32m\"/tmp/ipython-input-731183810.py\"\u001b[0;36m, line \u001b[0;32m2\u001b[0m\n\u001b[0;31m    \"car1\"={\u001b[0m\n\u001b[0m    ^\u001b[0m\n\u001b[0;31mSyntaxError\u001b[0m\u001b[0;31m:\u001b[0m cannot assign to literal here. Maybe you meant '==' instead of '='?\n"
          ]
        }
      ]
    },
    {
      "cell_type": "code",
      "source": [
        "car ={\n",
        "    \"car1\":{\n",
        "    \"brand\":\"Ford\",\n",
        "    \"model\":\"Sedan\",\n",
        "    \"Year\":\"1990\",\n",
        "    \"Automatic\":\"Yes\"\n",
        "    },\n",
        "    \"car2\":{\n",
        "    \"brand\":\"Maruti\",\n",
        "    \"model\":\"Sedan\",\n",
        "    \"Year\":\"1993\",\n",
        "    \"Automatic\":\"No\"\n",
        "    },\n",
        "    \"car3\":{\n",
        "    \"brand\":\"Tata\",\n",
        "    \"model\":\"SUV\",\n",
        "    \"Year\":\"1990\",\n",
        "    \"Automatic\":\"Yes\"}\n",
        "}"
      ],
      "metadata": {
        "id": "Jib_FiNC3bWc"
      },
      "execution_count": 102,
      "outputs": []
    },
    {
      "cell_type": "code",
      "source": [
        "car"
      ],
      "metadata": {
        "colab": {
          "base_uri": "https://localhost:8080/"
        },
        "id": "BJk4QUus3n4I",
        "outputId": "58cbcbfb-4cb1-4b4f-e431-8d46da9ce7e1"
      },
      "execution_count": 103,
      "outputs": [
        {
          "output_type": "execute_result",
          "data": {
            "text/plain": [
              "{'car1': {'brand': 'Ford',\n",
              "  'model': 'Sedan',\n",
              "  'Year': '1990',\n",
              "  'Automatic': 'Yes'},\n",
              " 'car2': {'brand': 'Maruti',\n",
              "  'model': 'Sedan',\n",
              "  'Year': '1993',\n",
              "  'Automatic': 'No'},\n",
              " 'car3': {'brand': 'Tata', 'model': 'SUV', 'Year': '1990', 'Automatic': 'Yes'}}"
            ]
          },
          "metadata": {},
          "execution_count": 103
        }
      ]
    },
    {
      "cell_type": "code",
      "source": [
        "car {\n",
        "    car1= {\n",
        "    \"brand\":\"Ford\",\n",
        "    \"model\":\"Sedan\",\n",
        "    \"Year\":\"1990\",\n",
        "    \"Automatic\":\"Yes\"\n",
        "    },\n",
        "    car2= {\n",
        "    \"brand\":\"Maruti\",\n",
        "    \"model\":\"Sedan\",\n",
        "    \"Year\":\"1993\",\n",
        "    \"Automatic\":\"No\"\n",
        "    },\n",
        "    car3= {\n",
        "    \"brand\":\"Tata\",\n",
        "    \"model\":\"SUV\",\n",
        "    \"Year\":\"1990\",\n",
        "    \"Automatic\":\"Yes\"}\n",
        "}"
      ],
      "metadata": {
        "colab": {
          "base_uri": "https://localhost:8080/",
          "height": 106
        },
        "id": "6kg-06gm3o8d",
        "outputId": "7a721c52-5a6b-4e54-985e-196e4ee28c85"
      },
      "execution_count": 105,
      "outputs": [
        {
          "output_type": "error",
          "ename": "SyntaxError",
          "evalue": "invalid syntax. Maybe you meant '==' or ':=' instead of '='? (ipython-input-3159426151.py, line 2)",
          "traceback": [
            "\u001b[0;36m  File \u001b[0;32m\"/tmp/ipython-input-3159426151.py\"\u001b[0;36m, line \u001b[0;32m2\u001b[0m\n\u001b[0;31m    car1= {\u001b[0m\n\u001b[0m    ^\u001b[0m\n\u001b[0;31mSyntaxError\u001b[0m\u001b[0;31m:\u001b[0m invalid syntax. Maybe you meant '==' or ':=' instead of '='?\n"
          ]
        }
      ]
    },
    {
      "cell_type": "code",
      "source": [
        "car = {\n",
        "    \"car1\": {\n",
        "        \"brand\": \"Ford\",\n",
        "        \"model\": \"Sedan\",\n",
        "        \"Year\": \"1990\",\n",
        "        \"Automatic\": \"Yes\"\n",
        "    },\n",
        "    \"car2\": {\n",
        "        \"brand\": \"Maruti\",\n",
        "        \"model\": \"Sedan\",\n",
        "        \"Year\": \"1993\",\n",
        "        \"Automatic\": \"No\"\n",
        "    },\n",
        "    \"car3\": {\n",
        "        \"brand\": \"Tata\",\n",
        "        \"model\": \"SUV\",\n",
        "        \"Year\": \"1990\",\n",
        "        \"Automatic\": \"Yes\"\n",
        "    }\n",
        "}"
      ],
      "metadata": {
        "id": "uYK3jt24356J"
      },
      "execution_count": 106,
      "outputs": []
    },
    {
      "cell_type": "code",
      "source": [
        "car"
      ],
      "metadata": {
        "colab": {
          "base_uri": "https://localhost:8080/"
        },
        "id": "lFX_7dqA4JI_",
        "outputId": "e7e70093-5ef1-4295-c578-a6c6812084c0"
      },
      "execution_count": 107,
      "outputs": [
        {
          "output_type": "execute_result",
          "data": {
            "text/plain": [
              "{'car1': {'brand': 'Ford',\n",
              "  'model': 'Sedan',\n",
              "  'Year': '1990',\n",
              "  'Automatic': 'Yes'},\n",
              " 'car2': {'brand': 'Maruti',\n",
              "  'model': 'Sedan',\n",
              "  'Year': '1993',\n",
              "  'Automatic': 'No'},\n",
              " 'car3': {'brand': 'Tata', 'model': 'SUV', 'Year': '1990', 'Automatic': 'Yes'}}"
            ]
          },
          "metadata": {},
          "execution_count": 107
        }
      ]
    },
    {
      "cell_type": "code",
      "source": [
        "print(car1)\n",
        "print(car2)\n",
        "print(car3)"
      ],
      "metadata": {
        "colab": {
          "base_uri": "https://localhost:8080/",
          "height": 176
        },
        "id": "cVEbO37f4KF5",
        "outputId": "c7796db2-0131-450a-a2cb-439a09ef36a8"
      },
      "execution_count": 108,
      "outputs": [
        {
          "output_type": "error",
          "ename": "NameError",
          "evalue": "name 'car1' is not defined",
          "traceback": [
            "\u001b[0;31m---------------------------------------------------------------------------\u001b[0m",
            "\u001b[0;31mNameError\u001b[0m                                 Traceback (most recent call last)",
            "\u001b[0;32m/tmp/ipython-input-509909203.py\u001b[0m in \u001b[0;36m<cell line: 0>\u001b[0;34m()\u001b[0m\n\u001b[0;32m----> 1\u001b[0;31m \u001b[0mprint\u001b[0m\u001b[0;34m(\u001b[0m\u001b[0mcar1\u001b[0m\u001b[0;34m)\u001b[0m\u001b[0;34m\u001b[0m\u001b[0;34m\u001b[0m\u001b[0m\n\u001b[0m\u001b[1;32m      2\u001b[0m \u001b[0mprint\u001b[0m\u001b[0;34m(\u001b[0m\u001b[0mcar2\u001b[0m\u001b[0;34m)\u001b[0m\u001b[0;34m\u001b[0m\u001b[0;34m\u001b[0m\u001b[0m\n\u001b[1;32m      3\u001b[0m \u001b[0mprint\u001b[0m\u001b[0;34m(\u001b[0m\u001b[0mcar3\u001b[0m\u001b[0;34m)\u001b[0m\u001b[0;34m\u001b[0m\u001b[0;34m\u001b[0m\u001b[0m\n",
            "\u001b[0;31mNameError\u001b[0m: name 'car1' is not defined"
          ]
        }
      ]
    },
    {
      "cell_type": "code",
      "source": [
        "car = {\n",
        "    \"car1\": {\n",
        "        \"brand\": \"Ford\",\n",
        "        \"model\": \"Sedan\",\n",
        "        \"Year\": \"1990\",\n",
        "        \"Automatic\": \"Yes\"\n",
        "    },\n",
        "    \"car2\": {\n",
        "        \"brand\": \"Maruti\",\n",
        "        \"model\": \"Sedan\",\n",
        "        \"Year\": \"1993\",\n",
        "        \"Automatic\": \"No\"\n",
        "    },\n",
        "    \"car3\": {\n",
        "        \"brand\": \"Tata\",\n",
        "        \"model\": \"SUV\",\n",
        "        \"Year\": \"1990\",\n",
        "        \"Automatic\": \"Yes\"\n",
        "    }\n",
        "}\n",
        "print(car[\"car1\"])\n",
        "print(car[\"car2\"])\n",
        "print(car[\"car3\"])"
      ],
      "metadata": {
        "colab": {
          "base_uri": "https://localhost:8080/"
        },
        "id": "t7FxRAXW4RGH",
        "outputId": "9e61a26f-877c-4500-ac9a-b2b4dc96128a"
      },
      "execution_count": 109,
      "outputs": [
        {
          "output_type": "stream",
          "name": "stdout",
          "text": [
            "{'brand': 'Ford', 'model': 'Sedan', 'Year': '1990', 'Automatic': 'Yes'}\n",
            "{'brand': 'Maruti', 'model': 'Sedan', 'Year': '1993', 'Automatic': 'No'}\n",
            "{'brand': 'Tata', 'model': 'SUV', 'Year': '1990', 'Automatic': 'Yes'}\n"
          ]
        }
      ]
    },
    {
      "cell_type": "code",
      "source": [
        "new_car={\n",
        "\"new_car1\": car1,\n",
        "\"new_car2\": car2,\n",
        "\"new_car3\": car3\n",
        "}"
      ],
      "metadata": {
        "colab": {
          "base_uri": "https://localhost:8080/",
          "height": 211
        },
        "id": "WPqXiTSp4lx5",
        "outputId": "dfe56c54-b35a-4562-a2fd-92b38e841e13"
      },
      "execution_count": 110,
      "outputs": [
        {
          "output_type": "error",
          "ename": "NameError",
          "evalue": "name 'car1' is not defined",
          "traceback": [
            "\u001b[0;31m---------------------------------------------------------------------------\u001b[0m",
            "\u001b[0;31mNameError\u001b[0m                                 Traceback (most recent call last)",
            "\u001b[0;32m/tmp/ipython-input-731659089.py\u001b[0m in \u001b[0;36m<cell line: 0>\u001b[0;34m()\u001b[0m\n\u001b[1;32m      1\u001b[0m new_car={\n\u001b[0;32m----> 2\u001b[0;31m \u001b[0;34m\"new_car1\"\u001b[0m\u001b[0;34m:\u001b[0m \u001b[0mcar1\u001b[0m\u001b[0;34m,\u001b[0m\u001b[0;34m\u001b[0m\u001b[0;34m\u001b[0m\u001b[0m\n\u001b[0m\u001b[1;32m      3\u001b[0m \u001b[0;34m\"new_car2\"\u001b[0m\u001b[0;34m:\u001b[0m \u001b[0mcar2\u001b[0m\u001b[0;34m,\u001b[0m\u001b[0;34m\u001b[0m\u001b[0;34m\u001b[0m\u001b[0m\n\u001b[1;32m      4\u001b[0m \u001b[0;34m\"new_car3\"\u001b[0m\u001b[0;34m:\u001b[0m \u001b[0mcar3\u001b[0m\u001b[0;34m\u001b[0m\u001b[0;34m\u001b[0m\u001b[0m\n\u001b[1;32m      5\u001b[0m }\n",
            "\u001b[0;31mNameError\u001b[0m: name 'car1' is not defined"
          ]
        }
      ]
    },
    {
      "cell_type": "code",
      "source": [
        "new_car={\n",
        "\"new_car1\": car[\"car1\"],\n",
        "\"new_car2\": car[\"car2\"],\n",
        "\"new_car3\": car[\"car3\"]\n",
        "}"
      ],
      "metadata": {
        "id": "Wy3TdxQu40qn"
      },
      "execution_count": 111,
      "outputs": []
    },
    {
      "cell_type": "code",
      "source": [
        "new_car"
      ],
      "metadata": {
        "colab": {
          "base_uri": "https://localhost:8080/"
        },
        "id": "GBtAt3h_5C7N",
        "outputId": "f4946759-206a-43ff-cd64-707ca6831fb7"
      },
      "execution_count": 112,
      "outputs": [
        {
          "output_type": "execute_result",
          "data": {
            "text/plain": [
              "{'new_car1': {'brand': 'Ford',\n",
              "  'model': 'Sedan',\n",
              "  'Year': '1990',\n",
              "  'Automatic': 'Yes'},\n",
              " 'new_car2': {'brand': 'Maruti',\n",
              "  'model': 'Sedan',\n",
              "  'Year': '1993',\n",
              "  'Automatic': 'No'},\n",
              " 'new_car3': {'brand': 'Tata',\n",
              "  'model': 'SUV',\n",
              "  'Year': '1990',\n",
              "  'Automatic': 'Yes'}}"
            ]
          },
          "metadata": {},
          "execution_count": 112
        }
      ]
    },
    {
      "cell_type": "code",
      "source": [
        "new_car[new_car1]['model']"
      ],
      "metadata": {
        "colab": {
          "base_uri": "https://localhost:8080/",
          "height": 141
        },
        "id": "GRKGV07r5ESQ",
        "outputId": "95288356-16bd-4969-ec8e-a60ae9a89916"
      },
      "execution_count": 113,
      "outputs": [
        {
          "output_type": "error",
          "ename": "NameError",
          "evalue": "name 'new_car1' is not defined",
          "traceback": [
            "\u001b[0;31m---------------------------------------------------------------------------\u001b[0m",
            "\u001b[0;31mNameError\u001b[0m                                 Traceback (most recent call last)",
            "\u001b[0;32m/tmp/ipython-input-147521231.py\u001b[0m in \u001b[0;36m<cell line: 0>\u001b[0;34m()\u001b[0m\n\u001b[0;32m----> 1\u001b[0;31m \u001b[0mnew_car\u001b[0m\u001b[0;34m[\u001b[0m\u001b[0mnew_car1\u001b[0m\u001b[0;34m]\u001b[0m\u001b[0;34m[\u001b[0m\u001b[0;34m'model'\u001b[0m\u001b[0;34m]\u001b[0m\u001b[0;34m\u001b[0m\u001b[0;34m\u001b[0m\u001b[0m\n\u001b[0m",
            "\u001b[0;31mNameError\u001b[0m: name 'new_car1' is not defined"
          ]
        }
      ]
    },
    {
      "cell_type": "code",
      "source": [
        "new_car[\"new_car1\"][\"model\"]"
      ],
      "metadata": {
        "colab": {
          "base_uri": "https://localhost:8080/",
          "height": 35
        },
        "id": "RvC4JKi25PiL",
        "outputId": "02c22a75-ac4f-4fd7-dab0-499eaf85fbe6"
      },
      "execution_count": 114,
      "outputs": [
        {
          "output_type": "execute_result",
          "data": {
            "text/plain": [
              "'Sedan'"
            ],
            "application/vnd.google.colaboratory.intrinsic+json": {
              "type": "string"
            }
          },
          "metadata": {},
          "execution_count": 114
        }
      ]
    },
    {
      "cell_type": "code",
      "source": [
        "new_car[\"new_car2\"][\"model\"]"
      ],
      "metadata": {
        "colab": {
          "base_uri": "https://localhost:8080/",
          "height": 35
        },
        "id": "C-Zg3pNN5dGN",
        "outputId": "6146001d-d92f-468f-a651-e6faa506c2d6"
      },
      "execution_count": 115,
      "outputs": [
        {
          "output_type": "execute_result",
          "data": {
            "text/plain": [
              "'Sedan'"
            ],
            "application/vnd.google.colaboratory.intrinsic+json": {
              "type": "string"
            }
          },
          "metadata": {},
          "execution_count": 115
        }
      ]
    },
    {
      "cell_type": "code",
      "source": [
        "new_car[\"new_car1\"][\"model\"]"
      ],
      "metadata": {
        "colab": {
          "base_uri": "https://localhost:8080/",
          "height": 35
        },
        "id": "6aJdvi6S5fFI",
        "outputId": "fe158ad3-9b7b-404d-bb77-f0c20da84b37"
      },
      "execution_count": 121,
      "outputs": [
        {
          "output_type": "execute_result",
          "data": {
            "text/plain": [
              "'Sedan'"
            ],
            "application/vnd.google.colaboratory.intrinsic+json": {
              "type": "string"
            }
          },
          "metadata": {},
          "execution_count": 121
        }
      ]
    },
    {
      "cell_type": "code",
      "source": [
        "for car_key, car_value in new_car.items():\n",
        "    print(f\"{car_key} model: {car_value['model']}\")"
      ],
      "metadata": {
        "colab": {
          "base_uri": "https://localhost:8080/"
        },
        "id": "w_rryWjK5g_D",
        "outputId": "bfbd62ed-3731-4bc4-cb26-c8c56ad55563"
      },
      "execution_count": 122,
      "outputs": [
        {
          "output_type": "stream",
          "name": "stdout",
          "text": [
            "new_car1 model: Sedan\n",
            "new_car2 model: Sedan\n",
            "new_car3 model: SUV\n"
          ]
        }
      ]
    },
    {
      "cell_type": "code",
      "source": [
        "for car_key, car_value in new_car.items():\n",
        "    print(f\"{car_key} Model: {car_value['model']}\")"
      ],
      "metadata": {
        "colab": {
          "base_uri": "https://localhost:8080/"
        },
        "id": "xD3_kh0f6D9z",
        "outputId": "fc16494a-157c-4d06-9228-899dc0b4b40a"
      },
      "execution_count": 132,
      "outputs": [
        {
          "output_type": "stream",
          "name": "stdout",
          "text": [
            "new_car1 Model: Sedan\n",
            "new_car2 Model: Sedan\n",
            "new_car3 Model: SUV\n"
          ]
        }
      ]
    },
    {
      "cell_type": "code",
      "source": [
        "for car_key, car_value in new_car.items():\n",
        "    print(f\"--- {car_key} ---\")\n",
        "    for detail, info in car_value.items():\n",
        "        print(f\"{detail}: {info}\")\n",
        "    print()"
      ],
      "metadata": {
        "colab": {
          "base_uri": "https://localhost:8080/"
        },
        "id": "2lOfogCU6LhS",
        "outputId": "bdccfd99-4e21-4c59-f6f3-caa9ae62b029"
      },
      "execution_count": 133,
      "outputs": [
        {
          "output_type": "stream",
          "name": "stdout",
          "text": [
            "--- new_car1 ---\n",
            "brand: Ford\n",
            "model: Sedan\n",
            "Year: 1990\n",
            "Automatic: Yes\n",
            "\n",
            "--- new_car2 ---\n",
            "brand: Maruti\n",
            "model: Sedan\n",
            "Year: 1993\n",
            "Automatic: No\n",
            "\n",
            "--- new_car3 ---\n",
            "brand: Tata\n",
            "model: SUV\n",
            "Year: 1990\n",
            "Automatic: Yes\n",
            "\n"
          ]
        }
      ]
    },
    {
      "cell_type": "code",
      "source": [
        "acc_balance = 5000\n",
        "withdraw = 2000\n",
        "if withdraw <=acc_balance:\n",
        "\tbalance =acc_balance-withdraw\n",
        "\tprint(f\"Transaction successfull.{withdraw} had been debited from your account.\" \"Balance is\" {balance})"
      ],
      "metadata": {
        "colab": {
          "base_uri": "https://localhost:8080/",
          "height": 106
        },
        "id": "Y-FjgTFx6meC",
        "outputId": "a4dc6c44-b068-45bd-93d6-6efc61c72ec2"
      },
      "execution_count": 140,
      "outputs": [
        {
          "output_type": "error",
          "ename": "SyntaxError",
          "evalue": "invalid syntax. Perhaps you forgot a comma? (ipython-input-2682348668.py, line 5)",
          "traceback": [
            "\u001b[0;36m  File \u001b[0;32m\"/tmp/ipython-input-2682348668.py\"\u001b[0;36m, line \u001b[0;32m5\u001b[0m\n\u001b[0;31m    print(f\"Transaction successfull.{withdraw} had been debited from your account.\" \"Balance is\" {balance})\u001b[0m\n\u001b[0m          ^\u001b[0m\n\u001b[0;31mSyntaxError\u001b[0m\u001b[0;31m:\u001b[0m invalid syntax. Perhaps you forgot a comma?\n"
          ]
        }
      ]
    },
    {
      "cell_type": "code",
      "source": [
        "acc_balance = 5000\n",
        "withdraw = 2000\n",
        "if withdraw <=acc_balance:\n",
        "\tbalance =acc_balance-withdraw\n",
        "\tprint(f\"Transaction successfull.{withdraw} had been debited from your account.Balance is {balance})\""
      ],
      "metadata": {
        "colab": {
          "base_uri": "https://localhost:8080/",
          "height": 106
        },
        "id": "M73E1zBRAHwq",
        "outputId": "823ce421-ab62-4720-c0e7-695291d4a3db"
      },
      "execution_count": 141,
      "outputs": [
        {
          "output_type": "error",
          "ename": "SyntaxError",
          "evalue": "incomplete input (ipython-input-319869880.py, line 5)",
          "traceback": [
            "\u001b[0;36m  File \u001b[0;32m\"/tmp/ipython-input-319869880.py\"\u001b[0;36m, line \u001b[0;32m5\u001b[0m\n\u001b[0;31m    print(f\"Transaction successfull.{withdraw} had been debited from your account.Balance is {balance})\"\u001b[0m\n\u001b[0m                                                                                                        ^\u001b[0m\n\u001b[0;31mSyntaxError\u001b[0m\u001b[0;31m:\u001b[0m incomplete input\n"
          ]
        }
      ]
    },
    {
      "cell_type": "code",
      "source": [
        "acc_balance = 5000\n",
        "withdraw = 2000\n",
        "\n",
        "if withdraw <= acc_balance:\n",
        "    balance = acc_balance - withdraw\n",
        "    print(f\"Transaction successful. {withdraw} has been debited from your account. Balance is {balance}.\")"
      ],
      "metadata": {
        "colab": {
          "base_uri": "https://localhost:8080/"
        },
        "id": "58RMJa85BZrU",
        "outputId": "ad20ef73-67a0-48ca-8677-ba6215fa26b7"
      },
      "execution_count": 142,
      "outputs": [
        {
          "output_type": "stream",
          "name": "stdout",
          "text": [
            "Transaction successful. 2000 has been debited from your account. Balance is 3000.\n"
          ]
        }
      ]
    },
    {
      "cell_type": "code",
      "source": [
        "acc_balance = 5000\n",
        "withdraw = 2000\n",
        "if withdraw <=acc_balance:\n",
        "\tbalance =acc_balance-withdraw\n",
        "\tprint(f\"Transaction successfull.{withdraw} had been debited from your account.Balance is {balance}\")"
      ],
      "metadata": {
        "colab": {
          "base_uri": "https://localhost:8080/"
        },
        "id": "u7jIQpAPBgv0",
        "outputId": "90a9336f-5ee1-40d4-c69a-d2fb7dcd509d"
      },
      "execution_count": 143,
      "outputs": [
        {
          "output_type": "stream",
          "name": "stdout",
          "text": [
            "Transaction successfull.2000 had been debited from your account.Balance is 3000\n"
          ]
        }
      ]
    },
    {
      "cell_type": "code",
      "source": [
        "acc_balance = 5000\n",
        "withdraw = 20000\n",
        "\n",
        "if withdraw <= acc_balance:\n",
        "    balance = acc_balance - withdraw\n",
        "    print(f\"Transaction successful. {withdraw} has been debited from your account. Balance is {balance}.\")"
      ],
      "metadata": {
        "id": "ADPFtbG1Bo13"
      },
      "execution_count": 146,
      "outputs": []
    },
    {
      "cell_type": "code",
      "source": [
        "acc_balance = 5000\n",
        "withdraw = 20000\n",
        "\n",
        "if withdraw <= acc_balance:\n",
        "    balance = acc_balance - withdraw\n",
        "    print(f\"Transaction successful. {withdraw} has been debited from your account. Balance is {balance}.\")\n",
        "else:\n",
        "\tprint(\"Insufficient balance\")"
      ],
      "metadata": {
        "colab": {
          "base_uri": "https://localhost:8080/"
        },
        "id": "kBFxXQA-B9lZ",
        "outputId": "151ab107-8d5b-4792-aa2f-d2dc9376b528"
      },
      "execution_count": 147,
      "outputs": [
        {
          "output_type": "stream",
          "name": "stdout",
          "text": [
            "Insufficient balance\n"
          ]
        }
      ]
    },
    {
      "cell_type": "code",
      "source": [
        "# Initial account balance\n",
        "acc_balance = 5000\n",
        "\n",
        "# Ask user for input\n",
        "withdraw = int(input(\"Enter the amount you want to withdraw: \"))\n",
        "\n",
        "# Check balance\n",
        "if withdraw <= acc_balance:\n",
        "    balance = acc_balance - withdraw\n",
        "    print(f\"✅ Transaction successful. {withdraw} has been debited from your account.\")\n",
        "    print(f\"💰 Remaining Balance: {balance}\")\n",
        "else:\n",
        "    print(\"❌ Insufficient balance\")\n"
      ],
      "metadata": {
        "colab": {
          "base_uri": "https://localhost:8080/"
        },
        "id": "c5WUe75kCN9F",
        "outputId": "92fe7411-4da1-42d2-d54c-a0d51f006ef5"
      },
      "execution_count": 148,
      "outputs": [
        {
          "output_type": "stream",
          "name": "stdout",
          "text": [
            "Enter the amount you want to withdraw: 3000\n",
            "✅ Transaction successful. 3000 has been debited from your account.\n",
            "💰 Remaining Balance: 2000\n"
          ]
        }
      ]
    },
    {
      "cell_type": "code",
      "source": [
        "acc_balance = 5000\n",
        "withdraw = 20000\n",
        "\n",
        "if withdraw <= acc_balance:\n",
        "    balance = acc_balance - withdraw\n",
        "    print(f\"Transaction successful. {withdraw} has been debited from your account. Balance is {balance}.\")\n",
        "else:\n",
        "\tprint(\"Insufficient balance, Remaining balance:{balance}\")"
      ],
      "metadata": {
        "colab": {
          "base_uri": "https://localhost:8080/"
        },
        "id": "5JLH3lwVCr64",
        "outputId": "2a76ced2-af15-469d-adbb-4d6c6e77da42"
      },
      "execution_count": 149,
      "outputs": [
        {
          "output_type": "stream",
          "name": "stdout",
          "text": [
            "Insufficient balance, Remaining balance:{balance}\n"
          ]
        }
      ]
    },
    {
      "cell_type": "code",
      "source": [
        "user = \"admin\"\n",
        "password = \"1234\"\n",
        "user= input(\"Enter the user name: \")\n",
        "password= input(\"Enter the password: \")\n",
        "if password =\"1234\":\n",
        "\tprint(f\"Login successfull\")\n",
        "else\n",
        "\tprint(f\"Login failed\")"
      ],
      "metadata": {
        "colab": {
          "base_uri": "https://localhost:8080/",
          "height": 106
        },
        "id": "RDaZCnm5DBQW",
        "outputId": "438acf52-7de5-4b80-9171-7be733c8a566"
      },
      "execution_count": 150,
      "outputs": [
        {
          "output_type": "error",
          "ename": "SyntaxError",
          "evalue": "invalid syntax. Maybe you meant '==' or ':=' instead of '='? (ipython-input-1233919940.py, line 5)",
          "traceback": [
            "\u001b[0;36m  File \u001b[0;32m\"/tmp/ipython-input-1233919940.py\"\u001b[0;36m, line \u001b[0;32m5\u001b[0m\n\u001b[0;31m    if password =\"1234\":\u001b[0m\n\u001b[0m       ^\u001b[0m\n\u001b[0;31mSyntaxError\u001b[0m\u001b[0;31m:\u001b[0m invalid syntax. Maybe you meant '==' or ':=' instead of '='?\n"
          ]
        }
      ]
    },
    {
      "cell_type": "code",
      "source": [
        "user = \"admin\"\n",
        "password = \"1234\"\n",
        "user_input= input(\"Enter the user name: \")\n",
        "password_input= input(\"Enter the password: \")\n",
        "if user_input ==user and password_input==password:\n",
        "\tprint(f\"Login successfull\")\n",
        "else:\n",
        "\tprint(f\"Login failed\")"
      ],
      "metadata": {
        "colab": {
          "base_uri": "https://localhost:8080/"
        },
        "id": "_QMXh8G2EEay",
        "outputId": "b40d9f91-33f8-4333-8f42-87b482b1b0b4"
      },
      "execution_count": 151,
      "outputs": [
        {
          "output_type": "stream",
          "name": "stdout",
          "text": [
            "Enter the user name: admin\n",
            "Enter the password: 1234\n",
            "Login successfull\n"
          ]
        }
      ]
    },
    {
      "cell_type": "code",
      "source": [
        "user = \"admin\"\n",
        "password = \"1234\"\n",
        "user_input= input(\"Enter the user name: \")\n",
        "password_input= input(\"Enter the password: \")\n",
        "if user_input ==user and password_input==password:\n",
        "\tprint(f\"Login successfull\")\n",
        "else:\n",
        "\tprint(f\"Login failed\")"
      ],
      "metadata": {
        "colab": {
          "base_uri": "https://localhost:8080/"
        },
        "id": "AqVG5B-AEn3S",
        "outputId": "7035db2c-2a90-434a-e3d2-7be0aca4e075"
      },
      "execution_count": 152,
      "outputs": [
        {
          "output_type": "stream",
          "name": "stdout",
          "text": [
            "Enter the user name: aaa\n",
            "Enter the password: 212\n",
            "Login failed\n"
          ]
        }
      ]
    },
    {
      "cell_type": "code",
      "source": [
        "a=50\n",
        "if a>20:\n",
        "\tprint(\"High value\")\n",
        "elif a>16:\n",
        "\tprint(\"Medium value\")\n",
        "elif a>10:\n",
        "\tprint(\"Low value\")\n",
        "else:\n",
        "\tprint(\"lease value\")"
      ],
      "metadata": {
        "colab": {
          "base_uri": "https://localhost:8080/"
        },
        "id": "Gf_rd7K9ErW9",
        "outputId": "ce38b431-638c-4df3-9d54-ad6409150266"
      },
      "execution_count": 154,
      "outputs": [
        {
          "output_type": "stream",
          "name": "stdout",
          "text": [
            "High value\n"
          ]
        }
      ]
    },
    {
      "cell_type": "code",
      "source": [
        "a=17\n",
        "if a>20:\n",
        "\tprint(\"High value\")\n",
        "elif a>16:\n",
        "\tprint(\"Medium value\")\n",
        "elif a>10:\n",
        "\tprint(\"Low value\")\n",
        "else:\n",
        "\tprint(\"least value\")"
      ],
      "metadata": {
        "colab": {
          "base_uri": "https://localhost:8080/"
        },
        "id": "neKt5T_tGHCX",
        "outputId": "8d238e15-19c4-485b-a250-682db0bc31ee"
      },
      "execution_count": 160,
      "outputs": [
        {
          "output_type": "stream",
          "name": "stdout",
          "text": [
            "Medium value\n"
          ]
        }
      ]
    },
    {
      "cell_type": "code",
      "source": [
        "if check_in<=9:\n",
        "\tprint(\"ON TIME\")\n",
        "elif check_in >9 and <10:\n",
        "\tprint(\"Late entry\")\n",
        "elif check in >10:\n",
        "\tprint (\"Half day leave\")\n",
        "else:\n",
        "\tprint(\"Full day leave\")"
      ],
      "metadata": {
        "colab": {
          "base_uri": "https://localhost:8080/",
          "height": 106
        },
        "id": "hudjYm1JGRjG",
        "outputId": "6b43bf61-38ca-436a-f467-57034000ec0d"
      },
      "execution_count": 161,
      "outputs": [
        {
          "output_type": "error",
          "ename": "SyntaxError",
          "evalue": "invalid syntax (ipython-input-815382412.py, line 3)",
          "traceback": [
            "\u001b[0;36m  File \u001b[0;32m\"/tmp/ipython-input-815382412.py\"\u001b[0;36m, line \u001b[0;32m3\u001b[0m\n\u001b[0;31m    elif check_in >9 and <10:\u001b[0m\n\u001b[0m                         ^\u001b[0m\n\u001b[0;31mSyntaxError\u001b[0m\u001b[0;31m:\u001b[0m invalid syntax\n"
          ]
        }
      ]
    },
    {
      "cell_type": "code",
      "source": [
        "if check_in<=9:\n",
        "\tprint(\"ON TIME\")\n",
        "elif check_in >9 and check_in <10:\n",
        "\tprint(\"Late entry\")\n",
        "elif check in >10:\n",
        "\tprint (\"Half day leave\")\n",
        "else:\n",
        "\tprint(\"Full day leave\")"
      ],
      "metadata": {
        "colab": {
          "base_uri": "https://localhost:8080/",
          "height": 106
        },
        "id": "239MVntqHyor",
        "outputId": "a3c032fc-3118-47de-f0b3-a353f0e907fb"
      },
      "execution_count": 162,
      "outputs": [
        {
          "output_type": "error",
          "ename": "SyntaxError",
          "evalue": "invalid syntax (ipython-input-3081966635.py, line 5)",
          "traceback": [
            "\u001b[0;36m  File \u001b[0;32m\"/tmp/ipython-input-3081966635.py\"\u001b[0;36m, line \u001b[0;32m5\u001b[0m\n\u001b[0;31m    elif check in >10:\u001b[0m\n\u001b[0m                  ^\u001b[0m\n\u001b[0;31mSyntaxError\u001b[0m\u001b[0;31m:\u001b[0m invalid syntax\n"
          ]
        }
      ]
    },
    {
      "cell_type": "code",
      "source": [
        "if check_in<=9:\n",
        "\tprint(\"ON TIME\")\n",
        "elif check_in >9 and check_in <10:\n",
        "\tprint(\"Late entry\")\n",
        "elif check in >10 and check_in <=12:\n",
        "\tprint (\"Half day leave\")\n",
        "else:\n",
        "\tprint(\"Full day leave\")"
      ],
      "metadata": {
        "colab": {
          "base_uri": "https://localhost:8080/",
          "height": 106
        },
        "id": "MLJK_bnLH91_",
        "outputId": "71ac194d-fde6-4c7f-a179-036c8fa5259e"
      },
      "execution_count": 163,
      "outputs": [
        {
          "output_type": "error",
          "ename": "SyntaxError",
          "evalue": "invalid syntax (ipython-input-3890739948.py, line 5)",
          "traceback": [
            "\u001b[0;36m  File \u001b[0;32m\"/tmp/ipython-input-3890739948.py\"\u001b[0;36m, line \u001b[0;32m5\u001b[0m\n\u001b[0;31m    elif check in >10 and check_in <=12:\u001b[0m\n\u001b[0m                  ^\u001b[0m\n\u001b[0;31mSyntaxError\u001b[0m\u001b[0;31m:\u001b[0m invalid syntax\n"
          ]
        }
      ]
    },
    {
      "cell_type": "code",
      "source": [
        "if check_in<=9:\n",
        "\tprint(\"ON TIME\")\n",
        "elif check_in >9 and check_in <10:\n",
        "\tprint(\"Late entry\")\n",
        "elif check in >=10 and check_in <=12:\n",
        "\tprint (\"Half day leave\")\n",
        "else:\n",
        "\tprint(\"Full day leave\")\n"
      ],
      "metadata": {
        "colab": {
          "base_uri": "https://localhost:8080/",
          "height": 106
        },
        "id": "tkW_Cr_UIGLP",
        "outputId": "33f3c1a2-61e9-468a-888c-91a71980dc10"
      },
      "execution_count": 164,
      "outputs": [
        {
          "output_type": "error",
          "ename": "SyntaxError",
          "evalue": "invalid syntax (ipython-input-3847618621.py, line 5)",
          "traceback": [
            "\u001b[0;36m  File \u001b[0;32m\"/tmp/ipython-input-3847618621.py\"\u001b[0;36m, line \u001b[0;32m5\u001b[0m\n\u001b[0;31m    elif check in >=10 and check_in <=12:\u001b[0m\n\u001b[0m                  ^\u001b[0m\n\u001b[0;31mSyntaxError\u001b[0m\u001b[0;31m:\u001b[0m invalid syntax\n"
          ]
        }
      ]
    },
    {
      "cell_type": "code",
      "source": [
        "if check_in<=9:\n",
        "\tprint(\"ON TIME\")\n",
        "elif check_in >9 and check_in <10:\n",
        "\tprint(\"Late entry\")\n",
        "elif check in >=10 and check_in <=12:\n",
        "\tprint (\"Half day leave\")\n",
        "else:\n",
        "\tprint(\"Full day leave\")"
      ],
      "metadata": {
        "colab": {
          "base_uri": "https://localhost:8080/",
          "height": 106
        },
        "id": "TyqJFr-9IRmI",
        "outputId": "dd894126-a5e8-4daa-8675-896bfe77758d"
      },
      "execution_count": 165,
      "outputs": [
        {
          "output_type": "error",
          "ename": "SyntaxError",
          "evalue": "invalid syntax (ipython-input-1978750048.py, line 5)",
          "traceback": [
            "\u001b[0;36m  File \u001b[0;32m\"/tmp/ipython-input-1978750048.py\"\u001b[0;36m, line \u001b[0;32m5\u001b[0m\n\u001b[0;31m    elif check in >=10 and check_in <=12:\u001b[0m\n\u001b[0m                  ^\u001b[0m\n\u001b[0;31mSyntaxError\u001b[0m\u001b[0;31m:\u001b[0m invalid syntax\n"
          ]
        }
      ]
    },
    {
      "cell_type": "code",
      "source": [
        "if check_in <= 9:\n",
        "    print(\"ON TIME\")\n",
        "elif check_in > 9 and check_in < 10:\n",
        "    print(\"Late entry\")\n",
        "elif check_in >= 10 and check_in <= 12:   # assuming half-day till 12 PM\n",
        "    print(\"Half day leave\")\n",
        "else:\n",
        "    print(\"Full day leave\")"
      ],
      "metadata": {
        "colab": {
          "base_uri": "https://localhost:8080/",
          "height": 211
        },
        "id": "tBbNBTkZIUMj",
        "outputId": "1792b9f7-d631-4c6d-8b1f-927ac43d7477"
      },
      "execution_count": 166,
      "outputs": [
        {
          "output_type": "error",
          "ename": "NameError",
          "evalue": "name 'check_in' is not defined",
          "traceback": [
            "\u001b[0;31m---------------------------------------------------------------------------\u001b[0m",
            "\u001b[0;31mNameError\u001b[0m                                 Traceback (most recent call last)",
            "\u001b[0;32m/tmp/ipython-input-4159102324.py\u001b[0m in \u001b[0;36m<cell line: 0>\u001b[0;34m()\u001b[0m\n\u001b[0;32m----> 1\u001b[0;31m \u001b[0;32mif\u001b[0m \u001b[0mcheck_in\u001b[0m \u001b[0;34m<=\u001b[0m \u001b[0;36m9\u001b[0m\u001b[0;34m:\u001b[0m\u001b[0;34m\u001b[0m\u001b[0;34m\u001b[0m\u001b[0m\n\u001b[0m\u001b[1;32m      2\u001b[0m     \u001b[0mprint\u001b[0m\u001b[0;34m(\u001b[0m\u001b[0;34m\"ON TIME\"\u001b[0m\u001b[0;34m)\u001b[0m\u001b[0;34m\u001b[0m\u001b[0;34m\u001b[0m\u001b[0m\n\u001b[1;32m      3\u001b[0m \u001b[0;32melif\u001b[0m \u001b[0mcheck_in\u001b[0m \u001b[0;34m>\u001b[0m \u001b[0;36m9\u001b[0m \u001b[0;32mand\u001b[0m \u001b[0mcheck_in\u001b[0m \u001b[0;34m<\u001b[0m \u001b[0;36m10\u001b[0m\u001b[0;34m:\u001b[0m\u001b[0;34m\u001b[0m\u001b[0;34m\u001b[0m\u001b[0m\n\u001b[1;32m      4\u001b[0m     \u001b[0mprint\u001b[0m\u001b[0;34m(\u001b[0m\u001b[0;34m\"Late entry\"\u001b[0m\u001b[0;34m)\u001b[0m\u001b[0;34m\u001b[0m\u001b[0;34m\u001b[0m\u001b[0m\n\u001b[1;32m      5\u001b[0m \u001b[0;32melif\u001b[0m \u001b[0mcheck_in\u001b[0m \u001b[0;34m>=\u001b[0m \u001b[0;36m10\u001b[0m \u001b[0;32mand\u001b[0m \u001b[0mcheck_in\u001b[0m \u001b[0;34m<=\u001b[0m \u001b[0;36m12\u001b[0m\u001b[0;34m:\u001b[0m   \u001b[0;31m# assuming half-day till 12 PM\u001b[0m\u001b[0;34m\u001b[0m\u001b[0;34m\u001b[0m\u001b[0m\n",
            "\u001b[0;31mNameError\u001b[0m: name 'check_in' is not defined"
          ]
        }
      ]
    },
    {
      "cell_type": "code",
      "source": [
        "check_in=float(input(\"Enter check-in time :\"))\n",
        "if check_in <= 9:\n",
        "    print(\"ON TIME\")\n",
        "elif check_in > 9 and check_in < 10:\n",
        "    print(\"Late entry\")\n",
        "elif check_in >= 10 and check_in <= 12:   # assuming half-day till 12 PM\n",
        "    print(\"Half day leave\")\n",
        "else:\n",
        "    print(\"Full day leave\")\n"
      ],
      "metadata": {
        "colab": {
          "base_uri": "https://localhost:8080/"
        },
        "id": "VAhZv8BuIjJS",
        "outputId": "881e3f77-c6a7-4b5a-c0f6-554849b75145"
      },
      "execution_count": 167,
      "outputs": [
        {
          "output_type": "stream",
          "name": "stdout",
          "text": [
            "Enter check-in time :12\n",
            "Half day leave\n"
          ]
        }
      ]
    },
    {
      "cell_type": "code",
      "source": [
        "check_in=float(input(\"Enter check-in time :\"))\n",
        "if check_in <= 9:\n",
        "    print(\"ON TIME\")\n",
        "elif check_in > 9 and check_in < 10:\n",
        "    print(\"Late entry\")\n",
        "elif check_in >= 10 and check_in <= 12:   # assuming half-day till 12 PM\n",
        "    print(\"Half day leave\")\n",
        "else:\n",
        "    print(\"Full day leave\")\n"
      ],
      "metadata": {
        "colab": {
          "base_uri": "https://localhost:8080/",
          "height": 228
        },
        "id": "LTUpcpS7I0BF",
        "outputId": "e4115cdd-f025-485b-af80-de1365f383b3"
      },
      "execution_count": 168,
      "outputs": [
        {
          "name": "stdout",
          "output_type": "stream",
          "text": [
            "Enter check-in time :12:40\n"
          ]
        },
        {
          "output_type": "error",
          "ename": "ValueError",
          "evalue": "could not convert string to float: '12:40'",
          "traceback": [
            "\u001b[0;31m---------------------------------------------------------------------------\u001b[0m",
            "\u001b[0;31mValueError\u001b[0m                                Traceback (most recent call last)",
            "\u001b[0;32m/tmp/ipython-input-599892018.py\u001b[0m in \u001b[0;36m<cell line: 0>\u001b[0;34m()\u001b[0m\n\u001b[0;32m----> 1\u001b[0;31m \u001b[0mcheck_in\u001b[0m\u001b[0;34m=\u001b[0m\u001b[0mfloat\u001b[0m\u001b[0;34m(\u001b[0m\u001b[0minput\u001b[0m\u001b[0;34m(\u001b[0m\u001b[0;34m\"Enter check-in time :\"\u001b[0m\u001b[0;34m)\u001b[0m\u001b[0;34m)\u001b[0m\u001b[0;34m\u001b[0m\u001b[0;34m\u001b[0m\u001b[0m\n\u001b[0m\u001b[1;32m      2\u001b[0m \u001b[0;32mif\u001b[0m \u001b[0mcheck_in\u001b[0m \u001b[0;34m<=\u001b[0m \u001b[0;36m9\u001b[0m\u001b[0;34m:\u001b[0m\u001b[0;34m\u001b[0m\u001b[0;34m\u001b[0m\u001b[0m\n\u001b[1;32m      3\u001b[0m     \u001b[0mprint\u001b[0m\u001b[0;34m(\u001b[0m\u001b[0;34m\"ON TIME\"\u001b[0m\u001b[0;34m)\u001b[0m\u001b[0;34m\u001b[0m\u001b[0;34m\u001b[0m\u001b[0m\n\u001b[1;32m      4\u001b[0m \u001b[0;32melif\u001b[0m \u001b[0mcheck_in\u001b[0m \u001b[0;34m>\u001b[0m \u001b[0;36m9\u001b[0m \u001b[0;32mand\u001b[0m \u001b[0mcheck_in\u001b[0m \u001b[0;34m<\u001b[0m \u001b[0;36m10\u001b[0m\u001b[0;34m:\u001b[0m\u001b[0;34m\u001b[0m\u001b[0;34m\u001b[0m\u001b[0m\n\u001b[1;32m      5\u001b[0m     \u001b[0mprint\u001b[0m\u001b[0;34m(\u001b[0m\u001b[0;34m\"Late entry\"\u001b[0m\u001b[0;34m)\u001b[0m\u001b[0;34m\u001b[0m\u001b[0;34m\u001b[0m\u001b[0m\n",
            "\u001b[0;31mValueError\u001b[0m: could not convert string to float: '12:40'"
          ]
        }
      ]
    },
    {
      "cell_type": "code",
      "source": [
        "\n"
      ],
      "metadata": {
        "id": "QuqmpPxHI1n2"
      },
      "execution_count": 168,
      "outputs": []
    },
    {
      "cell_type": "code",
      "source": [
        "check_in=float(input(\"Enter check-in time :\"))\n",
        "if check_in <= 9:\n",
        "    print(\"ON TIME\")\n",
        "elif check_in > 9 and check_in < 10:\n",
        "    print(\"Late entry\")\n",
        "elif check_in >= 10 and check_in <= 12:   # assuming half-day till 12 PM\n",
        "    print(\"Half day leave\")\n",
        "else:\n",
        "    print(\"Full day leave\")\n"
      ],
      "metadata": {
        "colab": {
          "base_uri": "https://localhost:8080/"
        },
        "id": "YCSn28_eI4Ol",
        "outputId": "b4cfef9c-6c15-443a-c9ac-365213c14f08"
      },
      "execution_count": 169,
      "outputs": [
        {
          "output_type": "stream",
          "name": "stdout",
          "text": [
            "Enter check-in time :1\n",
            "ON TIME\n"
          ]
        }
      ]
    },
    {
      "cell_type": "code",
      "source": [
        "check_in=float(input(\"Enter check-in time :\"))\n",
        "if check_in <= 9:\n",
        "    print(\"ON TIME\")\n",
        "elif check_in > 9 and check_in < 10:\n",
        "    print(\"Late entry\")\n",
        "elif check_in >= 10 and check_in <= 12:   # assuming half-day till 12 PM\n",
        "    print(\"Half day leave\")\n",
        "else:\n",
        "    print(\"Full day leave\")\n"
      ],
      "metadata": {
        "colab": {
          "base_uri": "https://localhost:8080/"
        },
        "id": "U9Pv5Y-iI471",
        "outputId": "6e08fe0c-36c2-4c39-865e-746522b9dd0e"
      },
      "execution_count": 170,
      "outputs": [
        {
          "output_type": "stream",
          "name": "stdout",
          "text": [
            "Enter check-in time :12.40\n",
            "Full day leave\n"
          ]
        }
      ]
    },
    {
      "cell_type": "code",
      "source": [
        "check_in = 28\n",
        "if check_in <= 9:\n",
        "    print(\"ON TIME\")\n",
        "elif check_in > 9 and check_in < 10:\n",
        "    print(\"Late entry\")\n",
        "elif check_in >= 10 and check_in <= 12:   # assuming half-day till 12 PM\n",
        "    print(\"Half day leave\")\n",
        "else:\n",
        "    print(\"Full day leave\")"
      ],
      "metadata": {
        "colab": {
          "base_uri": "https://localhost:8080/"
        },
        "id": "5Uy68WH6I7_m",
        "outputId": "ae9b908f-687b-4492-8078-cd704d0b3b4b"
      },
      "execution_count": 178,
      "outputs": [
        {
          "output_type": "stream",
          "name": "stdout",
          "text": [
            "Full day leave\n"
          ]
        }
      ]
    },
    {
      "cell_type": "code",
      "source": [
        "a=10\n",
        "if a is postitive\n",
        "\tprint(\"Postive\")\n",
        "else:\n",
        "\tprint(\"Negative\")"
      ],
      "metadata": {
        "colab": {
          "base_uri": "https://localhost:8080/",
          "height": 106
        },
        "id": "jXgVtrXUJLPd",
        "outputId": "caf62f33-8ca2-4c22-958a-d743471dfd31"
      },
      "execution_count": 179,
      "outputs": [
        {
          "output_type": "error",
          "ename": "SyntaxError",
          "evalue": "expected ':' (ipython-input-1390046762.py, line 2)",
          "traceback": [
            "\u001b[0;36m  File \u001b[0;32m\"/tmp/ipython-input-1390046762.py\"\u001b[0;36m, line \u001b[0;32m2\u001b[0m\n\u001b[0;31m    if a is postitive\u001b[0m\n\u001b[0m                     ^\u001b[0m\n\u001b[0;31mSyntaxError\u001b[0m\u001b[0;31m:\u001b[0m expected ':'\n"
          ]
        }
      ]
    },
    {
      "cell_type": "code",
      "source": [
        "#a=10\n",
        "a=int(input(\"Enter the number: \"))\n",
        "if a>=1:\n",
        "    print(\"Postive\")\n",
        "elif  a<=0:\n",
        "    print(\"Negative\")\n",
        "else:\n",
        "    print(\"Negative\")"
      ],
      "metadata": {
        "colab": {
          "base_uri": "https://localhost:8080/"
        },
        "id": "swUu4vD4Jr8U",
        "outputId": "98ebfa67-6511-4b5c-ab2b-cc162f90a997"
      },
      "execution_count": 183,
      "outputs": [
        {
          "output_type": "stream",
          "name": "stdout",
          "text": [
            "Enter the number: 2\n",
            "Postive\n"
          ]
        }
      ]
    },
    {
      "cell_type": "code",
      "source": [
        "a=int(input(\"Enter the number: \"))\n",
        "if a>=1:\n",
        "    print(\"Postive\")\n",
        "elif  a<=0:\n",
        "    print(\"Negative\")\n",
        "else:\n",
        "    print(\"Negative\")"
      ],
      "metadata": {
        "colab": {
          "base_uri": "https://localhost:8080/"
        },
        "id": "7M3tbQe8J4_R",
        "outputId": "37bc0bad-9757-4e16-e028-6c3d1b283a5b"
      },
      "execution_count": 184,
      "outputs": [
        {
          "output_type": "stream",
          "name": "stdout",
          "text": [
            "Enter the number: 4\n",
            "Postive\n"
          ]
        }
      ]
    },
    {
      "cell_type": "code",
      "source": [
        "tot_price=5000\n",
        "final_price= tot_price*.25\n",
        "if tot_price>5000:\n",
        "\tprint(\"The final prices is : \",final_price)\n",
        "else:\n",
        "\tprint(\"There is no discount\")"
      ],
      "metadata": {
        "colab": {
          "base_uri": "https://localhost:8080/"
        },
        "id": "A5tvJW6fKRFX",
        "outputId": "d41bf118-aa54-4825-8d3c-1d0a6f3d6148"
      },
      "execution_count": 187,
      "outputs": [
        {
          "output_type": "stream",
          "name": "stdout",
          "text": [
            "There is no discount\n"
          ]
        }
      ]
    },
    {
      "cell_type": "code",
      "source": [
        "tot_price=8000\n",
        "final_price= tot_price*.75\n",
        "if tot_price>5000:\n",
        "\tprint(\"The final prices is : \",final_price)\n",
        "elif tot_price>2000:\n",
        "\tprint(\"The final price is : \", tot_price*.10)\n",
        "else:\n",
        "\tprint(\"There is no discount\")"
      ],
      "metadata": {
        "colab": {
          "base_uri": "https://localhost:8080/"
        },
        "id": "k63i8_zFLJAZ",
        "outputId": "2b757651-e306-474b-860a-f026c276e7a3"
      },
      "execution_count": 191,
      "outputs": [
        {
          "output_type": "stream",
          "name": "stdout",
          "text": [
            "The final prices is :  6000.0\n"
          ]
        }
      ]
    },
    {
      "cell_type": "code",
      "source": [
        "product_price= int(input(\"Enter the price of the product\"))\n",
        "if product_price>5000:\n",
        "\tprint(\"The final price is : \", product_price*.75)\n",
        "elif product_price>2000:\n",
        "\tprint(\"The final price is : \", product_price*.9)\n",
        "else:\n",
        "\tprint(\"There is no discount\")"
      ],
      "metadata": {
        "colab": {
          "base_uri": "https://localhost:8080/"
        },
        "id": "Dr5I-ZvmLoTp",
        "outputId": "010e584a-0daa-42f0-8206-8d111282a2c4"
      },
      "execution_count": 194,
      "outputs": [
        {
          "output_type": "stream",
          "name": "stdout",
          "text": [
            "Enter the price of the product10000\n",
            "The final price is :  7500.0\n"
          ]
        }
      ]
    },
    {
      "cell_type": "code",
      "source": [
        "product_price= int(input(\"Enter the price of the product\"))\n",
        "if product_price>5000:\n",
        "\tprint(\"The final price is :.2f \", product_price*.75)\n",
        "elif product_price>2000:\n",
        "\tprint(\"The final price is :.2f \", product_price*.9)\n",
        "else:\n",
        "\tprint(\"There is no discount\")"
      ],
      "metadata": {
        "colab": {
          "base_uri": "https://localhost:8080/"
        },
        "id": "d6rjZn5YMhR6",
        "outputId": "84ca5073-8d10-46ad-de15-3435ba649ce9"
      },
      "execution_count": 195,
      "outputs": [
        {
          "output_type": "stream",
          "name": "stdout",
          "text": [
            "Enter the price of the product2300\n",
            "The final price is :.2f  2070.0\n"
          ]
        }
      ]
    },
    {
      "cell_type": "code",
      "source": [
        "age=int(input(\"Enter your age: \"))\n",
        "if age<5:\n",
        "\tprint(\"Free ticket\")\n",
        "elif age>=5 and age<=12:\n",
        "\tprint (\"Ticket charge is Rs 150\")\n",
        "elif age>=13 and age<=59:\n",
        "\tprint(\"Ticket charge is Rs 250\")\n",
        "elif age >60:\n",
        "\tprint(\"Ticket charge is Rs 120\")\n",
        "else:\n",
        "\tprint(\"There is no discount\")"
      ],
      "metadata": {
        "colab": {
          "base_uri": "https://localhost:8080/"
        },
        "id": "AyZps5mgNLsy",
        "outputId": "b6baa266-6bf7-40fb-edd4-feb66e9c7158"
      },
      "execution_count": 197,
      "outputs": [
        {
          "output_type": "stream",
          "name": "stdout",
          "text": [
            "Enter your age: 13\n",
            "Ticket charge is Rs 250\n"
          ]
        }
      ]
    },
    {
      "cell_type": "code",
      "source": [],
      "metadata": {
        "id": "X-hUAsmVPP_n"
      },
      "execution_count": null,
      "outputs": []
    }
  ]
}