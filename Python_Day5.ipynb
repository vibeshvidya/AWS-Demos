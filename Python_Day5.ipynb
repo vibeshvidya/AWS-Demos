{
  "nbformat": 4,
  "nbformat_minor": 0,
  "metadata": {
    "colab": {
      "provenance": [],
      "authorship_tag": "ABX9TyPRwVlIhzcq6AQoM1czy1nL",
      "include_colab_link": true
    },
    "kernelspec": {
      "name": "python3",
      "display_name": "Python 3"
    },
    "language_info": {
      "name": "python"
    }
  },
  "cells": [
    {
      "cell_type": "markdown",
      "metadata": {
        "id": "view-in-github",
        "colab_type": "text"
      },
      "source": [
        "<a href=\"https://colab.research.google.com/github/vibeshvidya/AWS-Demos/blob/master/Python_Day5.ipynb\" target=\"_parent\"><img src=\"https://colab.research.google.com/assets/colab-badge.svg\" alt=\"Open In Colab\"/></a>"
      ]
    },
    {
      "cell_type": "code",
      "execution_count": 1,
      "metadata": {
        "colab": {
          "base_uri": "https://localhost:8080/"
        },
        "id": "z2u5u-09gAia",
        "outputId": "1880d19b-3136-43f0-cea8-cc5edf0704b1"
      },
      "outputs": [
        {
          "output_type": "stream",
          "name": "stdout",
          "text": [
            "0\n",
            "1\n",
            "2\n",
            "3\n",
            "4\n",
            "5\n",
            "6\n",
            "7\n",
            "8\n",
            "9\n"
          ]
        }
      ],
      "source": [
        "#for temp_var in sequence:\n",
        "\t#body of for\n",
        "\n",
        "for num in range(10):\n",
        "\tprint(num)"
      ]
    },
    {
      "cell_type": "code",
      "source": [
        "for num in range(1,11):\n",
        "\tprint(num)"
      ],
      "metadata": {
        "colab": {
          "base_uri": "https://localhost:8080/"
        },
        "id": "lAbpIeJBkaqM",
        "outputId": "bafbbb55-3dbc-433f-fd96-b225ce6f8bd2"
      },
      "execution_count": 3,
      "outputs": [
        {
          "output_type": "stream",
          "name": "stdout",
          "text": [
            "1\n",
            "2\n",
            "3\n",
            "4\n",
            "5\n",
            "6\n",
            "7\n",
            "8\n",
            "9\n",
            "10\n"
          ]
        }
      ]
    },
    {
      "cell_type": "code",
      "source": [
        "for num in range(1,10,3):\n",
        "\tprint(num)"
      ],
      "metadata": {
        "colab": {
          "base_uri": "https://localhost:8080/"
        },
        "id": "NhwR_M31kfyX",
        "outputId": "283ba705-6a30-4715-ac19-63e2bc49f240"
      },
      "execution_count": 6,
      "outputs": [
        {
          "output_type": "stream",
          "name": "stdout",
          "text": [
            "1\n",
            "4\n",
            "7\n"
          ]
        }
      ]
    },
    {
      "cell_type": "code",
      "source": [
        "for num in range(1,25):\n",
        "\tif num%2 == 0:\n",
        "\t  print(num)"
      ],
      "metadata": {
        "colab": {
          "base_uri": "https://localhost:8080/"
        },
        "id": "0zHv0tkZlZsy",
        "outputId": "772bb7d2-1183-4058-8005-63afda81f771"
      },
      "execution_count": 8,
      "outputs": [
        {
          "output_type": "stream",
          "name": "stdout",
          "text": [
            "2\n",
            "4\n",
            "6\n",
            "8\n",
            "10\n",
            "12\n",
            "14\n",
            "16\n",
            "18\n",
            "20\n",
            "22\n",
            "24\n"
          ]
        }
      ]
    },
    {
      "cell_type": "code",
      "source": [
        "for num in range(1,25):\n",
        "\tif num%2 == 0 and num%5 ==0:\n",
        "\t  print(num)"
      ],
      "metadata": {
        "colab": {
          "base_uri": "https://localhost:8080/"
        },
        "id": "NYn2F6tmmdES",
        "outputId": "6455d3c9-346d-48d1-ed3b-ced4db8ed0db"
      },
      "execution_count": 18,
      "outputs": [
        {
          "output_type": "stream",
          "name": "stdout",
          "text": [
            "10\n",
            "20\n"
          ]
        }
      ]
    },
    {
      "cell_type": "code",
      "source": [
        "for num in range(1,25):\n",
        "\tif num%2 == 0:\n",
        "\t  print(num)"
      ],
      "metadata": {
        "colab": {
          "base_uri": "https://localhost:8080/"
        },
        "id": "Y5JcuhiRm4c9",
        "outputId": "c1be9e29-f8ea-4b98-ec26-9c610476a755"
      },
      "execution_count": 19,
      "outputs": [
        {
          "output_type": "stream",
          "name": "stdout",
          "text": [
            "2\n",
            "4\n",
            "6\n",
            "8\n",
            "10\n",
            "12\n",
            "14\n",
            "16\n",
            "18\n",
            "20\n",
            "22\n",
            "24\n"
          ]
        }
      ]
    },
    {
      "cell_type": "code",
      "source": [
        "numbers= [1,3,5,7,8,10]\n",
        "for num in numbers:\n",
        "  if num==8:\n",
        "    break\n",
        "  else:\n",
        "    print(num)"
      ],
      "metadata": {
        "colab": {
          "base_uri": "https://localhost:8080/"
        },
        "id": "V2qbtdepng_o",
        "outputId": "d7c0cf8d-64ca-46bb-96ce-816d4ff26d43"
      },
      "execution_count": 24,
      "outputs": [
        {
          "output_type": "stream",
          "name": "stdout",
          "text": [
            "1\n",
            "3\n",
            "5\n",
            "7\n"
          ]
        }
      ]
    },
    {
      "cell_type": "code",
      "source": [
        "numbers=[20,-13,25,10,-3,8,-6,15]\n",
        "for num in numbers:\n",
        "    if num<0:\n",
        "      continue\n",
        "    else:\n",
        "      print(num)"
      ],
      "metadata": {
        "colab": {
          "base_uri": "https://localhost:8080/"
        },
        "id": "xONVzCQan226",
        "outputId": "939cdee2-a8a9-4e11-af98-72f7f05db122"
      },
      "execution_count": 34,
      "outputs": [
        {
          "output_type": "stream",
          "name": "stdout",
          "text": [
            "20\n",
            "25\n",
            "10\n",
            "8\n",
            "15\n"
          ]
        }
      ]
    },
    {
      "cell_type": "code",
      "source": [],
      "metadata": {
        "id": "S-3thOgbpJO2"
      },
      "execution_count": 37,
      "outputs": []
    },
    {
      "cell_type": "code",
      "source": [
        "numbers=[0,2,0,3]\n",
        "for i in numbers:\n",
        "  if i ==0:\n",
        "    continue\n",
        "  else:\n",
        "    print(i**2)"
      ],
      "metadata": {
        "colab": {
          "base_uri": "https://localhost:8080/"
        },
        "id": "RWLt3em1qG2e",
        "outputId": "05517de7-6bde-4fd4-ed95-ddf1670174a7"
      },
      "execution_count": 42,
      "outputs": [
        {
          "output_type": "stream",
          "name": "stdout",
          "text": [
            "4\n",
            "9\n"
          ]
        }
      ]
    },
    {
      "cell_type": "code",
      "source": [
        "numbers=[0,2,0,3]\n",
        "for i in numbers:\n",
        "  if i ==0:\n",
        "    pass\n",
        "  else:\n",
        "    print(i**2)"
      ],
      "metadata": {
        "colab": {
          "base_uri": "https://localhost:8080/"
        },
        "id": "gOggN9gjqnoN",
        "outputId": "e1f63a83-07b9-4cd1-f434-546f4ca0b532"
      },
      "execution_count": 45,
      "outputs": [
        {
          "output_type": "stream",
          "name": "stdout",
          "text": [
            "4\n",
            "9\n"
          ]
        }
      ]
    },
    {
      "cell_type": "code",
      "metadata": {
        "colab": {
          "base_uri": "https://localhost:8080/"
        },
        "id": "adc30d27",
        "outputId": "cc7bb04f-aab4-48e0-8554-e9d05bbde506"
      },
      "source": [
        "for i in range(5):\n",
        "  if i == 3:\n",
        "    pass  # Do nothing when i is 2\n",
        "  else:\n",
        "    print(i)"
      ],
      "execution_count": 47,
      "outputs": [
        {
          "output_type": "stream",
          "name": "stdout",
          "text": [
            "0\n",
            "1\n",
            "2\n",
            "4\n"
          ]
        }
      ]
    },
    {
      "cell_type": "code",
      "source": [
        "names=[\"Remays\",\"Krishna\",\"Bala\",\"Verni\",\"Kripa\",\"Tarun\"]\n",
        "for name in names:\n",
        "  if name.startswith(\"K\"):\n",
        "    print(name)"
      ],
      "metadata": {
        "colab": {
          "base_uri": "https://localhost:8080/"
        },
        "id": "ZPfY-NKrsZqF",
        "outputId": "cfb92ac2-4770-448b-e703-c727a1202ca8"
      },
      "execution_count": 49,
      "outputs": [
        {
          "output_type": "stream",
          "name": "stdout",
          "text": [
            "Krishna\n",
            "Kripa\n"
          ]
        }
      ]
    },
    {
      "cell_type": "code",
      "source": [
        "days=[\"mon\",\"tue\",\"wed\",\"thurs\",\"frid\",\"sat\",\"sun\"]\n",
        "weekend=[\"sat\",\"sun\"]\n",
        "for day in days:\n",
        "  if day in weekend:\n",
        "    print(day,\"is weekend\")\n",
        "  else:\n",
        "    print(day,\"is weekday\")"
      ],
      "metadata": {
        "colab": {
          "base_uri": "https://localhost:8080/"
        },
        "id": "BGpGEXZ7s38l",
        "outputId": "c029c413-53b7-4308-a66e-872ef776d680"
      },
      "execution_count": 50,
      "outputs": [
        {
          "output_type": "stream",
          "name": "stdout",
          "text": [
            "mon is weekday\n",
            "tue is weekday\n",
            "wed is weekday\n",
            "thurs is weekday\n",
            "frid is weekday\n",
            "sat is weekend\n",
            "sun is weekend\n"
          ]
        }
      ]
    },
    {
      "cell_type": "code",
      "source": [
        "grocery_list = [\"vegetables\", \"chicken\", \"eggs\", \"powder\", \"sugar\",\n",
        "                \"salt\", \"oil\", \"tea\", \"mineral water\", \"coffee\"]\n",
        "\n",
        "new_items = [\"vegetables\", \"chicken\", \"eggs\", \"powder\", \"sugar\",\n",
        "                \"salt\", \"oil\"]\n",
        "\n",
        "for item in grocery_list:\n",
        "    if item in new_items:\n",
        "        print(item, \"Bought\")\n",
        "    else:\n",
        "        print(item, \"Forgot to buy\")"
      ],
      "metadata": {
        "colab": {
          "base_uri": "https://localhost:8080/"
        },
        "id": "Vchc2SuIt3gy",
        "outputId": "e3825807-06c6-49e9-ef8b-4afd0966d44f"
      },
      "execution_count": 66,
      "outputs": [
        {
          "output_type": "stream",
          "name": "stdout",
          "text": [
            "vegetables Bought\n",
            "chicken Bought\n",
            "eggs Bought\n",
            "powder Bought\n",
            "sugar Bought\n",
            "salt Bought\n",
            "oil Bought\n",
            "tea Forgot to buy\n",
            "mineral water Forgot to buy\n",
            "coffee Forgot to buy\n"
          ]
        }
      ]
    },
    {
      "cell_type": "code",
      "source": [
        "grocery_list = [\"sugar\", \"salt\", \"pepper\", \"oil\", \"curd\", \"rice\", \"bread\"]\n",
        "new_items = [\"salt\", \"chilly\", \"egg\", \"milk\"]\n",
        "for item in new_items:\n",
        "    if item in grocery_list:\n",
        "        print(f\"{item} is already in the list.\")\n",
        "    else:\n",
        "        grocery_list.append(item)\n",
        "        print(f\"{item} added to the grocery list.\")\n",
        "print(\"Final Grocery List:\")\n",
        "print(grocery_list)"
      ],
      "metadata": {
        "colab": {
          "base_uri": "https://localhost:8080/"
        },
        "id": "RX8Ui7M_wVOC",
        "outputId": "f640ccc1-609a-444c-8684-9596eb27b1fc"
      },
      "execution_count": 67,
      "outputs": [
        {
          "output_type": "stream",
          "name": "stdout",
          "text": [
            "salt is already in the list.\n",
            "chilly added to the grocery list.\n",
            "egg added to the grocery list.\n",
            "milk added to the grocery list.\n",
            "Final Grocery List:\n",
            "['sugar', 'salt', 'pepper', 'oil', 'curd', 'rice', 'bread', 'chilly', 'egg', 'milk']\n"
          ]
        }
      ]
    },
    {
      "cell_type": "code",
      "source": [
        "#Dictionary functions\n",
        "\n",
        "inventory={\n",
        "    \"apples\":130, \"oranges\":75, \"grapes\":25,\"banana\":40\n",
        "}\n",
        "#inventory.keys()\n",
        "#inventory.values()\n",
        "#inventory.items()\n",
        "for item, value in inventory.items():\n",
        "    print(item,value)"
      ],
      "metadata": {
        "colab": {
          "base_uri": "https://localhost:8080/"
        },
        "id": "ulu5ZWg90HW-",
        "outputId": "86ad848d-4715-46f1-e13b-8527e9ef39de"
      },
      "execution_count": 84,
      "outputs": [
        {
          "output_type": "stream",
          "name": "stdout",
          "text": [
            "apples 130\n",
            "oranges 75\n",
            "grapes 25\n",
            "banana 40\n"
          ]
        }
      ]
    },
    {
      "cell_type": "code",
      "source": [
        "for item in inventory.keys():\n",
        "    print(item)"
      ],
      "metadata": {
        "colab": {
          "base_uri": "https://localhost:8080/"
        },
        "id": "4tTqadc93Ray",
        "outputId": "8ad1d0f7-6a8b-412f-e09d-68780b7b95d4"
      },
      "execution_count": 85,
      "outputs": [
        {
          "output_type": "stream",
          "name": "stdout",
          "text": [
            "apples\n",
            "oranges\n",
            "grapes\n",
            "banana\n"
          ]
        }
      ]
    },
    {
      "cell_type": "code",
      "source": [
        "for item,qty in inventory.items():\n",
        "  if qty<30:\n",
        "    print(f\"{item} need to be restocked\")\n",
        "  else:\n",
        "    print(f\"{item} in stock\")\n",
        ""
      ],
      "metadata": {
        "colab": {
          "base_uri": "https://localhost:8080/"
        },
        "id": "dyvNnJCi5nMm",
        "outputId": "1332d5db-71e9-4cc5-c022-3aa490a51774"
      },
      "execution_count": 87,
      "outputs": [
        {
          "output_type": "stream",
          "name": "stdout",
          "text": [
            "apples in stock\n",
            "oranges in stock\n",
            "grapes need to be restocked\n",
            "banana in stock\n"
          ]
        }
      ]
    },
    {
      "cell_type": "code",
      "source": [
        "for item in inventory.items():\n",
        "  itemname,qty=item\n",
        "  if qty<30:\n",
        "    print(f\"{itemname} need to be restocked\")\n",
        "  else:\n",
        "    print(f\"{itemname} in stock\")"
      ],
      "metadata": {
        "colab": {
          "base_uri": "https://localhost:8080/"
        },
        "id": "h48B_0d66FBT",
        "outputId": "8cce9775-e396-4b9e-b2fd-5e2b524efaad"
      },
      "execution_count": 88,
      "outputs": [
        {
          "output_type": "stream",
          "name": "stdout",
          "text": [
            "apples in stock\n",
            "oranges in stock\n",
            "grapes need to be restocked\n",
            "banana in stock\n"
          ]
        }
      ]
    },
    {
      "cell_type": "code",
      "source": [
        "for item in inventory.items():\n",
        " itemname=item[0]\n",
        " qty=item[1]\n",
        " if qty<30:\n",
        "    print(f\"{itemname} need to be restocked\")\n",
        " else:\n",
        "    print(f\"{itemname} in stock\")"
      ],
      "metadata": {
        "colab": {
          "base_uri": "https://localhost:8080/"
        },
        "id": "XJ77fkfl6ZXe",
        "outputId": "a8e51b5c-ad5e-4711-ecb8-8dcf1b35c74f"
      },
      "execution_count": 89,
      "outputs": [
        {
          "output_type": "stream",
          "name": "stdout",
          "text": [
            "apples in stock\n",
            "oranges in stock\n",
            "grapes need to be restocked\n",
            "banana in stock\n"
          ]
        }
      ]
    },
    {
      "cell_type": "code",
      "source": [
        "marks = {\"Vibesh\": 30, \"Sreya\": 82, \"Anil\": 74, \"Vidya\": 25, \"Ami\": 40}\n",
        "\n",
        "for name in marks:\n",
        "    if marks[name] < 40:\n",
        "        print(name, \"Fail\")\n",
        "    else:\n",
        "        print(name, \"Pass\")\n"
      ],
      "metadata": {
        "colab": {
          "base_uri": "https://localhost:8080/"
        },
        "id": "Q8gQgIjr6le5",
        "outputId": "ef178fba-af04-4ae0-e3b3-712ee10644e7"
      },
      "execution_count": 91,
      "outputs": [
        {
          "output_type": "stream",
          "name": "stdout",
          "text": [
            "Vibesh Fail\n",
            "Sreya Pass\n",
            "Anil Pass\n",
            "Vidya Fail\n",
            "Ami Pass\n"
          ]
        }
      ]
    },
    {
      "cell_type": "code",
      "source": [
        "grade={\n",
        "    \"Vibesh\":30, \"Sreya\":82, \"Anil\":74, \"Vidya\":25, \"Ami\":40\n",
        "}\n",
        "for name,marks in grade.items():\n",
        "  if marks<40:\n",
        "    print(name, marks,\"Fail\")\n",
        "  else:\n",
        "    print(name, marks,\"Pass\")"
      ],
      "metadata": {
        "colab": {
          "base_uri": "https://localhost:8080/"
        },
        "id": "vZGc6-HZ7lf0",
        "outputId": "b0e1e8d0-31ce-43da-b79c-28017aa63575"
      },
      "execution_count": 94,
      "outputs": [
        {
          "output_type": "stream",
          "name": "stdout",
          "text": [
            "Vibesh 30 Fail\n",
            "Sreya 82 Pass\n",
            "Anil 74 Pass\n",
            "Vidya 25 Fail\n",
            "Ami 40 Pass\n"
          ]
        }
      ]
    },
    {
      "cell_type": "code",
      "source": [
        "ABCCompany= {\n",
        "    \"IT\":{\"Anna\":35000,\n",
        "          \"Akshay\":45000},\n",
        "    \"HR\":{\"Mahi\":23000,\n",
        "          \"Sanjana\":30000},\n",
        "    \"Sales\":{\"Rakesh\":40000,\n",
        "              \"Abhi\":25000}\n",
        "            }\n",
        "ABCCompany[\"Sales\"]"
      ],
      "metadata": {
        "colab": {
          "base_uri": "https://localhost:8080/"
        },
        "id": "0Lb1ctf48RJA",
        "outputId": "d5276bef-582e-4eb6-fb26-6cabaa5deb40"
      },
      "execution_count": 100,
      "outputs": [
        {
          "output_type": "execute_result",
          "data": {
            "text/plain": [
              "{'Rakesh': 40000, 'Abhi': 25000}"
            ]
          },
          "metadata": {},
          "execution_count": 100
        }
      ]
    },
    {
      "cell_type": "code",
      "source": [
        "for dept,employees in ABCCompany.items():\n",
        "  for name,sal in employees.items():\n",
        "    if sal<30000:\n",
        "      print(dept, name, sal)\n",
        "\n",
        ""
      ],
      "metadata": {
        "colab": {
          "base_uri": "https://localhost:8080/"
        },
        "id": "ESXslhw19VGk",
        "outputId": "2752e1c2-4ba8-471e-b833-3f657c159dc3"
      },
      "execution_count": 131,
      "outputs": [
        {
          "output_type": "stream",
          "name": "stdout",
          "text": [
            "HR Mahi 23000\n",
            "Sales Abhi 25000\n"
          ]
        }
      ]
    },
    {
      "cell_type": "code",
      "source": [
        "for i in range(1,10):\n",
        "  #print(i*1)\n",
        "  #print(i*2)\n",
        "  for j in range(1,11):\n",
        "    print(f\"{i}*{j}={i*j}\")\n",
        "    print(\"---------\")"
      ],
      "metadata": {
        "colab": {
          "base_uri": "https://localhost:8080/"
        },
        "id": "zM9oAnsx-Osf",
        "outputId": "c4987b6c-a0bd-4161-bf5d-1cbd2b7b1a0f"
      },
      "execution_count": 141,
      "outputs": [
        {
          "output_type": "stream",
          "name": "stdout",
          "text": [
            "1*1=1\n",
            "---------\n",
            "1*2=2\n",
            "---------\n",
            "1*3=3\n",
            "---------\n",
            "1*4=4\n",
            "---------\n",
            "1*5=5\n",
            "---------\n",
            "1*6=6\n",
            "---------\n",
            "1*7=7\n",
            "---------\n",
            "1*8=8\n",
            "---------\n",
            "1*9=9\n",
            "---------\n",
            "1*10=10\n",
            "---------\n",
            "2*1=2\n",
            "---------\n",
            "2*2=4\n",
            "---------\n",
            "2*3=6\n",
            "---------\n",
            "2*4=8\n",
            "---------\n",
            "2*5=10\n",
            "---------\n",
            "2*6=12\n",
            "---------\n",
            "2*7=14\n",
            "---------\n",
            "2*8=16\n",
            "---------\n",
            "2*9=18\n",
            "---------\n",
            "2*10=20\n",
            "---------\n",
            "3*1=3\n",
            "---------\n",
            "3*2=6\n",
            "---------\n",
            "3*3=9\n",
            "---------\n",
            "3*4=12\n",
            "---------\n",
            "3*5=15\n",
            "---------\n",
            "3*6=18\n",
            "---------\n",
            "3*7=21\n",
            "---------\n",
            "3*8=24\n",
            "---------\n",
            "3*9=27\n",
            "---------\n",
            "3*10=30\n",
            "---------\n",
            "4*1=4\n",
            "---------\n",
            "4*2=8\n",
            "---------\n",
            "4*3=12\n",
            "---------\n",
            "4*4=16\n",
            "---------\n",
            "4*5=20\n",
            "---------\n",
            "4*6=24\n",
            "---------\n",
            "4*7=28\n",
            "---------\n",
            "4*8=32\n",
            "---------\n",
            "4*9=36\n",
            "---------\n",
            "4*10=40\n",
            "---------\n",
            "5*1=5\n",
            "---------\n",
            "5*2=10\n",
            "---------\n",
            "5*3=15\n",
            "---------\n",
            "5*4=20\n",
            "---------\n",
            "5*5=25\n",
            "---------\n",
            "5*6=30\n",
            "---------\n",
            "5*7=35\n",
            "---------\n",
            "5*8=40\n",
            "---------\n",
            "5*9=45\n",
            "---------\n",
            "5*10=50\n",
            "---------\n",
            "6*1=6\n",
            "---------\n",
            "6*2=12\n",
            "---------\n",
            "6*3=18\n",
            "---------\n",
            "6*4=24\n",
            "---------\n",
            "6*5=30\n",
            "---------\n",
            "6*6=36\n",
            "---------\n",
            "6*7=42\n",
            "---------\n",
            "6*8=48\n",
            "---------\n",
            "6*9=54\n",
            "---------\n",
            "6*10=60\n",
            "---------\n",
            "7*1=7\n",
            "---------\n",
            "7*2=14\n",
            "---------\n",
            "7*3=21\n",
            "---------\n",
            "7*4=28\n",
            "---------\n",
            "7*5=35\n",
            "---------\n",
            "7*6=42\n",
            "---------\n",
            "7*7=49\n",
            "---------\n",
            "7*8=56\n",
            "---------\n",
            "7*9=63\n",
            "---------\n",
            "7*10=70\n",
            "---------\n",
            "8*1=8\n",
            "---------\n",
            "8*2=16\n",
            "---------\n",
            "8*3=24\n",
            "---------\n",
            "8*4=32\n",
            "---------\n",
            "8*5=40\n",
            "---------\n",
            "8*6=48\n",
            "---------\n",
            "8*7=56\n",
            "---------\n",
            "8*8=64\n",
            "---------\n",
            "8*9=72\n",
            "---------\n",
            "8*10=80\n",
            "---------\n",
            "9*1=9\n",
            "---------\n",
            "9*2=18\n",
            "---------\n",
            "9*3=27\n",
            "---------\n",
            "9*4=36\n",
            "---------\n",
            "9*5=45\n",
            "---------\n",
            "9*6=54\n",
            "---------\n",
            "9*7=63\n",
            "---------\n",
            "9*8=72\n",
            "---------\n",
            "9*9=81\n",
            "---------\n",
            "9*10=90\n",
            "---------\n"
          ]
        }
      ]
    },
    {
      "cell_type": "code",
      "source": [
        "count = 1\n",
        "while count<10:\n",
        "  print(\"Hello\",count)\n",
        "  count +=3\n",
        "else:\n",
        "  print(\"While loop completed\")"
      ],
      "metadata": {
        "colab": {
          "base_uri": "https://localhost:8080/"
        },
        "id": "fHseSL7wBOTF",
        "outputId": "3f28e353-5a56-45c1-8dcc-4ff7d35a3c8e"
      },
      "execution_count": 3,
      "outputs": [
        {
          "output_type": "stream",
          "name": "stdout",
          "text": [
            "Hello 1\n",
            "Hello 4\n",
            "Hello 7\n",
            "While loop completed\n"
          ]
        }
      ]
    },
    {
      "cell_type": "code",
      "source": [
        "# Ask the user for savings goal\n",
        "goal = float(input(\"Enter your savings goal amount: \"))\n",
        "\n",
        "total_savings = 0\n",
        "\n",
        "# Keep adding until goal is reached\n",
        "while total_savings < goal:\n",
        "    deposit = float(input(\"Enter amount to deposit: \"))\n",
        "    total_savings += deposit\n",
        "    print(\"Current savings:\", total_savings)\n",
        "\n",
        "if total_savings >= goal:\n",
        "    print(\"🎉 Congratulations! You have reached your savings goal of\", goal)\n"
      ],
      "metadata": {
        "colab": {
          "base_uri": "https://localhost:8080/"
        },
        "id": "TjexV7slE3n8",
        "outputId": "15cb2938-9174-4c7d-9028-dd8ca83a53d9"
      },
      "execution_count": 4,
      "outputs": [
        {
          "output_type": "stream",
          "name": "stdout",
          "text": [
            "Enter your savings goal amount: 3000\n",
            "Enter amount to deposit: 150\n",
            "Current savings: 150.0\n",
            "Enter amount to deposit: 300\n",
            "Current savings: 450.0\n",
            "Enter amount to deposit: 300\n",
            "Current savings: 750.0\n",
            "Enter amount to deposit: 400\n",
            "Current savings: 1150.0\n",
            "Enter amount to deposit: 200\n",
            "Current savings: 1350.0\n",
            "Enter amount to deposit: 300\n",
            "Current savings: 1650.0\n",
            "Enter amount to deposit: 433\n",
            "Current savings: 2083.0\n",
            "Enter amount to deposit: 222\n",
            "Current savings: 2305.0\n",
            "Enter amount to deposit: 222\n",
            "Current savings: 2527.0\n",
            "Enter amount to deposit: 333\n",
            "Current savings: 2860.0\n",
            "Enter amount to deposit: 444\n",
            "Current savings: 3304.0\n",
            "🎉 Congratulations! You have reached your savings goal of 3000.0\n"
          ]
        }
      ]
    },
    {
      "cell_type": "code",
      "source": [
        "goal=float(input(\"Enter your savings goal amount: \"))\n",
        "total_savings=0\n",
        "\n",
        "while total_savings<goal:\n",
        "  amount=int(input(\"enter your deposit amount\"))\n",
        "  total_savings+=amount\n",
        "  if total_savings<goal:\n",
        "    balance = goal-total_savings\n",
        "    print(f\"you need {balance} rupees to reach your goal\")\n",
        "  else:\n",
        "    print(\"you have reached your goal\")"
      ],
      "metadata": {
        "colab": {
          "base_uri": "https://localhost:8080/"
        },
        "id": "XovcngTeHCQu",
        "outputId": "b132548b-8914-4be8-9542-f4d41bce55cf"
      },
      "execution_count": 7,
      "outputs": [
        {
          "output_type": "stream",
          "name": "stdout",
          "text": [
            "Enter your savings goal amount: 2000\n",
            "enter your deposit amount200\n",
            "you need 1800.0 rupees to reach your goal\n",
            "enter your deposit amount400\n",
            "you need 1400.0 rupees to reach your goal\n",
            "enter your deposit amount200\n",
            "you need 1200.0 rupees to reach your goal\n",
            "enter your deposit amount1200\n",
            "you have reached your goal\n"
          ]
        }
      ]
    },
    {
      "cell_type": "code",
      "source": [],
      "metadata": {
        "id": "SdhvD4KrIEPW"
      },
      "execution_count": null,
      "outputs": []
    }
  ]
}