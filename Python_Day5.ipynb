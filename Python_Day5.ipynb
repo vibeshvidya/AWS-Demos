{
  "nbformat": 4,
  "nbformat_minor": 0,
  "metadata": {
    "colab": {
      "provenance": [],
      "authorship_tag": "ABX9TyNdMAUXRzym8td3rvbz+Pee",
      "include_colab_link": true
    },
    "kernelspec": {
      "name": "python3",
      "display_name": "Python 3"
    },
    "language_info": {
      "name": "python"
    }
  },
  "cells": [
    {
      "cell_type": "markdown",
      "metadata": {
        "id": "view-in-github",
        "colab_type": "text"
      },
      "source": [
        "<a href=\"https://colab.research.google.com/github/vibeshvidya/AWS-Demos/blob/master/Python_Day5.ipynb\" target=\"_parent\"><img src=\"https://colab.research.google.com/assets/colab-badge.svg\" alt=\"Open In Colab\"/></a>"
      ]
    },
    {
      "cell_type": "code",
      "execution_count": 1,
      "metadata": {
        "colab": {
          "base_uri": "https://localhost:8080/"
        },
        "id": "z2u5u-09gAia",
        "outputId": "1880d19b-3136-43f0-cea8-cc5edf0704b1"
      },
      "outputs": [
        {
          "output_type": "stream",
          "name": "stdout",
          "text": [
            "0\n",
            "1\n",
            "2\n",
            "3\n",
            "4\n",
            "5\n",
            "6\n",
            "7\n",
            "8\n",
            "9\n"
          ]
        }
      ],
      "source": [
        "#for temp_var in sequence:\n",
        "\t#body of for\n",
        "\n",
        "for num in range(10):\n",
        "\tprint(num)"
      ]
    },
    {
      "cell_type": "code",
      "source": [
        "for num in range(1,11):\n",
        "\tprint(num)"
      ],
      "metadata": {
        "colab": {
          "base_uri": "https://localhost:8080/"
        },
        "id": "lAbpIeJBkaqM",
        "outputId": "bafbbb55-3dbc-433f-fd96-b225ce6f8bd2"
      },
      "execution_count": 3,
      "outputs": [
        {
          "output_type": "stream",
          "name": "stdout",
          "text": [
            "1\n",
            "2\n",
            "3\n",
            "4\n",
            "5\n",
            "6\n",
            "7\n",
            "8\n",
            "9\n",
            "10\n"
          ]
        }
      ]
    },
    {
      "cell_type": "code",
      "source": [
        "for num in range(1,10,3):\n",
        "\tprint(num)"
      ],
      "metadata": {
        "colab": {
          "base_uri": "https://localhost:8080/"
        },
        "id": "NhwR_M31kfyX",
        "outputId": "283ba705-6a30-4715-ac19-63e2bc49f240"
      },
      "execution_count": 6,
      "outputs": [
        {
          "output_type": "stream",
          "name": "stdout",
          "text": [
            "1\n",
            "4\n",
            "7\n"
          ]
        }
      ]
    },
    {
      "cell_type": "code",
      "source": [
        "for num in range(1,25):\n",
        "\tif num%2 == 0:\n",
        "\t  print(num)"
      ],
      "metadata": {
        "colab": {
          "base_uri": "https://localhost:8080/"
        },
        "id": "0zHv0tkZlZsy",
        "outputId": "772bb7d2-1183-4058-8005-63afda81f771"
      },
      "execution_count": 8,
      "outputs": [
        {
          "output_type": "stream",
          "name": "stdout",
          "text": [
            "2\n",
            "4\n",
            "6\n",
            "8\n",
            "10\n",
            "12\n",
            "14\n",
            "16\n",
            "18\n",
            "20\n",
            "22\n",
            "24\n"
          ]
        }
      ]
    },
    {
      "cell_type": "code",
      "source": [
        "for num in range(1,25):\n",
        "\tif num%2 == 0 and num%5 ==0:\n",
        "\t  print(num)"
      ],
      "metadata": {
        "colab": {
          "base_uri": "https://localhost:8080/"
        },
        "id": "NYn2F6tmmdES",
        "outputId": "6455d3c9-346d-48d1-ed3b-ced4db8ed0db"
      },
      "execution_count": 18,
      "outputs": [
        {
          "output_type": "stream",
          "name": "stdout",
          "text": [
            "10\n",
            "20\n"
          ]
        }
      ]
    },
    {
      "cell_type": "code",
      "source": [
        "for num in range(1,25):\n",
        "\tif num%2 == 0:\n",
        "\t  print(num)"
      ],
      "metadata": {
        "colab": {
          "base_uri": "https://localhost:8080/"
        },
        "id": "Y5JcuhiRm4c9",
        "outputId": "c1be9e29-f8ea-4b98-ec26-9c610476a755"
      },
      "execution_count": 19,
      "outputs": [
        {
          "output_type": "stream",
          "name": "stdout",
          "text": [
            "2\n",
            "4\n",
            "6\n",
            "8\n",
            "10\n",
            "12\n",
            "14\n",
            "16\n",
            "18\n",
            "20\n",
            "22\n",
            "24\n"
          ]
        }
      ]
    },
    {
      "cell_type": "code",
      "source": [
        "numbers= [1,3,5,7,8,10]\n",
        "for num in numbers:\n",
        "  if num==8:\n",
        "    break\n",
        "  else:\n",
        "    print(num)"
      ],
      "metadata": {
        "colab": {
          "base_uri": "https://localhost:8080/"
        },
        "id": "V2qbtdepng_o",
        "outputId": "d7c0cf8d-64ca-46bb-96ce-816d4ff26d43"
      },
      "execution_count": 24,
      "outputs": [
        {
          "output_type": "stream",
          "name": "stdout",
          "text": [
            "1\n",
            "3\n",
            "5\n",
            "7\n"
          ]
        }
      ]
    },
    {
      "cell_type": "code",
      "source": [
        "numbers=[20,-13,25,10,-3,8,-6,15]\n",
        "for num in numbers:\n",
        "    if num<0:\n",
        "      continue\n",
        "    else:\n",
        "      print(num)"
      ],
      "metadata": {
        "colab": {
          "base_uri": "https://localhost:8080/"
        },
        "id": "xONVzCQan226",
        "outputId": "939cdee2-a8a9-4e11-af98-72f7f05db122"
      },
      "execution_count": 34,
      "outputs": [
        {
          "output_type": "stream",
          "name": "stdout",
          "text": [
            "20\n",
            "25\n",
            "10\n",
            "8\n",
            "15\n"
          ]
        }
      ]
    },
    {
      "cell_type": "code",
      "source": [],
      "metadata": {
        "id": "S-3thOgbpJO2"
      },
      "execution_count": 37,
      "outputs": []
    },
    {
      "cell_type": "code",
      "source": [
        "numbers=[0,2,0,3]\n",
        "for i in numbers:\n",
        "  if i ==0:\n",
        "    continue\n",
        "  else:\n",
        "    print(i**2)"
      ],
      "metadata": {
        "colab": {
          "base_uri": "https://localhost:8080/"
        },
        "id": "RWLt3em1qG2e",
        "outputId": "05517de7-6bde-4fd4-ed95-ddf1670174a7"
      },
      "execution_count": 42,
      "outputs": [
        {
          "output_type": "stream",
          "name": "stdout",
          "text": [
            "4\n",
            "9\n"
          ]
        }
      ]
    },
    {
      "cell_type": "code",
      "source": [
        "numbers=[0,2,0,3]\n",
        "for i in numbers:\n",
        "  if i ==0:\n",
        "    pass\n",
        "  else:\n",
        "    print(i**2)"
      ],
      "metadata": {
        "colab": {
          "base_uri": "https://localhost:8080/"
        },
        "id": "gOggN9gjqnoN",
        "outputId": "e1f63a83-07b9-4cd1-f434-546f4ca0b532"
      },
      "execution_count": 45,
      "outputs": [
        {
          "output_type": "stream",
          "name": "stdout",
          "text": [
            "4\n",
            "9\n"
          ]
        }
      ]
    },
    {
      "cell_type": "code",
      "metadata": {
        "colab": {
          "base_uri": "https://localhost:8080/"
        },
        "id": "adc30d27",
        "outputId": "cc7bb04f-aab4-48e0-8554-e9d05bbde506"
      },
      "source": [
        "for i in range(5):\n",
        "  if i == 3:\n",
        "    pass  # Do nothing when i is 2\n",
        "  else:\n",
        "    print(i)"
      ],
      "execution_count": 47,
      "outputs": [
        {
          "output_type": "stream",
          "name": "stdout",
          "text": [
            "0\n",
            "1\n",
            "2\n",
            "4\n"
          ]
        }
      ]
    },
    {
      "cell_type": "code",
      "source": [
        "names=[\"Remays\",\"Krishna\",\"Bala\",\"Verni\",\"Kripa\",\"Tarun\"]\n",
        "for name in names:\n",
        "  if name.startswith(\"K\"):\n",
        "    print(name)"
      ],
      "metadata": {
        "colab": {
          "base_uri": "https://localhost:8080/"
        },
        "id": "ZPfY-NKrsZqF",
        "outputId": "cfb92ac2-4770-448b-e703-c727a1202ca8"
      },
      "execution_count": 49,
      "outputs": [
        {
          "output_type": "stream",
          "name": "stdout",
          "text": [
            "Krishna\n",
            "Kripa\n"
          ]
        }
      ]
    },
    {
      "cell_type": "code",
      "source": [
        "days=[\"mon\",\"tue\",\"wed\",\"thurs\",\"frid\",\"sat\",\"sun\"]\n",
        "weekend=[\"sat\",\"sun\"]\n",
        "for day in days:\n",
        "  if day in weekend:\n",
        "    print(day,\"is weekend\")\n",
        "  else:\n",
        "    print(day,\"is weekday\")"
      ],
      "metadata": {
        "colab": {
          "base_uri": "https://localhost:8080/"
        },
        "id": "BGpGEXZ7s38l",
        "outputId": "c029c413-53b7-4308-a66e-872ef776d680"
      },
      "execution_count": 50,
      "outputs": [
        {
          "output_type": "stream",
          "name": "stdout",
          "text": [
            "mon is weekday\n",
            "tue is weekday\n",
            "wed is weekday\n",
            "thurs is weekday\n",
            "frid is weekday\n",
            "sat is weekend\n",
            "sun is weekend\n"
          ]
        }
      ]
    },
    {
      "cell_type": "code",
      "source": [
        "grocery_list = [\"vegetables\", \"chicken\", \"eggs\", \"powder\", \"sugar\",\n",
        "                \"salt\", \"oil\", \"tea\", \"mineral water\", \"coffee\"]\n",
        "\n",
        "new_items = [\"vegetables\", \"chicken\", \"eggs\", \"powder\", \"sugar\",\n",
        "                \"salt\", \"oil\"]\n",
        "\n",
        "for item in grocery_list:\n",
        "    if item in new_items:\n",
        "        print(item, \"Bought\")\n",
        "    else:\n",
        "        print(item, \"Forgot to buy\")"
      ],
      "metadata": {
        "colab": {
          "base_uri": "https://localhost:8080/"
        },
        "id": "Vchc2SuIt3gy",
        "outputId": "e3825807-06c6-49e9-ef8b-4afd0966d44f"
      },
      "execution_count": 66,
      "outputs": [
        {
          "output_type": "stream",
          "name": "stdout",
          "text": [
            "vegetables Bought\n",
            "chicken Bought\n",
            "eggs Bought\n",
            "powder Bought\n",
            "sugar Bought\n",
            "salt Bought\n",
            "oil Bought\n",
            "tea Forgot to buy\n",
            "mineral water Forgot to buy\n",
            "coffee Forgot to buy\n"
          ]
        }
      ]
    },
    {
      "cell_type": "code",
      "source": [],
      "metadata": {
        "id": "RX8Ui7M_wVOC"
      },
      "execution_count": null,
      "outputs": []
    }
  ]
}