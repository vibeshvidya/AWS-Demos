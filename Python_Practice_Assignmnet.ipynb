{
  "nbformat": 4,
  "nbformat_minor": 0,
  "metadata": {
    "colab": {
      "provenance": [],
      "authorship_tag": "ABX9TyPbuUhytzMeyWwIdNgFRl4+",
      "include_colab_link": true
    },
    "kernelspec": {
      "name": "python3",
      "display_name": "Python 3"
    },
    "language_info": {
      "name": "python"
    }
  },
  "cells": [
    {
      "cell_type": "markdown",
      "metadata": {
        "id": "view-in-github",
        "colab_type": "text"
      },
      "source": [
        "<a href=\"https://colab.research.google.com/github/vibeshvidya/AWS-Demos/blob/master/Python_Practice_Assignmnet.ipynb\" target=\"_parent\"><img src=\"https://colab.research.google.com/assets/colab-badge.svg\" alt=\"Open In Colab\"/></a>"
      ]
    },
    {
      "cell_type": "code",
      "execution_count": 11,
      "metadata": {
        "colab": {
          "base_uri": "https://localhost:8080/"
        },
        "id": "q__ixgCdcaJY",
        "outputId": "b1b3a9a4-a04d-41b5-ca9d-289d5d63619e"
      },
      "outputs": [
        {
          "output_type": "stream",
          "name": "stdout",
          "text": [
            "{'Milk': 45, 'Bread': 30, 'Eggs': 60, 'Butter': 150}\n",
            "{'Milk': 45, 'Bread': 30, 'Eggs': 60, 'Butter': 150, 'Chicken': 250}\n"
          ]
        }
      ],
      "source": [
        "#Task: Shopping Cart System (Dictionary Practice) Problem Statement:\n",
        "#You are building a small shopping cart system where each item has a name (key) and a price (value). The user should be able to:\n",
        "#Add new items to the cart.\n",
        "\n",
        "cart={ \"Milk\": 45, \"Bread\": 30, \"Eggs\": 60, \"Butter\": 150 }\n",
        "print(cart)\n",
        "#to add new item\n",
        "cart['Chicken'] = 250\n",
        "print(cart)\n",
        "\n"
      ]
    },
    {
      "cell_type": "code",
      "source": [
        "#Update the price of an item.\n",
        "\n",
        "print(cart)\n",
        "cart['Milk'] = 50\n",
        "print(cart)\n",
        "\n"
      ],
      "metadata": {
        "colab": {
          "base_uri": "https://localhost:8080/"
        },
        "id": "k8opWfzcchnv",
        "outputId": "aae17d56-aada-4769-8b3a-9f7dae031a3c"
      },
      "execution_count": 13,
      "outputs": [
        {
          "output_type": "stream",
          "name": "stdout",
          "text": [
            "{'Milk': 45, 'Bread': 30, 'Eggs': 60, 'Butter': 150, 'Chicken': 250}\n",
            "{'Milk': 50, 'Bread': 30, 'Eggs': 60, 'Butter': 150, 'Chicken': 250}\n"
          ]
        }
      ]
    },
    {
      "cell_type": "code",
      "source": [
        "#Remove an item from the cart.\n",
        "print(cart)\n",
        "cart.pop('Butter')\n",
        "print(cart)"
      ],
      "metadata": {
        "colab": {
          "base_uri": "https://localhost:8080/"
        },
        "id": "qGUxWVi9eADZ",
        "outputId": "d992a3c4-24e2-481c-c3e2-d36a84899490"
      },
      "execution_count": 15,
      "outputs": [
        {
          "output_type": "stream",
          "name": "stdout",
          "text": [
            "{'Milk': 50, 'Bread': 30, 'Eggs': 60, 'Butter': 150, 'Chicken': 250}\n",
            "{'Milk': 50, 'Bread': 30, 'Eggs': 60, 'Chicken': 250}\n"
          ]
        }
      ]
    },
    {
      "cell_type": "code",
      "source": [
        "#Find the total number of items in the cart.\n",
        "print(cart)\n",
        "print(len(cart))"
      ],
      "metadata": {
        "colab": {
          "base_uri": "https://localhost:8080/"
        },
        "id": "BMl4xRuweMdg",
        "outputId": "9c6b9924-9f07-46e3-e062-b58dede7eea8"
      },
      "execution_count": 16,
      "outputs": [
        {
          "output_type": "stream",
          "name": "stdout",
          "text": [
            "{'Milk': 50, 'Bread': 30, 'Eggs': 60, 'Chicken': 250}\n",
            "4\n"
          ]
        }
      ]
    },
    {
      "cell_type": "code",
      "source": [
        "#Get the total bill amount.\n",
        "print(cart)\n",
        "total_bill=sum(cart.values())\n",
        "print(total_bill)"
      ],
      "metadata": {
        "colab": {
          "base_uri": "https://localhost:8080/"
        },
        "id": "QDaLdGQaeU36",
        "outputId": "42a83c51-96bf-4802-dbb8-cf8f863bbac7"
      },
      "execution_count": 19,
      "outputs": [
        {
          "output_type": "stream",
          "name": "stdout",
          "text": [
            "{'Milk': 50, 'Bread': 30, 'Eggs': 60, 'Chicken': 250}\n",
            "390\n"
          ]
        }
      ]
    },
    {
      "cell_type": "code",
      "source": [
        "#Check if a particular item is in the cart.\n",
        "\n",
        "print(cart)\n",
        "if 'Eggs' in cart:\n",
        "    print(\"Eggs is in the cart\")\n",
        "else:\n",
        "    print(\"Eggs is not in the cart\")"
      ],
      "metadata": {
        "colab": {
          "base_uri": "https://localhost:8080/"
        },
        "id": "Z5lb4_a0eorr",
        "outputId": "555778e5-d583-469b-db71-f92cb5577e84"
      },
      "execution_count": 20,
      "outputs": [
        {
          "output_type": "stream",
          "name": "stdout",
          "text": [
            "{'Milk': 50, 'Bread': 30, 'Eggs': 60, 'Chicken': 250}\n",
            "Eggs is in the cart\n"
          ]
        }
      ]
    },
    {
      "cell_type": "code",
      "source": [],
      "metadata": {
        "id": "ShgTlcdHfIP3"
      },
      "execution_count": null,
      "outputs": []
    }
  ]
}